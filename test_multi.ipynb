{
 "cells": [
  {
   "cell_type": "code",
   "execution_count": 2,
   "metadata": {},
   "outputs": [],
   "source": [
    "from openbox.benchmark.objective_functions.synthetic import CONSTR\n",
    "\n",
    "prob = CONSTR()\n",
    "dim = 2\n",
    "initial_runs = 2 * (dim + 1)"
   ]
  },
  {
   "cell_type": "code",
   "execution_count": 3,
   "outputs": [
    {
     "name": "stdout",
     "output_type": "stream",
     "text": [
      "2 2\n"
     ]
    }
   ],
   "source": [
    "print(prob.num_objs, prob.num_constraints)"
   ],
   "metadata": {
    "collapsed": false,
    "pycharm": {
     "name": "#%%\n"
    }
   }
  },
  {
   "cell_type": "code",
   "execution_count": 3,
   "metadata": {},
   "outputs": [],
   "source": [
    "import numpy as np\n",
    "from openbox import sp\n",
    "params = {'x1': (0.1, 10.0),\n",
    "          'x2': (0.0, 5.0)}\n",
    "space = sp.Space()\n",
    "space.add_variables([sp.Real(k, *v) for k, v in params.items()])\n",
    "\n",
    "def objective_funtion(config: sp.Configuration):\n",
    "    X = np.array(list(config.get_dictionary().values()))\n",
    "\n",
    "    result = dict()\n",
    "    obj1 = X[..., 0]\n",
    "    obj2 = (1.0 + X[..., 1]) / X[..., 0]\n",
    "    result['objs'] = np.stack([obj1, obj2], axis=-1)\n",
    "\n",
    "    c1 = 6.0 - 9.0 * X[..., 0] - X[..., 1]\n",
    "    c2 = 1.0 - 9.0 * X[..., 0] + X[..., 1]\n",
    "    result['constraints'] = np.stack([c1, c2], axis=-1)\n",
    "\n",
    "    return result"
   ]
  },
  {
   "cell_type": "code",
   "execution_count": 5,
   "metadata": {},
   "outputs": [
    {
     "name": "stdout",
     "output_type": "stream",
     "text": [
      "[INFO] [2022-11-06 13:30:14,640] [Advisor] === [BO auto selection] === acq_type: eic.\n"
     ]
    },
    {
     "name": "stderr",
     "output_type": "stream",
     "text": [
      "  0%|          | 0/10 [00:00<?, ?it/s]"
     ]
    },
    {
     "name": "stdout",
     "output_type": "stream",
     "text": [
      "[INFO] [2022-11-06 13:30:14,648] [OpenBox-soc_2] Iteration 1, objective value: [3.8715946724839236]. constraints: [-21.9375].\n",
      "[INFO] [2022-11-06 13:30:14,649] [OpenBox-soc_2] Iteration 2, objective value: [12.20058992748573]. constraints: [-0.6084188276412377].\n",
      "[INFO] [2022-11-06 13:30:14,650] [OpenBox-soc_2] Iteration 3, objective value: [23.901828860305038]. constraints: [-9.688424637441255].\n",
      "[INFO] [2022-11-06 13:30:15,367] [OpenBox-soc_2] Iteration 4, objective value: [4.48782271726413]. constraints: [-21.125493085601523].\n"
     ]
    },
    {
     "name": "stderr",
     "output_type": "stream",
     "text": [
      " 40%|████      | 4/10 [00:00<00:01,  5.55it/s]"
     ]
    },
    {
     "name": "stdout",
     "output_type": "stream",
     "text": [
      "Iteration 5, Save history to bo_history_soc_2.json\n",
      "Iteration 5, Save history to visual_bo_history_soc_2.json\n",
      "[INFO] [2022-11-06 13:30:15,990] [OpenBox-soc_2] Iteration 5, objective value: [1.6733831527190712]. constraints: [-24.934533449789466].\n"
     ]
    },
    {
     "name": "stderr",
     "output_type": "stream",
     "text": [
      " 50%|█████     | 5/10 [00:01<00:01,  3.37it/s]"
     ]
    },
    {
     "name": "stdout",
     "output_type": "stream",
     "text": [
      "[INFO] [2022-11-06 13:30:16,709] [OpenBox-soc_2] Iteration 6, objective value: [7.080250006288408]. constraints: [-21.951152299471524].\n"
     ]
    },
    {
     "name": "stderr",
     "output_type": "stream",
     "text": [
      " 60%|██████    | 6/10 [00:02<00:01,  2.43it/s]"
     ]
    },
    {
     "name": "stdout",
     "output_type": "stream",
     "text": [
      "[INFO] [2022-11-06 13:30:17,344] [OpenBox-soc_2] Iteration 7, objective value: [3.1851006280049314]. constraints: [-22.749016732231038].\n"
     ]
    },
    {
     "name": "stderr",
     "output_type": "stream",
     "text": [
      " 70%|███████   | 7/10 [00:02<00:01,  2.11it/s]"
     ]
    },
    {
     "name": "stdout",
     "output_type": "stream",
     "text": [
      "[INFO] [2022-11-06 13:30:17,346] [Advisor] Sample random config. rand_prob=0.100000.\n",
      "[INFO] [2022-11-06 13:30:17,347] [OpenBox-soc_2] Iteration 8, objective value: [-39.67088102745886]. constraints: [-3.219447943483761].\n",
      "[INFO] [2022-11-06 13:30:18,085] [OpenBox-soc_2] Iteration 9, objective value: [-6.207260019382091]. constraints: [3.6193929063386747].\n"
     ]
    },
    {
     "name": "stderr",
     "output_type": "stream",
     "text": [
      " 90%|█████████ | 9/10 [00:03<00:00,  2.33it/s]"
     ]
    },
    {
     "name": "stdout",
     "output_type": "stream",
     "text": [
      "Iteration 10, Save history to bo_history_soc_2.json\n",
      "[-21.9375, -0.6084188276412377, -9.688424637441255, -21.125493085601523, -24.934533449789466, -21.951152299471524, -22.749016732231038, -3.219447943483761, 3.6193929063386747, -4.075338505310079]\n",
      "[-21.94663374438786, -17.266923767919106, -14.825638755965908, -21.09198250323957, -24.26062849749327, -17.793660941987802, -22.838684747835185, -2.692136299031951, 0.055356576555219306, -4.628193944045904]\n",
      "Iteration 10, Save history to visual_bo_history_soc_2.json\n",
      "[INFO] [2022-11-06 13:30:20,483] [OpenBox-soc_2] Iteration 10, objective value: [-42.14659747060113]. constraints: [-4.075338505310079].\n"
     ]
    },
    {
     "name": "stderr",
     "output_type": "stream",
     "text": [
      "100%|██████████| 10/10 [00:05<00:00,  1.71it/s]\n"
     ]
    }
   ],
   "source": [
    "from openbox import Optimizer\n",
    "opt = Optimizer(\n",
    "    prob.evaluate,\n",
    "    prob.config_space,\n",
    "    num_objs=prob.num_objs,\n",
    "    num_constraints=prob.num_constraints,\n",
    "    max_runs=100,\n",
    "    surrogate_type='gp',\n",
    "    acq_type='ehvic',\n",
    "    acq_optimizer_type='random_scipy',\n",
    "    initial_runs=initial_runs,\n",
    "    init_strategy='sobol',\n",
    "    ref_point=prob.ref_point,\n",
    "    time_limit_per_trial=10,\n",
    "    task_id='moc',\n",
    "    random_state=1,\n",
    ")\n",
    "opt.run()"
   ]
  },
  {
   "cell_type": "code",
   "execution_count": null,
   "metadata": {
    "pycharm": {
     "name": "#%%\n"
    }
   },
   "outputs": [],
   "source": [
    "history = opt.get_history()\n",
    "print(history)"
   ]
  },
  {
   "cell_type": "code",
   "execution_count": null,
   "metadata": {
    "pycharm": {
     "name": "#%%\n"
    }
   },
   "outputs": [],
   "source": [
    "history.plot_convergence(true_minimum=-106.7645367)"
   ]
  },
  {
   "cell_type": "code",
   "execution_count": null,
   "metadata": {},
   "outputs": [],
   "source": [
    "print(history.get_importance(method='shap'))"
   ]
  },
  {
   "cell_type": "code",
   "execution_count": null,
   "metadata": {},
   "outputs": [],
   "source": [
    "history.get_importance(method='shap')"
   ]
  }
 ],
 "metadata": {
  "kernelspec": {
   "display_name": "Python 3 (ipykernel)",
   "language": "python",
   "name": "python3"
  },
  "language_info": {
   "codemirror_mode": {
    "name": "ipython",
    "version": 3
   },
   "file_extension": ".py",
   "mimetype": "text/x-python",
   "name": "python",
   "nbconvert_exporter": "python",
   "pygments_lexer": "ipython3",
   "version": "3.8.13"
  },
  "vscode": {
   "interpreter": {
    "hash": "4f7e0be0300b7d5f6b3fe5ea9ddbb8e167d22210f5ef38db82ffb5e565575d56"
   }
  }
 },
 "nbformat": 4,
 "nbformat_minor": 2
}
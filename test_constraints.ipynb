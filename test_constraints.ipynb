{
 "cells": [
  {
   "cell_type": "code",
   "execution_count": null,
   "metadata": {},
   "outputs": [],
   "source": [
    "from openbox import run_test\n",
    "run_test()"
   ]
  },
  {
   "cell_type": "code",
   "execution_count": null,
   "metadata": {},
   "outputs": [],
   "source": [
    "import numpy as np\n",
    "from openbox import sp\n",
    "\n",
    "def mishra(config: sp.Configuration):\n",
    "    config_dict = config.get_dictionary()\n",
    "    X = np.array([config_dict['x%d' % i] for i in range(2)])\n",
    "    x, y = X[0], X[1]\n",
    "    t1 = np.sin(y) * np.exp((1 - np.cos(x))**2)\n",
    "    t2 = np.cos(x) * np.exp((1 - np.sin(y))**2)\n",
    "    t3 = (x - y)**2\n",
    "\n",
    "    result = dict()\n",
    "    result['objs'] = [t1 + t2 + t3, ]\n",
    "    result['constraints'] = [np.sum((X + 5)**2) - 25, ]\n",
    "    return result\n",
    "\n",
    "params = {\n",
    "    'float': {\n",
    "        'x0': (-10, 0, -5),\n",
    "        'x1': (-6.5, 0, -3.25)\n",
    "    }\n",
    "}\n",
    "space = sp.Space()\n",
    "space.add_variables([\n",
    "    sp.Real(name, *para) for name, para in params['float'].items()\n",
    "])"
   ]
  },
  {
   "cell_type": "code",
   "execution_count": null,
   "metadata": {},
   "outputs": [],
   "source": [
    "from openbox import Optimizer\n",
    "\n",
    "opt = Optimizer(\n",
    "    mishra,\n",
    "    space,\n",
    "    num_constraints=1,\n",
    "    num_objs=1,\n",
    "    surrogate_type='gp',\n",
    "    acq_optimizer_type='random_scipy',\n",
    "    max_runs=50,\n",
    "    time_limit_per_trial=10,\n",
    "    task_id='soc_5',\n",
    ")\n",
    "history = opt.run()"
   ]
  },
  {
   "cell_type": "code",
   "execution_count": null,
   "metadata": {
    "pycharm": {
     "name": "#%%\n"
    }
   },
   "outputs": [],
   "source": [
    "history = opt.get_history()\n",
    "print(history)"
   ]
  },
  {
   "cell_type": "code",
   "execution_count": null,
   "metadata": {
    "pycharm": {
     "name": "#%%\n"
    }
   },
   "outputs": [],
   "source": [
    "history.plot_convergence(true_minimum=-106.7645367)"
   ]
  },
  {
   "cell_type": "code",
   "execution_count": null,
   "metadata": {},
   "outputs": [],
   "source": [
    "print(history.get_importance(method='shap'))"
   ]
  },
  {
   "cell_type": "code",
   "execution_count": null,
   "metadata": {},
   "outputs": [],
   "source": [
    "history.get_importance(method='shap')"
   ]
  }
 ],
 "metadata": {
  "kernelspec": {
   "display_name": "Python 3 (ipykernel)",
   "language": "python",
   "name": "python3"
  },
  "language_info": {
   "codemirror_mode": {
    "name": "ipython",
    "version": 3
   },
   "file_extension": ".py",
   "mimetype": "text/x-python",
   "name": "python",
   "nbconvert_exporter": "python",
   "pygments_lexer": "ipython3",
   "version": "3.8.13"
  },
  "vscode": {
   "interpreter": {
    "hash": "4f7e0be0300b7d5f6b3fe5ea9ddbb8e167d22210f5ef38db82ffb5e565575d56"
   }
  }
 },
 "nbformat": 4,
 "nbformat_minor": 2
}

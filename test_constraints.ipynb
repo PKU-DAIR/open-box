{
 "cells": [
  {
   "cell_type": "code",
   "execution_count": null,
   "metadata": {},
   "outputs": [],
   "source": [
    "from openbox import run_test\n",
    "run_test()"
   ]
  },
  {
   "cell_type": "code",
   "execution_count": 1,
   "metadata": {},
   "outputs": [],
   "source": [
    "import numpy as np\n",
    "from openbox import sp\n",
    "\n",
    "def mishra(config: sp.Configuration):\n",
    "    config_dict = config.get_dictionary()\n",
    "    X = np.array([config_dict['x%d' % i] for i in range(2)])\n",
    "    x, y = X[0], X[1]\n",
    "    t1 = np.sin(y) * np.exp((1 - np.cos(x))**2)\n",
    "    t2 = np.cos(x) * np.exp((1 - np.sin(y))**2)\n",
    "    t3 = (x - y)**2\n",
    "\n",
    "    result = dict()\n",
    "    result['objs'] = [t1 + t2 + t3, ]\n",
    "    result['constraints'] = [np.sum((X + 5)**2) - 25, ]\n",
    "    return result\n",
    "\n",
    "params = {\n",
    "    'float': {\n",
    "        'x0': (-10, 0, -5),\n",
    "        'x1': (-6.5, 0, -3.25)\n",
    "    }\n",
    "}\n",
    "space = sp.Space()\n",
    "space.add_variables([\n",
    "    sp.Real(name, *para) for name, para in params['float'].items()\n",
    "])"
   ]
  },
  {
   "cell_type": "code",
   "execution_count": 2,
   "metadata": {},
   "outputs": [
    {
     "name": "stdout",
     "output_type": "stream",
     "text": [
      "[INFO] [2022-11-06 02:08:56,949] [Advisor] === [BO auto selection] === acq_type: eic.\n"
     ]
    },
    {
     "name": "stderr",
     "output_type": "stream",
     "text": [
      "  0%|          | 0/20 [00:00<?, ?it/s]"
     ]
    },
    {
     "name": "stdout",
     "output_type": "stream",
     "text": [
      "[INFO] [2022-11-06 02:08:56,970] [OpenBox-soc_3] Iteration 1, objective value: [3.8715946724839236]. constraints: [-21.9375].\n",
      "[INFO] [2022-11-06 02:08:56,971] [OpenBox-soc_3] Iteration 2, objective value: [55.31896076945581]. constraints: [15.697637272848041].\n",
      "[INFO] [2022-11-06 02:08:56,972] [OpenBox-soc_3] Iteration 3, objective value: [26.915540440957308]. constraints: [-9.507867117090512].\n",
      "[INFO] [2022-11-06 02:08:57,324] [OpenBox-soc_3] Iteration 4, objective value: [3.987391701928476]. constraints: [-21.937040312547502].\n"
     ]
    },
    {
     "name": "stderr",
     "output_type": "stream",
     "text": [
      " 20%|██        | 4/20 [00:00<00:01, 11.28it/s]"
     ]
    },
    {
     "name": "stdout",
     "output_type": "stream",
     "text": [
      "Iteration 5, Save history to bo_history_soc_3.json\n",
      "Iteration 5, Save history to visual_bo_history_soc_3.json\n",
      "[INFO] [2022-11-06 02:08:58,634] [OpenBox-soc_3] Iteration 5, objective value: [1.4061938597076389]. constraints: [-15.412543279624153].\n",
      "[INFO] [2022-11-06 02:08:59,188] [OpenBox-soc_3] Iteration 6, objective value: [5.444665703463272]. constraints: [-18.98590603523507].\n"
     ]
    },
    {
     "name": "stderr",
     "output_type": "stream",
     "text": [
      " 30%|███       | 6/20 [00:02<00:06,  2.27it/s]"
     ]
    },
    {
     "name": "stdout",
     "output_type": "stream",
     "text": [
      "[INFO] [2022-11-06 02:09:00,133] [OpenBox-soc_3] Iteration 7, objective value: [11.40458756181606]. constraints: [1.8102698632655105].\n"
     ]
    },
    {
     "name": "stderr",
     "output_type": "stream",
     "text": [
      " 35%|███▌      | 7/20 [00:03<00:07,  1.80it/s]"
     ]
    },
    {
     "name": "stdout",
     "output_type": "stream",
     "text": [
      "[INFO] [2022-11-06 02:09:00,135] [Advisor] Sample random config. rand_prob=0.100000.\n",
      "[INFO] [2022-11-06 02:09:00,136] [OpenBox-soc_3] Iteration 8, objective value: [31.068323560334846]. constraints: [8.752771683923243].\n",
      "[INFO] [2022-11-06 02:09:00,953] [OpenBox-soc_3] Iteration 9, objective value: [2.6764376023417]. constraints: [-19.70830433187811].\n"
     ]
    },
    {
     "name": "stderr",
     "output_type": "stream",
     "text": [
      " 45%|████▌     | 9/20 [00:03<00:05,  2.01it/s]"
     ]
    },
    {
     "name": "stdout",
     "output_type": "stream",
     "text": [
      "Iteration 10, Save history to bo_history_soc_3.json\n",
      "Iteration 10, Save history to visual_bo_history_soc_3.json\n",
      "[INFO] [2022-11-06 02:09:01,614] [OpenBox-soc_3] Iteration 10, objective value: [13.364638189677493]. constraints: [2.682016438686599].\n"
     ]
    },
    {
     "name": "stderr",
     "output_type": "stream",
     "text": [
      " 50%|█████     | 10/20 [00:04<00:05,  1.87it/s]"
     ]
    },
    {
     "name": "stdout",
     "output_type": "stream",
     "text": [
      "[INFO] [2022-11-06 02:09:02,342] [OpenBox-soc_3] Iteration 11, objective value: [3.6850905214958747]. constraints: [-3.2001550398158507].\n"
     ]
    },
    {
     "name": "stderr",
     "output_type": "stream",
     "text": [
      " 55%|█████▌    | 11/20 [00:05<00:05,  1.72it/s]"
     ]
    },
    {
     "name": "stdout",
     "output_type": "stream",
     "text": [
      "[INFO] [2022-11-06 02:09:03,192] [OpenBox-soc_3] Iteration 12, objective value: [7.301778672431853]. constraints: [-23.58037194338824].\n"
     ]
    },
    {
     "name": "stderr",
     "output_type": "stream",
     "text": [
      " 60%|██████    | 12/20 [00:06<00:05,  1.54it/s]"
     ]
    },
    {
     "name": "stdout",
     "output_type": "stream",
     "text": [
      "[INFO] [2022-11-06 02:09:03,902] [OpenBox-soc_3] Iteration 13, objective value: [-12.264492121141284]. constraints: [2.1342269191589978].\n"
     ]
    },
    {
     "name": "stderr",
     "output_type": "stream",
     "text": [
      " 65%|██████▌   | 13/20 [00:06<00:04,  1.50it/s]"
     ]
    },
    {
     "name": "stdout",
     "output_type": "stream",
     "text": [
      "[INFO] [2022-11-06 02:09:04,596] [OpenBox-soc_3] Iteration 14, objective value: [-2.494636220421807]. constraints: [-12.843816306171881].\n"
     ]
    },
    {
     "name": "stderr",
     "output_type": "stream",
     "text": [
      " 70%|███████   | 14/20 [00:07<00:04,  1.48it/s]"
     ]
    },
    {
     "name": "stdout",
     "output_type": "stream",
     "text": [
      "Iteration 15, Save history to bo_history_soc_3.json\n",
      "Iteration 15, Save history to visual_bo_history_soc_3.json\n",
      "[INFO] [2022-11-06 02:09:05,311] [OpenBox-soc_3] Iteration 15, objective value: [26.299713450109394]. constraints: [-0.165351547717556].\n"
     ]
    },
    {
     "name": "stderr",
     "output_type": "stream",
     "text": [
      " 75%|███████▌  | 15/20 [00:08<00:03,  1.46it/s]"
     ]
    },
    {
     "name": "stdout",
     "output_type": "stream",
     "text": [
      "[INFO] [2022-11-06 02:09:06,051] [OpenBox-soc_3] Iteration 16, objective value: [-25.679086110926576]. constraints: [-15.222972569567691].\n"
     ]
    },
    {
     "name": "stderr",
     "output_type": "stream",
     "text": [
      " 80%|████████  | 16/20 [00:09<00:02,  1.43it/s]"
     ]
    },
    {
     "name": "stdout",
     "output_type": "stream",
     "text": [
      "[INFO] [2022-11-06 02:09:06,053] [Advisor] Sample random config. rand_prob=0.100000.\n",
      "[INFO] [2022-11-06 02:09:06,054] [OpenBox-soc_3] Iteration 17, objective value: [31.35680617756327]. constraints: [-2.1829933622140736].\n",
      "[INFO] [2022-11-06 02:09:06,817] [OpenBox-soc_3] Iteration 18, objective value: [-42.152732302047]. constraints: [-14.730613049485616].\n"
     ]
    },
    {
     "name": "stderr",
     "output_type": "stream",
     "text": [
      " 90%|█████████ | 18/20 [00:09<00:01,  1.79it/s]"
     ]
    },
    {
     "name": "stdout",
     "output_type": "stream",
     "text": [
      "[INFO] [2022-11-06 02:09:07,449] [OpenBox-soc_3] Iteration 19, objective value: [-62.64343640246764]. constraints: [-13.848733151750743].\n"
     ]
    },
    {
     "name": "stderr",
     "output_type": "stream",
     "text": [
      " 95%|█████████▌| 19/20 [00:10<00:00,  1.74it/s]"
     ]
    },
    {
     "name": "stdout",
     "output_type": "stream",
     "text": [
      "Iteration 20, Save history to bo_history_soc_3.json\n",
      "[-21.9375, 15.697637272848041, -9.507867117090512, -21.937040312547502, -15.412543279624153, -18.98590603523507, 1.8102698632655105, 8.752771683923243, -19.70830433187811, 2.682016438686599, -3.2001550398158507, -23.58037194338824, 2.1342269191589978, -12.843816306171881, -0.165351547717556, -15.222972569567691, -2.1829933622140736, -14.730613049485616, -13.848733151750743, -12.755863795737469]\n",
      "[-21.93755042523065, 12.841129910229919, -11.564326446639981, -21.936981397844313, -15.288927483057645, -18.99744157598323, 1.8593957497001696, 10.818366838100646, -19.700536509724294, 2.537034863573769, -2.845583471927023, -21.555210867247713, 0.9393056410520249, -12.870726673414062, -0.8775526742617625, -15.222284989031358, -7.9041618303326, -14.730712832793733, -13.849145140613459, -12.752344868820217]\n",
      "Iteration 20, Save history to visual_bo_history_soc_3.json\n",
      "[INFO] [2022-11-06 02:09:12,028] [OpenBox-soc_3] Iteration 20, objective value: [-85.57207142919997]. constraints: [-12.755863795737469].\n"
     ]
    },
    {
     "name": "stderr",
     "output_type": "stream",
     "text": [
      "100%|██████████| 20/20 [00:15<00:00,  1.33it/s]\n"
     ]
    }
   ],
   "source": [
    "from openbox import Optimizer\n",
    "\n",
    "opt = Optimizer(\n",
    "    mishra,\n",
    "    space,\n",
    "    num_constraints=1,\n",
    "    num_objs=1,\n",
    "    surrogate_type='gp',\n",
    "    acq_optimizer_type='random_scipy',\n",
    "    max_runs=20,\n",
    "    time_limit_per_trial=10,\n",
    "    task_id='soc_3',\n",
    ")\n",
    "history = opt.run()"
   ]
  },
  {
   "cell_type": "code",
   "execution_count": null,
   "metadata": {
    "pycharm": {
     "name": "#%%\n"
    }
   },
   "outputs": [],
   "source": [
    "history = opt.get_history()\n",
    "print(history)"
   ]
  },
  {
   "cell_type": "code",
   "execution_count": null,
   "metadata": {
    "pycharm": {
     "name": "#%%\n"
    }
   },
   "outputs": [],
   "source": [
    "history.plot_convergence(true_minimum=-106.7645367)"
   ]
  },
  {
   "cell_type": "code",
   "execution_count": null,
   "metadata": {},
   "outputs": [],
   "source": [
    "print(history.get_importance(method='shap'))"
   ]
  },
  {
   "cell_type": "code",
   "execution_count": null,
   "metadata": {},
   "outputs": [],
   "source": [
    "history.get_importance(method='shap')"
   ]
  }
 ],
 "metadata": {
  "kernelspec": {
   "display_name": "Python 3 (ipykernel)",
   "language": "python",
   "name": "python3"
  },
  "language_info": {
   "codemirror_mode": {
    "name": "ipython",
    "version": 3
   },
   "file_extension": ".py",
   "mimetype": "text/x-python",
   "name": "python",
   "nbconvert_exporter": "python",
   "pygments_lexer": "ipython3",
   "version": "3.8.13"
  },
  "vscode": {
   "interpreter": {
    "hash": "4f7e0be0300b7d5f6b3fe5ea9ddbb8e167d22210f5ef38db82ffb5e565575d56"
   }
  }
 },
 "nbformat": 4,
 "nbformat_minor": 2
}
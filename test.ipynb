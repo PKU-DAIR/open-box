{
 "cells": [
  {
   "cell_type": "code",
   "execution_count": null,
   "metadata": {},
   "outputs": [],
   "source": [
    "from openbox import run_test\n",
    "run_test()"
   ]
  },
  {
   "cell_type": "code",
   "execution_count": 1,
   "metadata": {},
   "outputs": [],
   "source": [
    "from openbox import sp\n",
    "space = sp.Space()\n",
    "# 两个实数型（浮点型）变量\n",
    "x1 = sp.Real('x1', -5, 10, default_value=0)\n",
    "x2 = sp.Real(\"x2\", 0, 15, default_value=0)\n",
    "space.add_variables([x1, x2])\n",
    "\n",
    "# 整形变量\n",
    "i = sp.Int(\"i\", 0, 100) \n",
    "# 类别型变量\n",
    "kernel = sp.Categorical(\"kernel\", [\"rbf\", \"poly\", \"sigmoid\"], default_value=\"rbf\")\n",
    "\n",
    "import numpy as np\n",
    "\n",
    "# Define Objective Function\n",
    "def branin(config):\n",
    "    x1, x2 = config['x1'], config['x2']\n",
    "    y = (x2-5.1/(4*np.pi**2)*x1**2+5/np.pi*x1-6)**2+10*(1-1/(8*np.pi))*np.cos(x1)+10\n",
    "    return y"
   ]
  },
  {
   "cell_type": "code",
   "execution_count": 2,
   "metadata": {},
   "outputs": [
    {
     "name": "stdout",
     "output_type": "stream",
     "text": [
      "[INFO] [2022-10-15 00:45:26,102] [Advisor] === [BO auto selection] === acq_type: ei. acq_optimizer_type: random_scipy.\n"
     ]
    },
    {
     "name": "stderr",
     "output_type": "stream",
     "text": [
      "  0%|          | 0/50 [00:00<?, ?it/s]"
     ]
    },
    {
     "name": "stdout",
     "output_type": "stream",
     "text": [
      "Save history to bo_history_test_04.json\n",
      "Save history to visual_bo_history_test_04.json\n",
      "[INFO] [2022-10-15 00:45:26,191] [OpenBox-test_04] Iteration 1, objective value: [55.602112642270264].\n",
      "Save history to bo_history_test_04.json\n",
      "Save history to visual_bo_history_test_04.json\n",
      "[INFO] [2022-10-15 00:45:26,196] [OpenBox-test_04] Iteration 2, objective value: [191.5818485403207].\n",
      "Save history to bo_history_test_04.json\n",
      "Save history to visual_bo_history_test_04.json\n",
      "[INFO] [2022-10-15 00:45:26,201] [OpenBox-test_04] Iteration 3, objective value: [15.408185809081509].\n",
      "Save history to bo_history_test_04.json\n",
      "Save history to visual_bo_history_test_04.json\n",
      "[INFO] [2022-10-15 00:45:27,635] [OpenBox-test_04] Iteration 4, objective value: [138.82524150642104].\n"
     ]
    },
    {
     "name": "stderr",
     "output_type": "stream",
     "text": [
      "  8%|▊         | 4/50 [00:01<00:16,  2.75it/s]"
     ]
    },
    {
     "name": "stdout",
     "output_type": "stream",
     "text": [
      "[INFO] [2022-10-15 00:45:27,657] [Advisor] Sample random config. rand_prob=0.100000.\n",
      "Save history to bo_history_test_04.json\n",
      "Save history to visual_bo_history_test_04.json\n",
      "[INFO] [2022-10-15 00:45:27,667] [OpenBox-test_04] Iteration 5, objective value: [39.33535150684624].\n",
      "Save history to bo_history_test_04.json\n",
      "Save history to visual_bo_history_test_04.json\n",
      "[INFO] [2022-10-15 00:45:30,212] [OpenBox-test_04] Iteration 6, objective value: [15.61430664863558].\n"
     ]
    },
    {
     "name": "stderr",
     "output_type": "stream",
     "text": [
      " 12%|█▏        | 6/50 [00:04<00:32,  1.33it/s]"
     ]
    },
    {
     "name": "stdout",
     "output_type": "stream",
     "text": [
      "Save history to bo_history_test_04.json\n",
      "Save history to visual_bo_history_test_04.json\n",
      "[INFO] [2022-10-15 00:45:32,272] [OpenBox-test_04] Iteration 7, objective value: [5.294527745001231].\n"
     ]
    },
    {
     "name": "stderr",
     "output_type": "stream",
     "text": [
      " 14%|█▍        | 7/50 [00:06<00:45,  1.05s/it]"
     ]
    },
    {
     "name": "stdout",
     "output_type": "stream",
     "text": [
      "Save history to bo_history_test_04.json\n",
      "Save history to visual_bo_history_test_04.json\n",
      "[INFO] [2022-10-15 00:45:34,203] [OpenBox-test_04] Iteration 8, objective value: [45.41604185139011].\n"
     ]
    },
    {
     "name": "stderr",
     "output_type": "stream",
     "text": [
      " 16%|█▌        | 8/50 [00:08<00:53,  1.27s/it]"
     ]
    },
    {
     "name": "stdout",
     "output_type": "stream",
     "text": [
      "Save history to bo_history_test_04.json\n",
      "Save history to visual_bo_history_test_04.json\n",
      "[INFO] [2022-10-15 00:45:36,215] [OpenBox-test_04] Iteration 9, objective value: [6.939821775919996].\n"
     ]
    },
    {
     "name": "stderr",
     "output_type": "stream",
     "text": [
      " 18%|█▊        | 9/50 [00:10<00:59,  1.46s/it]"
     ]
    },
    {
     "name": "stdout",
     "output_type": "stream",
     "text": [
      "Save history to bo_history_test_04.json\n",
      "Save history to visual_bo_history_test_04.json\n",
      "[INFO] [2022-10-15 00:45:37,330] [OpenBox-test_04] Iteration 10, objective value: [13.649283440042693].\n"
     ]
    },
    {
     "name": "stderr",
     "output_type": "stream",
     "text": [
      " 20%|██        | 10/50 [00:11<00:54,  1.37s/it]"
     ]
    },
    {
     "name": "stdout",
     "output_type": "stream",
     "text": [
      "Save history to bo_history_test_04.json\n",
      "Save history to visual_bo_history_test_04.json\n",
      "[INFO] [2022-10-15 00:45:38,315] [OpenBox-test_04] Iteration 11, objective value: [10.960889035651505].\n"
     ]
    },
    {
     "name": "stderr",
     "output_type": "stream",
     "text": [
      " 22%|██▏       | 11/50 [00:12<00:49,  1.26s/it]"
     ]
    },
    {
     "name": "stdout",
     "output_type": "stream",
     "text": [
      "Save history to bo_history_test_04.json\n",
      "Save history to visual_bo_history_test_04.json\n",
      "[INFO] [2022-10-15 00:45:39,367] [OpenBox-test_04] Iteration 12, objective value: [17.406577493196636].\n"
     ]
    },
    {
     "name": "stderr",
     "output_type": "stream",
     "text": [
      " 24%|██▍       | 12/50 [00:13<00:45,  1.20s/it]"
     ]
    },
    {
     "name": "stdout",
     "output_type": "stream",
     "text": [
      "Save history to bo_history_test_04.json\n",
      "Save history to visual_bo_history_test_04.json\n",
      "[INFO] [2022-10-15 00:45:40,353] [OpenBox-test_04] Iteration 13, objective value: [0.5566447778243262].\n"
     ]
    },
    {
     "name": "stderr",
     "output_type": "stream",
     "text": [
      " 26%|██▌       | 13/50 [00:14<00:42,  1.14s/it]"
     ]
    },
    {
     "name": "stdout",
     "output_type": "stream",
     "text": [
      "[INFO] [2022-10-15 00:45:40,354] [Advisor] Sample random config. rand_prob=0.100000.\n",
      "Save history to bo_history_test_04.json\n",
      "Save history to visual_bo_history_test_04.json\n",
      "[INFO] [2022-10-15 00:45:40,359] [OpenBox-test_04] Iteration 14, objective value: [141.30686438177398].\n",
      "Save history to bo_history_test_04.json\n",
      "Save history to visual_bo_history_test_04.json\n",
      "[INFO] [2022-10-15 00:45:41,307] [OpenBox-test_04] Iteration 15, objective value: [6.252582987851629].\n"
     ]
    },
    {
     "name": "stderr",
     "output_type": "stream",
     "text": [
      " 30%|███       | 15/50 [00:15<00:29,  1.19it/s]"
     ]
    },
    {
     "name": "stdout",
     "output_type": "stream",
     "text": [
      "Save history to bo_history_test_04.json\n",
      "Save history to visual_bo_history_test_04.json\n",
      "[INFO] [2022-10-15 00:45:42,163] [OpenBox-test_04] Iteration 16, objective value: [1.9955179080354206].\n"
     ]
    },
    {
     "name": "stderr",
     "output_type": "stream",
     "text": [
      " 32%|███▏      | 16/50 [00:15<00:28,  1.19it/s]"
     ]
    },
    {
     "name": "stdout",
     "output_type": "stream",
     "text": [
      "Save history to bo_history_test_04.json\n",
      "Save history to visual_bo_history_test_04.json\n",
      "[INFO] [2022-10-15 00:45:43,404] [OpenBox-test_04] Iteration 17, objective value: [2.001386845120537].\n"
     ]
    },
    {
     "name": "stderr",
     "output_type": "stream",
     "text": [
      " 34%|███▍      | 17/50 [00:17<00:31,  1.06it/s]"
     ]
    },
    {
     "name": "stdout",
     "output_type": "stream",
     "text": [
      "[INFO] [2022-10-15 00:45:43,406] [Advisor] Sample random config. rand_prob=0.100000.\n",
      "Save history to bo_history_test_04.json\n",
      "Save history to visual_bo_history_test_04.json\n",
      "[INFO] [2022-10-15 00:45:43,411] [OpenBox-test_04] Iteration 18, objective value: [2.681340714868086].\n",
      "Save history to bo_history_test_04.json\n",
      "Save history to visual_bo_history_test_04.json\n",
      "[INFO] [2022-10-15 00:45:44,766] [OpenBox-test_04] Iteration 19, objective value: [2.65221135896149].\n"
     ]
    },
    {
     "name": "stderr",
     "output_type": "stream",
     "text": [
      " 38%|███▊      | 19/50 [00:18<00:25,  1.20it/s]"
     ]
    },
    {
     "name": "stdout",
     "output_type": "stream",
     "text": [
      "Save history to bo_history_test_04.json\n",
      "Save history to visual_bo_history_test_04.json\n",
      "[INFO] [2022-10-15 00:45:46,395] [OpenBox-test_04] Iteration 20, objective value: [0.4569060284506197].\n"
     ]
    },
    {
     "name": "stderr",
     "output_type": "stream",
     "text": [
      " 40%|████      | 20/50 [00:20<00:30,  1.02s/it]"
     ]
    },
    {
     "name": "stdout",
     "output_type": "stream",
     "text": [
      "Save history to bo_history_test_04.json\n",
      "Save history to visual_bo_history_test_04.json\n",
      "[INFO] [2022-10-15 00:45:47,624] [OpenBox-test_04] Iteration 21, objective value: [0.40122420352753174].\n"
     ]
    },
    {
     "name": "stderr",
     "output_type": "stream",
     "text": [
      " 42%|████▏     | 21/50 [00:21<00:31,  1.07s/it]"
     ]
    },
    {
     "name": "stdout",
     "output_type": "stream",
     "text": [
      "Save history to bo_history_test_04.json\n",
      "Save history to visual_bo_history_test_04.json\n",
      "[INFO] [2022-10-15 00:45:48,682] [OpenBox-test_04] Iteration 22, objective value: [0.5359430115568014].\n"
     ]
    },
    {
     "name": "stderr",
     "output_type": "stream",
     "text": [
      " 44%|████▍     | 22/50 [00:22<00:29,  1.07s/it]"
     ]
    },
    {
     "name": "stdout",
     "output_type": "stream",
     "text": [
      "Save history to bo_history_test_04.json\n",
      "Save history to visual_bo_history_test_04.json\n",
      "[INFO] [2022-10-15 00:45:50,315] [OpenBox-test_04] Iteration 23, objective value: [0.642121744659919].\n"
     ]
    },
    {
     "name": "stderr",
     "output_type": "stream",
     "text": [
      " 46%|████▌     | 23/50 [00:24<00:32,  1.22s/it]"
     ]
    },
    {
     "name": "stdout",
     "output_type": "stream",
     "text": [
      "Save history to bo_history_test_04.json\n",
      "Save history to visual_bo_history_test_04.json\n",
      "[INFO] [2022-10-15 00:45:51,588] [OpenBox-test_04] Iteration 24, objective value: [0.8082677642460734].\n"
     ]
    },
    {
     "name": "stderr",
     "output_type": "stream",
     "text": [
      " 48%|████▊     | 24/50 [00:25<00:32,  1.24s/it]"
     ]
    },
    {
     "name": "stdout",
     "output_type": "stream",
     "text": [
      "Save history to bo_history_test_04.json\n",
      "Save history to visual_bo_history_test_04.json\n",
      "[INFO] [2022-10-15 00:45:52,732] [OpenBox-test_04] Iteration 25, objective value: [0.40533843914523615].\n"
     ]
    },
    {
     "name": "stderr",
     "output_type": "stream",
     "text": [
      " 50%|█████     | 25/50 [00:26<00:30,  1.21s/it]"
     ]
    },
    {
     "name": "stdout",
     "output_type": "stream",
     "text": [
      "Save history to bo_history_test_04.json\n",
      "Save history to visual_bo_history_test_04.json\n",
      "[INFO] [2022-10-15 00:45:53,723] [OpenBox-test_04] Iteration 26, objective value: [0.7084797026886953].\n"
     ]
    },
    {
     "name": "stderr",
     "output_type": "stream",
     "text": [
      " 52%|█████▏    | 26/50 [00:27<00:27,  1.15s/it]"
     ]
    },
    {
     "name": "stdout",
     "output_type": "stream",
     "text": [
      "Save history to bo_history_test_04.json\n",
      "Save history to visual_bo_history_test_04.json\n",
      "[INFO] [2022-10-15 00:45:54,951] [OpenBox-test_04] Iteration 27, objective value: [2.5768730110223856].\n"
     ]
    },
    {
     "name": "stderr",
     "output_type": "stream",
     "text": [
      " 54%|█████▍    | 27/50 [00:28<00:26,  1.17s/it]"
     ]
    },
    {
     "name": "stdout",
     "output_type": "stream",
     "text": [
      "Save history to bo_history_test_04.json\n",
      "Save history to visual_bo_history_test_04.json\n",
      "[INFO] [2022-10-15 00:45:56,729] [OpenBox-test_04] Iteration 28, objective value: [1.5127475897268639].\n"
     ]
    },
    {
     "name": "stderr",
     "output_type": "stream",
     "text": [
      " 56%|█████▌    | 28/50 [00:30<00:29,  1.35s/it]"
     ]
    },
    {
     "name": "stdout",
     "output_type": "stream",
     "text": [
      "Save history to bo_history_test_04.json\n",
      "Save history to visual_bo_history_test_04.json\n",
      "[INFO] [2022-10-15 00:45:58,270] [OpenBox-test_04] Iteration 29, objective value: [0.5413308374420147].\n"
     ]
    },
    {
     "name": "stderr",
     "output_type": "stream",
     "text": [
      " 58%|█████▊    | 29/50 [00:32<00:29,  1.41s/it]"
     ]
    },
    {
     "name": "stdout",
     "output_type": "stream",
     "text": [
      "Save history to bo_history_test_04.json\n",
      "Save history to visual_bo_history_test_04.json\n",
      "[INFO] [2022-10-15 00:45:59,147] [OpenBox-test_04] Iteration 30, objective value: [0.5205880474179203].\n"
     ]
    },
    {
     "name": "stderr",
     "output_type": "stream",
     "text": [
      " 60%|██████    | 30/50 [00:32<00:24,  1.25s/it]"
     ]
    },
    {
     "name": "stdout",
     "output_type": "stream",
     "text": [
      "Save history to bo_history_test_04.json\n",
      "Save history to visual_bo_history_test_04.json\n",
      "[INFO] [2022-10-15 00:46:00,257] [OpenBox-test_04] Iteration 31, objective value: [13.55086487151523].\n"
     ]
    },
    {
     "name": "stderr",
     "output_type": "stream",
     "text": [
      " 62%|██████▏   | 31/50 [00:34<00:22,  1.21s/it]"
     ]
    },
    {
     "name": "stdout",
     "output_type": "stream",
     "text": [
      "[INFO] [2022-10-15 00:46:00,258] [Advisor] Sample random config. rand_prob=0.100000.\n",
      "Save history to bo_history_test_04.json\n",
      "Save history to visual_bo_history_test_04.json\n",
      "[INFO] [2022-10-15 00:46:00,269] [OpenBox-test_04] Iteration 32, objective value: [115.83303720734818].\n",
      "Save history to bo_history_test_04.json\n",
      "Save history to visual_bo_history_test_04.json\n",
      "[INFO] [2022-10-15 00:46:01,489] [OpenBox-test_04] Iteration 33, objective value: [0.40299249397756753].\n"
     ]
    },
    {
     "name": "stderr",
     "output_type": "stream",
     "text": [
      " 66%|██████▌   | 33/50 [00:35<00:15,  1.07it/s]"
     ]
    },
    {
     "name": "stdout",
     "output_type": "stream",
     "text": [
      "Save history to bo_history_test_04.json\n",
      "Save history to visual_bo_history_test_04.json\n",
      "[INFO] [2022-10-15 00:46:02,607] [OpenBox-test_04] Iteration 34, objective value: [9.669393361715464].\n"
     ]
    },
    {
     "name": "stderr",
     "output_type": "stream",
     "text": [
      " 68%|██████▊   | 34/50 [00:36<00:15,  1.02it/s]"
     ]
    },
    {
     "name": "stdout",
     "output_type": "stream",
     "text": [
      "Save history to bo_history_test_04.json\n",
      "Save history to visual_bo_history_test_04.json\n",
      "[INFO] [2022-10-15 00:46:03,556] [OpenBox-test_04] Iteration 35, objective value: [0.5419303001184144].\n"
     ]
    },
    {
     "name": "stderr",
     "output_type": "stream",
     "text": [
      " 70%|███████   | 35/50 [00:37<00:14,  1.03it/s]"
     ]
    },
    {
     "name": "stdout",
     "output_type": "stream",
     "text": [
      "Save history to bo_history_test_04.json\n",
      "Save history to visual_bo_history_test_04.json\n",
      "[INFO] [2022-10-15 00:46:04,609] [OpenBox-test_04] Iteration 36, objective value: [0.39821969934813417].\n"
     ]
    },
    {
     "name": "stderr",
     "output_type": "stream",
     "text": [
      " 72%|███████▏  | 36/50 [00:38<00:13,  1.01it/s]"
     ]
    },
    {
     "name": "stdout",
     "output_type": "stream",
     "text": [
      "Save history to bo_history_test_04.json\n",
      "Save history to visual_bo_history_test_04.json\n",
      "[INFO] [2022-10-15 00:46:05,854] [OpenBox-test_04] Iteration 37, objective value: [0.4035489242260759].\n"
     ]
    },
    {
     "name": "stderr",
     "output_type": "stream",
     "text": [
      " 74%|███████▍  | 37/50 [00:39<00:13,  1.06s/it]"
     ]
    },
    {
     "name": "stdout",
     "output_type": "stream",
     "text": [
      "Save history to bo_history_test_04.json\n",
      "Save history to visual_bo_history_test_04.json\n",
      "[INFO] [2022-10-15 00:46:06,778] [OpenBox-test_04] Iteration 38, objective value: [0.39799765908249185].\n"
     ]
    },
    {
     "name": "stderr",
     "output_type": "stream",
     "text": [
      " 76%|███████▌  | 38/50 [00:40<00:12,  1.02s/it]"
     ]
    },
    {
     "name": "stdout",
     "output_type": "stream",
     "text": [
      "Save history to bo_history_test_04.json\n",
      "Save history to visual_bo_history_test_04.json\n",
      "[INFO] [2022-10-15 00:46:07,961] [OpenBox-test_04] Iteration 39, objective value: [0.3979976085598995].\n"
     ]
    },
    {
     "name": "stderr",
     "output_type": "stream",
     "text": [
      " 78%|███████▊  | 39/50 [00:41<00:11,  1.07s/it]"
     ]
    },
    {
     "name": "stdout",
     "output_type": "stream",
     "text": [
      "Save history to bo_history_test_04.json\n",
      "Save history to visual_bo_history_test_04.json\n",
      "[INFO] [2022-10-15 00:46:09,170] [OpenBox-test_04] Iteration 40, objective value: [0.52222391611493].\n"
     ]
    },
    {
     "name": "stderr",
     "output_type": "stream",
     "text": [
      " 80%|████████  | 40/50 [00:42<00:11,  1.11s/it]"
     ]
    },
    {
     "name": "stdout",
     "output_type": "stream",
     "text": [
      "Save history to bo_history_test_04.json\n",
      "Save history to visual_bo_history_test_04.json\n",
      "[INFO] [2022-10-15 00:46:10,458] [OpenBox-test_04] Iteration 41, objective value: [0.44743408736746204].\n"
     ]
    },
    {
     "name": "stderr",
     "output_type": "stream",
     "text": [
      " 82%|████████▏ | 41/50 [00:44<00:10,  1.16s/it]"
     ]
    },
    {
     "name": "stdout",
     "output_type": "stream",
     "text": [
      "Save history to bo_history_test_04.json\n",
      "Save history to visual_bo_history_test_04.json\n",
      "[INFO] [2022-10-15 00:46:11,673] [OpenBox-test_04] Iteration 42, objective value: [0.44743505039533815].\n"
     ]
    },
    {
     "name": "stderr",
     "output_type": "stream",
     "text": [
      " 84%|████████▍ | 42/50 [00:45<00:09,  1.18s/it]"
     ]
    },
    {
     "name": "stdout",
     "output_type": "stream",
     "text": [
      "Save history to bo_history_test_04.json\n",
      "Save history to visual_bo_history_test_04.json\n",
      "[INFO] [2022-10-15 00:46:13,142] [OpenBox-test_04] Iteration 43, objective value: [0.44729326767435396].\n"
     ]
    },
    {
     "name": "stderr",
     "output_type": "stream",
     "text": [
      " 86%|████████▌ | 43/50 [00:46<00:08,  1.26s/it]"
     ]
    },
    {
     "name": "stdout",
     "output_type": "stream",
     "text": [
      "Save history to bo_history_test_04.json\n",
      "Save history to visual_bo_history_test_04.json\n",
      "[INFO] [2022-10-15 00:46:14,403] [OpenBox-test_04] Iteration 44, objective value: [0.5314600031248151].\n"
     ]
    },
    {
     "name": "stderr",
     "output_type": "stream",
     "text": [
      " 88%|████████▊ | 44/50 [00:48<00:07,  1.26s/it]"
     ]
    },
    {
     "name": "stdout",
     "output_type": "stream",
     "text": [
      "Save history to bo_history_test_04.json\n",
      "Save history to visual_bo_history_test_04.json\n",
      "[INFO] [2022-10-15 00:46:15,538] [OpenBox-test_04] Iteration 45, objective value: [0.40842213267701233].\n"
     ]
    },
    {
     "name": "stderr",
     "output_type": "stream",
     "text": [
      " 90%|█████████ | 45/50 [00:49<00:06,  1.23s/it]"
     ]
    },
    {
     "name": "stdout",
     "output_type": "stream",
     "text": [
      "Save history to bo_history_test_04.json\n",
      "Save history to visual_bo_history_test_04.json\n",
      "[INFO] [2022-10-15 00:46:16,874] [OpenBox-test_04] Iteration 46, objective value: [0.5094014282116959].\n"
     ]
    },
    {
     "name": "stderr",
     "output_type": "stream",
     "text": [
      " 92%|█████████▏| 46/50 [00:50<00:05,  1.26s/it]"
     ]
    },
    {
     "name": "stdout",
     "output_type": "stream",
     "text": [
      "Save history to bo_history_test_04.json\n",
      "Save history to visual_bo_history_test_04.json\n",
      "[INFO] [2022-10-15 00:46:18,418] [OpenBox-test_04] Iteration 47, objective value: [0.45566045737887073].\n"
     ]
    },
    {
     "name": "stderr",
     "output_type": "stream",
     "text": [
      " 94%|█████████▍| 47/50 [00:52<00:04,  1.34s/it]"
     ]
    },
    {
     "name": "stdout",
     "output_type": "stream",
     "text": [
      "Save history to bo_history_test_04.json\n",
      "Save history to visual_bo_history_test_04.json\n",
      "[INFO] [2022-10-15 00:46:19,935] [OpenBox-test_04] Iteration 48, objective value: [0.6045911392035652].\n"
     ]
    },
    {
     "name": "stderr",
     "output_type": "stream",
     "text": [
      " 96%|█████████▌| 48/50 [00:53<00:02,  1.40s/it]"
     ]
    },
    {
     "name": "stdout",
     "output_type": "stream",
     "text": [
      "Save history to bo_history_test_04.json\n",
      "Save history to visual_bo_history_test_04.json\n",
      "[INFO] [2022-10-15 00:46:21,357] [OpenBox-test_04] Iteration 49, objective value: [0.4653363528904375].\n"
     ]
    },
    {
     "name": "stderr",
     "output_type": "stream",
     "text": [
      " 98%|█████████▊| 49/50 [00:55<00:01,  1.40s/it]"
     ]
    },
    {
     "name": "stdout",
     "output_type": "stream",
     "text": [
      "Save history to bo_history_test_04.json\n",
      "Save history to visual_bo_history_test_04.json\n",
      "[INFO] [2022-10-15 00:46:22,582] [OpenBox-test_04] Iteration 50, objective value: [0.4394632930240032].\n"
     ]
    },
    {
     "name": "stderr",
     "output_type": "stream",
     "text": [
      "100%|██████████| 50/50 [00:56<00:00,  1.13s/it]"
     ]
    },
    {
     "name": "stdout",
     "output_type": "stream",
     "text": [
      "{'line_data': {'min': [[0, 55.6021], [2, 15.4082], [6, 5.2945], [12, 0.5566], [19, 0.4569], [20, 0.4012], [35, 0.3982], [37, 0.398], [38, 0.398], [50, 0.398]], 'over': [[1, 191.5818], [3, 138.8252], [4, 39.3354], [5, 15.6143], [7, 45.416], [8, 6.9398], [9, 13.6493], [10, 10.9609], [11, 17.4066], [13, 141.3069], [14, 6.2526], [15, 1.9955], [16, 2.0014], [17, 2.6813], [18, 2.6522], [21, 0.5359], [22, 0.6421], [23, 0.8083], [24, 0.4053], [25, 0.7085], [26, 2.5769], [27, 1.5127], [28, 0.5413], [29, 0.5206], [30, 13.5509], [31, 115.833], [32, 0.403], [33, 9.6694], [34, 0.5419], [36, 0.4035], [39, 0.5222], [40, 0.4474], [41, 0.4474], [42, 0.4473], [43, 0.5315], [44, 0.4084], [45, 0.5094], [46, 0.4557], [47, 0.6046], [48, 0.4653], [49, 0.4395]], 'scat': [[0, 55.6021], [2, 15.4082], [6, 5.2945], [12, 0.5566], [19, 0.4569], [20, 0.4012], [35, 0.3982], [37, 0.398], [38, 0.398], [50, 0.398]]}, 'parallel_data': {'data': [[0.0, 0.0, 55.6021], [7.165853401331262, 14.475767258347362, 191.5818], [-4.758074896621956, 14.268082474892696, 15.4082], [-4.2091039942886255, 3.4353687863524525, 138.8252], [-0.0652531517600714, 1.659893090879852, 39.3354], [-4.910415141175238, 15.0, 15.6143], [-3.3769676352366753, 15.0, 5.2945], [-0.3861293679778317, 11.783649247055447, 45.416], [2.0204019821532038, 4.366752779691891, 6.9398], [4.918683051023349, 0.0, 13.6493], [10.0, 0.0, 10.9609], [7.1514718083860025, 2.321534089619318, 17.4066], [3.1858999525015523, 2.627137509490704, 0.5566], [3.541775389666361, 13.822111932742315, 141.3069], [3.988153274737625, 3.324353043599895, 6.2526], [2.5565403413205425, 2.8007328553092528, 1.9955], [10.0, 3.244299063625155, 2.0014], [2.4387848577713997, 2.797211930873662, 2.6813], [10.0, 2.16089324887747, 2.6522], [3.187293057752809, 2.018285666315063, 0.4569], [3.1159110897106075, 2.3081714638915867, 0.4012], [3.3113128468073008, 2.1367123982061607, 0.5359], [9.315624267336112, 2.81700338773204, 0.6421], [9.170225087122153, 1.9509052100200435, 0.8083], [9.40588922954518, 2.5348638970225683, 0.4053], [-2.99917637083405, 12.397290323828711, 0.7085], [-2.88259761755215, 13.024592500252561, 2.5769], [-2.676410898522034, 10.877537624389051, 1.5127], [-3.0296415229854197, 11.718896713043742, 0.5413], [-3.291184499306516, 12.513040796658917, 0.5206], [-1.2337311581923376, 7.547585828947234, 13.5509], [9.301712867172938, 13.113843505394716, 115.833], [-3.145390082642807, 12.21316389940101, 0.403], [8.166069136864246, 0.0, 9.6694], [9.254647728377948, 2.4088147081785714, 0.5419], [-3.133560594536567, 12.260460165648341, 0.3982], [3.1758212707967264, 2.2545575656785823, 0.4035], [-3.145390082642807, 12.290536423737146, 0.398], [-3.1453960982111675, 12.290529782344437, 0.398], [-3.1351922569759183, 11.907288702842454, 0.5222], [-3.1351922569759183, 12.037474883235483, 0.4474], [-3.1351925055918946, 12.03747327840057, 0.4474], [-3.1237286095724146, 12.450910511103546, 0.4473], [-2.9949026286280827, 12.099744373150699, 0.5315], [-3.135192915453727, 12.157948540085238, 0.4084], [-3.1917860106245115, 12.71126301972939, 0.5094], [-3.1661189657492814, 12.099744373150699, 0.4557], [-3.0656915776268474, 11.670182944782107, 0.6046], [-3.1914688860957625, 12.159584167547667, 0.4653], [-3.1595051777908054, 12.518178310078644, 0.4395]], 'schema': ['x1', 'x2', 'perf'], 'visualMap': {'min': 0.398, 'max': 46.43461000000001, 'dimension': 2}}, 'table_list': [[0, 55.6021, \"'x1': 0.0, 'x2': 0.0\", 0, 0.0004291534423828125], [1, 191.5818, \"'x1': 7.165853401331262, 'x2': 14.\", 0, 7.605552673339844e-05], [2, 15.4082, \"'x1': -4.758074896621956, 'x2': 14\", 0, 6.198883056640625e-05], [3, 138.8252, \"'x1': -4.2091039942886255, 'x2': 3\", 0, 7.82012939453125e-05], [4, 39.3354, \"'x1': -0.0652531517600714, 'x2': 1\", 0, 5.412101745605469e-05], [5, 15.6143, \"'x1': -4.910415141175238, 'x2': 15\", 0, 9.417533874511719e-05], [6, 5.2945, \"'x1': -3.3769676352366753, 'x2': 1\", 0, 0.00021505355834960938], [7, 45.416, \"'x1': -0.3861293679778317, 'x2': 1\", 0, 9.322166442871094e-05], [8, 6.9398, \"'x1': 2.0204019821532038, 'x2': 4.\", 0, 8.273124694824219e-05], [9, 13.6493, \"'x1': 4.918683051023349, 'x2': 0.0\", 0, 0.00013208389282226562], [10, 10.9609, \"'x1': 10.0, 'x2': 0.0\", 0, 5.1021575927734375e-05], [11, 17.4066, \"'x1': 7.1514718083860025, 'x2': 2.\", 0, 5.1975250244140625e-05], [12, 0.5566, \"'x1': 3.1858999525015523, 'x2': 2.\", 0, 4.410743713378906e-05], [13, 141.3069, \"'x1': 3.541775389666361, 'x2': 13.\", 0, 3.0994415283203125e-05], [14, 6.2526, \"'x1': 3.988153274737625, 'x2': 3.3\", 0, 4.506111145019531e-05], [15, 1.9955, \"'x1': 2.5565403413205425, 'x2': 2.\", 0, 0.00013971328735351562], [16, 2.0014, \"'x1': 10.0, 'x2': 3.24429906362515\", 0, 7.319450378417969e-05], [17, 2.6813, \"'x1': 2.4387848577713997, 'x2': 2.\", 0, 3.218650817871094e-05], [18, 2.6522, \"'x1': 10.0, 'x2': 2.16089324887747\", 0, 6.914138793945312e-05], [19, 0.4569, \"'x1': 3.187293057752809, 'x2': 2.0\", 0, 6.985664367675781e-05], [20, 0.4012, \"'x1': 3.1159110897106075, 'x2': 2.\", 0, 7.677078247070312e-05], [21, 0.5359, \"'x1': 3.3113128468073008, 'x2': 2.\", 0, 5.316734313964844e-05], [22, 0.6421, \"'x1': 9.315624267336112, 'x2': 2.8\", 0, 4.1961669921875e-05], [23, 0.8083, \"'x1': 9.170225087122153, 'x2': 1.9\", 0, 5.2928924560546875e-05], [24, 0.4053, \"'x1': 9.40588922954518, 'x2': 2.53\", 0, 4.76837158203125e-05], [25, 0.7085, \"'x1': -2.99917637083405, 'x2': 12.\", 0, 5.030632019042969e-05], [26, 2.5769, \"'x1': -2.88259761755215, 'x2': 13.\", 0, 6.222724914550781e-05], [27, 1.5127, \"'x1': -2.676410898522034, 'x2': 10\", 0, 5.91278076171875e-05], [28, 0.5413, \"'x1': -3.0296415229854197, 'x2': 1\", 0, 9.274482727050781e-05], [29, 0.5206, \"'x1': -3.291184499306516, 'x2': 12\", 0, 5.1975250244140625e-05], [30, 13.5509, \"'x1': -1.2337311581923376, 'x2': 7\", 0, 4.887580871582031e-05], [31, 115.833, \"'x1': 9.301712867172938, 'x2': 13.\", 0, 5.817413330078125e-05], [32, 0.403, \"'x1': -3.145390082642807, 'x2': 12\", 0, 7.295608520507812e-05], [33, 9.6694, \"'x1': 8.166069136864246, 'x2': 0.0\", 0, 6.079673767089844e-05], [34, 0.5419, \"'x1': 9.254647728377948, 'x2': 2.4\", 0, 5.817413330078125e-05], [35, 0.3982, \"'x1': -3.133560594536567, 'x2': 12\", 0, 6.103515625e-05], [36, 0.4035, \"'x1': 3.1758212707967264, 'x2': 2.\", 0, 4.887580871582031e-05], [37, 0.398, \"'x1': -3.145390082642807, 'x2': 12\", 0, 7.390975952148438e-05], [38, 0.398, \"'x1': -3.1453960982111675, 'x2': 1\", 0, 5.91278076171875e-05], [39, 0.5222, \"'x1': -3.1351922569759183, 'x2': 1\", 0, 5.984306335449219e-05], [40, 0.4474, \"'x1': -3.1351922569759183, 'x2': 1\", 0, 6.508827209472656e-05], [41, 0.4474, \"'x1': -3.1351925055918946, 'x2': 1\", 0, 4.506111145019531e-05], [42, 0.4473, \"'x1': -3.1237286095724146, 'x2': 1\", 0, 6.389617919921875e-05], [43, 0.5315, \"'x1': -2.9949026286280827, 'x2': 1\", 0, 6.389617919921875e-05], [44, 0.4084, \"'x1': -3.135192915453727, 'x2': 12\", 0, 5.4836273193359375e-05], [45, 0.5094, \"'x1': -3.1917860106245115, 'x2': 1\", 0, 5.1975250244140625e-05], [46, 0.4557, \"'x1': -3.1661189657492814, 'x2': 1\", 0, 6.818771362304688e-05], [47, 0.6046, \"'x1': -3.0656915776268474, 'x2': 1\", 0, 6.818771362304688e-05], [48, 0.4653, \"'x1': -3.1914688860957625, 'x2': 1\", 0, 5.91278076171875e-05], [49, 0.4395, \"'x1': -3.1595051777908054, 'x2': 1\", 0, 6.29425048828125e-05]], 'rh_config': {'0': {'x1': 0.0, 'x2': 0.0}, '1': {'x1': 7.165853401331262, 'x2': 14.475767258347362}, '2': {'x1': -4.758074896621956, 'x2': 14.268082474892696}, '3': {'x1': -4.2091039942886255, 'x2': 3.4353687863524525}, '4': {'x1': -0.0652531517600714, 'x2': 1.659893090879852}, '5': {'x1': -4.910415141175238, 'x2': 15.0}, '6': {'x1': -3.3769676352366753, 'x2': 15.0}, '7': {'x1': -0.3861293679778317, 'x2': 11.783649247055447}, '8': {'x1': 2.0204019821532038, 'x2': 4.366752779691891}, '9': {'x1': 4.918683051023349, 'x2': 0.0}, '10': {'x1': 10.0, 'x2': 0.0}, '11': {'x1': 7.1514718083860025, 'x2': 2.321534089619318}, '12': {'x1': 3.1858999525015523, 'x2': 2.627137509490704}, '13': {'x1': 3.541775389666361, 'x2': 13.822111932742315}, '14': {'x1': 3.988153274737625, 'x2': 3.324353043599895}, '15': {'x1': 2.5565403413205425, 'x2': 2.8007328553092528}, '16': {'x1': 10.0, 'x2': 3.244299063625155}, '17': {'x1': 2.4387848577713997, 'x2': 2.797211930873662}, '18': {'x1': 10.0, 'x2': 2.16089324887747}, '19': {'x1': 3.187293057752809, 'x2': 2.018285666315063}, '20': {'x1': 3.1159110897106075, 'x2': 2.3081714638915867}, '21': {'x1': 3.3113128468073008, 'x2': 2.1367123982061607}, '22': {'x1': 9.315624267336112, 'x2': 2.81700338773204}, '23': {'x1': 9.170225087122153, 'x2': 1.9509052100200435}, '24': {'x1': 9.40588922954518, 'x2': 2.5348638970225683}, '25': {'x1': -2.99917637083405, 'x2': 12.397290323828711}, '26': {'x1': -2.88259761755215, 'x2': 13.024592500252561}, '27': {'x1': -2.676410898522034, 'x2': 10.877537624389051}, '28': {'x1': -3.0296415229854197, 'x2': 11.718896713043742}, '29': {'x1': -3.291184499306516, 'x2': 12.513040796658917}, '30': {'x1': -1.2337311581923376, 'x2': 7.547585828947234}, '31': {'x1': 9.301712867172938, 'x2': 13.113843505394716}, '32': {'x1': -3.145390082642807, 'x2': 12.21316389940101}, '33': {'x1': 8.166069136864246, 'x2': 0.0}, '34': {'x1': 9.254647728377948, 'x2': 2.4088147081785714}, '35': {'x1': -3.133560594536567, 'x2': 12.260460165648341}, '36': {'x1': 3.1758212707967264, 'x2': 2.2545575656785823}, '37': {'x1': -3.145390082642807, 'x2': 12.290536423737146}, '38': {'x1': -3.1453960982111675, 'x2': 12.290529782344437}, '39': {'x1': -3.1351922569759183, 'x2': 11.907288702842454}, '40': {'x1': -3.1351922569759183, 'x2': 12.037474883235483}, '41': {'x1': -3.1351925055918946, 'x2': 12.03747327840057}, '42': {'x1': -3.1237286095724146, 'x2': 12.450910511103546}, '43': {'x1': -2.9949026286280827, 'x2': 12.099744373150699}, '44': {'x1': -3.135192915453727, 'x2': 12.157948540085238}, '45': {'x1': -3.1917860106245115, 'x2': 12.71126301972939}, '46': {'x1': -3.1661189657492814, 'x2': 12.099744373150699}, '47': {'x1': -3.0656915776268474, 'x2': 11.670182944782107}, '48': {'x1': -3.1914688860957625, 'x2': 12.159584167547667}, '49': {'x1': -3.1595051777908054, 'x2': 12.518178310078644}}, 'task_inf': {'table_field': ['task_id', 'Advisor Type', 'Surrogate Type', 'max_runs', 'Time Limit Per Trial'], 'table_data': ['test_04', 'default', 'gp', 50, 30]}}\n"
     ]
    },
    {
     "name": "stderr",
     "output_type": "stream",
     "text": [
      "\n"
     ]
    }
   ],
   "source": [
    "from openbox import Optimizer\n",
    "import os\n",
    "\n",
    "# Run\n",
    "opt = Optimizer(\n",
    "    branin, # 目标函数\n",
    "    space, # 搜索空间\n",
    "    num_constraints=0, # 没有约束条件\n",
    "    num_objs=1, # 单目标值\n",
    "    max_runs=50, # 优化目标函数50次\n",
    "    surrogate_type='gp', # 用高斯过程\n",
    "    time_limit_per_trial=30, # 最大时间预算30s\n",
    "    task_id='test_03', # 区别不同优化过程\n",
    "    # json_path=os.path.join(os.path.abspath(\".\"), 'bo_history'),\n",
    ")\n",
    "history = opt.run()"
   ]
  },
  {
   "cell_type": "code",
   "execution_count": null,
   "metadata": {
    "collapsed": false,
    "pycharm": {
     "name": "#%%\n"
    }
   },
   "outputs": [],
   "source": [
    "json_data = opt.load_json()\n",
    "print(json_data)"
   ]
  },
  {
   "cell_type": "code",
   "execution_count": null,
   "metadata": {
    "collapsed": false,
    "pycharm": {
     "name": "#%%\n"
    }
   },
   "outputs": [],
   "source": [
    "type(json_data)"
   ]
  },
  {
   "cell_type": "code",
   "execution_count": null,
   "metadata": {
    "collapsed": false,
    "pycharm": {
     "name": "#%%\n"
    }
   },
   "outputs": [],
   "source": [
    "json_data = json_data['data']\n",
    "type(json_data)"
   ]
  },
  {
   "cell_type": "code",
   "execution_count": null,
   "metadata": {
    "collapsed": false,
    "pycharm": {
     "name": "#%%\n"
    }
   },
   "outputs": [],
   "source": [
    "table_list = []\n",
    "rh_config = {}\n",
    "option = {'data': [], 'schema': [], 'visualMap': {}}\n",
    "perf_list = []\n",
    "for rh in json_data:\n",
    "    result = round(rh['objs'][0], 4)\n",
    "    config_str = str(rh['config'])\n",
    "    if len(config_str) > 35:\n",
    "        config_str = config_str[1:35]\n",
    "    else:\n",
    "        config_str = config_str[1:-1]\n",
    "    table_list.append(\n",
    "        [rh['iteration_id'], result, config_str, rh['trial_state'], rh['cost']])\n",
    "    rh_config[str(rh['iteration_id'])] = rh['config']\n",
    "    data = []\n",
    "    for parameter in rh['config'].keys():\n",
    "        data.append(rh['config'][parameter])\n",
    "    data.append(result)\n",
    "    option['data'].append(data)\n",
    "    perf_list.append(result)"
   ]
  },
  {
   "cell_type": "code",
   "execution_count": null,
   "metadata": {
    "collapsed": false,
    "pycharm": {
     "name": "#%%\n"
    }
   },
   "outputs": [],
   "source": [
    "table_list"
   ]
  },
  {
   "cell_type": "code",
   "execution_count": null,
   "metadata": {
    "collapsed": false,
    "pycharm": {
     "name": "#%%\n"
    }
   },
   "outputs": [],
   "source": [
    "rh_config"
   ]
  },
  {
   "cell_type": "code",
   "execution_count": null,
   "metadata": {
    "collapsed": false,
    "pycharm": {
     "name": "#%%\n"
    }
   },
   "outputs": [],
   "source": [
    "option"
   ]
  },
  {
   "cell_type": "code",
   "execution_count": null,
   "metadata": {
    "collapsed": false,
    "pycharm": {
     "name": "#%%\n"
    }
   },
   "outputs": [],
   "source": [
    "perf_list"
   ]
  },
  {
   "cell_type": "code",
   "execution_count": null,
   "metadata": {
    "collapsed": false,
    "pycharm": {
     "name": "#%%\n"
    }
   },
   "outputs": [],
   "source": [
    "import numpy as np\n",
    "if len(json_data) > 0:\n",
    "    option['schema'] = list(json_data[0]['config'].keys()) + ['perf']\n",
    "    option['visualMap']['min'] = np.percentile(perf_list, 0)\n",
    "    option['visualMap']['max'] = np.percentile(perf_list, 90)\n",
    "    option['visualMap']['dimension'] = len(option['schema']) - 1\n",
    "else:\n",
    "    option['visualMap']['min'] = 0\n",
    "    option['visualMap']['max'] = 100\n",
    "    option['visualMap']['dimension'] = 0"
   ]
  },
  {
   "cell_type": "code",
   "execution_count": null,
   "metadata": {
    "collapsed": false,
    "pycharm": {
     "name": "#%%\n"
    }
   },
   "outputs": [],
   "source": [
    "option"
   ]
  },
  {
   "cell_type": "code",
   "execution_count": null,
   "metadata": {
    "collapsed": false,
    "pycharm": {
     "name": "#%%\n"
    }
   },
   "outputs": [],
   "source": [
    "line_data = {'min': [], 'over': [], 'scat': []}\n",
    "import sys\n",
    "\n",
    "min_value = sys.maxsize\n",
    "\n",
    "for idx, perf in enumerate(perf_list):\n",
    "    if perf <= min_value:\n",
    "        min_value = perf\n",
    "        line_data['min'].append([idx, perf])\n",
    "        line_data['scat'].append([idx, perf])\n",
    "    else:\n",
    "        line_data['over'].append([idx, perf])\n",
    "line_data['min'].append([len(option['data']), min_value])"
   ]
  },
  {
   "cell_type": "code",
   "execution_count": null,
   "metadata": {
    "collapsed": false,
    "pycharm": {
     "name": "#%%\n"
    }
   },
   "outputs": [],
   "source": [
    "line_data"
   ]
  },
  {
   "cell_type": "code",
   "execution_count": null,
   "metadata": {
    "collapsed": false,
    "pycharm": {
     "name": "#%%\n"
    }
   },
   "outputs": [],
   "source": []
  }
 ],
 "metadata": {
  "kernelspec": {
   "display_name": "Python 3.8.13 ('my_openbox')",
   "language": "python",
   "name": "python3"
  },
  "language_info": {
   "codemirror_mode": {
    "name": "ipython",
    "version": 3
   },
   "file_extension": ".py",
   "mimetype": "text/x-python",
   "name": "python",
   "nbconvert_exporter": "python",
   "pygments_lexer": "ipython3",
   "version": "3.8.13"
  },
  "orig_nbformat": 4,
  "vscode": {
   "interpreter": {
    "hash": "4f7e0be0300b7d5f6b3fe5ea9ddbb8e167d22210f5ef38db82ffb5e565575d56"
   }
  }
 },
 "nbformat": 4,
 "nbformat_minor": 2
}

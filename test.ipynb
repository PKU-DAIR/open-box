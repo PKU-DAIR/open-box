{
 "cells": [
  {
   "cell_type": "code",
   "execution_count": 1,
   "metadata": {},
   "outputs": [
    {
     "name": "stdout",
     "output_type": "stream",
     "text": [
      "===== My Test Start =====\n",
      "[INFO] [2022-10-15 15:52:10,462] [Advisor] === [BO auto selection] === surrogate_type: gp. acq_type: ei. acq_optimizer_type: random_scipy.\n"
     ]
    },
    {
     "name": "stderr",
     "output_type": "stream",
     "text": [
      "  0%|          | 0/10 [00:00<?, ?it/s]"
     ]
    },
    {
     "name": "stdout",
     "output_type": "stream",
     "text": [
      "Save history to bo_history_test_install.json\n",
      "Save history to visual_bo_history_test_install.json\n",
      "[INFO] [2022-10-15 15:52:10,490] [OpenBox-test_install] Iteration 1, objective value: (55.602112642270264,).\n",
      "Save history to bo_history_test_install.json\n",
      "Save history to visual_bo_history_test_install.json\n",
      "[INFO] [2022-10-15 15:52:10,491] [OpenBox-test_install] Iteration 2, objective value: (185.75379495428467,).\n",
      "Save history to bo_history_test_install.json\n",
      "Save history to visual_bo_history_test_install.json\n",
      "[INFO] [2022-10-15 15:52:10,494] [OpenBox-test_install] Iteration 3, objective value: (2.148759491639556,).\n",
      "[INFO] [2022-10-15 15:52:10,494] [Advisor] Sample random config. rand_prob=0.100000.\n",
      "Save history to bo_history_test_install.json\n",
      "Save history to visual_bo_history_test_install.json\n",
      "[INFO] [2022-10-15 15:52:10,497] [OpenBox-test_install] Iteration 4, objective value: (44.985966723581285,).\n",
      "[INFO] [2022-10-15 15:52:10,497] [Advisor] Sample random config. rand_prob=0.100000.\n",
      "Save history to bo_history_test_install.json\n",
      "Save history to visual_bo_history_test_install.json\n",
      "[INFO] [2022-10-15 15:52:10,500] [OpenBox-test_install] Iteration 5, objective value: (89.25448362514994,).\n",
      "Save history to bo_history_test_install.json\n",
      "Save history to visual_bo_history_test_install.json\n",
      "[INFO] [2022-10-15 15:52:10,843] [OpenBox-test_install] Iteration 6, objective value: (34.48897933064461,).\n"
     ]
    },
    {
     "name": "stderr",
     "output_type": "stream",
     "text": [
      " 60%|██████    | 6/10 [00:00<00:00, 16.90it/s]"
     ]
    },
    {
     "name": "stdout",
     "output_type": "stream",
     "text": [
      "Save history to bo_history_test_install.json\n",
      "Save history to visual_bo_history_test_install.json\n",
      "[INFO] [2022-10-15 15:52:11,202] [OpenBox-test_install] Iteration 7, objective value: (33.81652011117299,).\n",
      "Save history to bo_history_test_install.json\n",
      "Save history to visual_bo_history_test_install.json\n",
      "[INFO] [2022-10-15 15:52:11,571] [OpenBox-test_install] Iteration 8, objective value: (10.131303585342879,).\n"
     ]
    },
    {
     "name": "stderr",
     "output_type": "stream",
     "text": [
      " 80%|████████  | 8/10 [00:01<00:00,  6.35it/s]"
     ]
    },
    {
     "name": "stdout",
     "output_type": "stream",
     "text": [
      "Save history to bo_history_test_install.json\n",
      "Save history to visual_bo_history_test_install.json\n",
      "[INFO] [2022-10-15 15:52:11,957] [OpenBox-test_install] Iteration 9, objective value: (2.737186759163812,).\n"
     ]
    },
    {
     "name": "stderr",
     "output_type": "stream",
     "text": [
      " 90%|█████████ | 9/10 [00:01<00:00,  4.99it/s]"
     ]
    },
    {
     "name": "stdout",
     "output_type": "stream",
     "text": [
      "[INFO] [2022-10-15 15:52:11,958] [Advisor] Sample random config. rand_prob=0.100000.\n",
      "Save history to bo_history_test_install.json\n",
      "Save history to visual_bo_history_test_install.json\n",
      "[INFO] [2022-10-15 15:52:11,961] [OpenBox-test_install] Iteration 10, objective value: (25.003852587984994,).\n"
     ]
    },
    {
     "name": "stderr",
     "output_type": "stream",
     "text": [
      "100%|██████████| 10/10 [00:01<00:00,  6.79it/s]"
     ]
    },
    {
     "name": "stdout",
     "output_type": "stream",
     "text": [
      "{'line_data': {'min': [[0, 55.6021], [2, 2.1488], [10, 2.1488]], 'over': [[1, 185.7538], [3, 44.986], [4, 89.2545], [5, 34.489], [6, 33.8165], [7, 10.1313], [8, 2.7372], [9, 25.0039]], 'scat': [[0, 55.6021], [2, 2.1488], [10, 2.1488]]}, 'parallel_data': {'data': [[0.0, 0.0, 55.6021], [8.12421706914896, 14.95000437998525, 185.7538], [-3.6949506510282717, 14.20823185078422, 2.1488], [8.857419248374747, 8.601818741741576, 44.986], [8.1096040779776, 10.62690025058993, 89.2545], [-5.0, 12.522038557339638, 34.489], [-2.0090004839093574, 15.0, 33.8165], [-4.6062019208830165, 15.0, 10.1313], [8.893401046118393, 3.0708530123755344, 2.7372], [-3.745708016716049, 8.98791343911411, 25.0039]], 'schema': ['x1', 'x2', 'perf'], 'visualMap': {'min': 2.1488, 'max': 98.90442999999996, 'dimension': 2}}, 'table_list': [[0, 55.6021, \"'x1': 0.0, 'x2': 0.0\", 0, 0.0], [1, 185.7538, \"'x1': 8.12421706914896, 'x2': 14.9\", 0, 0.0], [2, 2.1488, \"'x1': -3.6949506510282717, 'x2': 1\", 0, 0.0], [3, 44.986, \"'x1': 8.857419248374747, 'x2': 8.6\", 0, 0.0], [4, 89.2545, \"'x1': 8.1096040779776, 'x2': 10.62\", 0, 0.0], [5, 34.489, \"'x1': -5.0, 'x2': 12.5220385573396\", 0, 0.0], [6, 33.8165, \"'x1': -2.0090004839093574, 'x2': 1\", 0, 0.0], [7, 10.1313, \"'x1': -4.6062019208830165, 'x2': 1\", 0, 0.0], [8, 2.7372, \"'x1': 8.893401046118393, 'x2': 3.0\", 0, 0.0], [9, 25.0039, \"'x1': -3.745708016716049, 'x2': 8.\", 0, 0.0]], 'rh_config': {'0': {'x1': 0.0, 'x2': 0.0}, '1': {'x1': 8.12421706914896, 'x2': 14.95000437998525}, '2': {'x1': -3.6949506510282717, 'x2': 14.20823185078422}, '3': {'x1': 8.857419248374747, 'x2': 8.601818741741576}, '4': {'x1': 8.1096040779776, 'x2': 10.62690025058993}, '5': {'x1': -5.0, 'x2': 12.522038557339638}, '6': {'x1': -2.0090004839093574, 'x2': 15.0}, '7': {'x1': -4.6062019208830165, 'x2': 15.0}, '8': {'x1': 8.893401046118393, 'x2': 3.0708530123755344}, '9': {'x1': -3.745708016716049, 'x2': 8.98791343911411}}, 'task_inf': {'table_field': ['task_id', 'Advisor Type', 'Surrogate Type', 'max_runs', 'Time Limit Per Trial'], 'table_data': ['test_install', 'default', 'gp', 10, 30]}}\n",
      "===== Congratulations! All trials succeeded. =====\n"
     ]
    },
    {
     "name": "stderr",
     "output_type": "stream",
     "text": [
      "\n"
     ]
    }
   ],
   "source": [
    "from openbox import run_test\n",
    "run_test()"
   ]
  },
  {
   "cell_type": "code",
   "execution_count": 1,
   "metadata": {},
   "outputs": [],
   "source": [
    "from openbox import sp\n",
    "space = sp.Space()\n",
    "# 两个实数型（浮点型）变量\n",
    "x1 = sp.Real('x1', -5, 10, default_value=0)\n",
    "x2 = sp.Real(\"x2\", 0, 15, default_value=0)\n",
    "space.add_variables([x1, x2])\n",
    "\n",
    "# 整形变量\n",
    "i = sp.Int(\"i\", 0, 100) \n",
    "# 类别型变量\n",
    "kernel = sp.Categorical(\"kernel\", [\"rbf\", \"poly\", \"sigmoid\"], default_value=\"rbf\")\n",
    "\n",
    "import numpy as np\n",
    "\n",
    "# Define Objective Function\n",
    "def branin(config):\n",
    "    x1, x2 = config['x1'], config['x2']\n",
    "    y = (x2-5.1/(4*np.pi**2)*x1**2+5/np.pi*x1-6)**2+10*(1-1/(8*np.pi))*np.cos(x1)+10\n",
    "    return y"
   ]
  },
  {
   "cell_type": "code",
   "execution_count": 2,
   "metadata": {},
   "outputs": [
    {
     "name": "stdout",
     "output_type": "stream",
     "text": [
      "[INFO] [2022-10-16 17:24:57,356] [Advisor] === [BO auto selection] === acq_type: ei. acq_optimizer_type: random_scipy.\n"
     ]
    },
    {
     "name": "stderr",
     "output_type": "stream",
     "text": [
      "  0%|          | 0/50 [00:00<?, ?it/s]"
     ]
    },
    {
     "name": "stdout",
     "output_type": "stream",
     "text": [
      "Save history to bo_history_test_02.json\n",
      "Save history to visual_bo_history_test_02.json\n",
      "[INFO] [2022-10-16 17:24:57,381] [OpenBox-test_02] Iteration 1, objective value: [55.602112642270264].\n",
      "Save history to bo_history_test_02.json\n",
      "Save history to visual_bo_history_test_02.json\n",
      "[INFO] [2022-10-16 17:24:57,384] [OpenBox-test_02] Iteration 2, objective value: [166.17764093986233].\n",
      "Save history to bo_history_test_02.json\n",
      "Save history to visual_bo_history_test_02.json\n",
      "[INFO] [2022-10-16 17:24:57,386] [OpenBox-test_02] Iteration 3, objective value: [23.05360516354366].\n",
      "Save history to bo_history_test_02.json\n",
      "Save history to visual_bo_history_test_02.json\n",
      "[INFO] [2022-10-16 17:24:57,664] [OpenBox-test_02] Iteration 4, objective value: [257.0327423767456].\n"
     ]
    },
    {
     "name": "stderr",
     "output_type": "stream",
     "text": [
      "  8%|▊         | 4/50 [00:00<00:03, 14.03it/s]"
     ]
    },
    {
     "name": "stdout",
     "output_type": "stream",
     "text": [
      "Save history to bo_history_test_02.json\n",
      "Save history to visual_bo_history_test_02.json\n",
      "[INFO] [2022-10-16 17:24:57,869] [OpenBox-test_02] Iteration 5, objective value: [13.728217880926866].\n",
      "Save history to bo_history_test_02.json\n",
      "Save history to visual_bo_history_test_02.json\n",
      "[INFO] [2022-10-16 17:24:58,242] [OpenBox-test_02] Iteration 6, objective value: [138.68420402617272].\n"
     ]
    },
    {
     "name": "stderr",
     "output_type": "stream",
     "text": [
      " 12%|█▏        | 6/50 [00:00<00:07,  6.16it/s]"
     ]
    },
    {
     "name": "stdout",
     "output_type": "stream",
     "text": [
      "Save history to bo_history_test_02.json\n",
      "Save history to visual_bo_history_test_02.json\n",
      "[INFO] [2022-10-16 17:24:58,614] [OpenBox-test_02] Iteration 7, objective value: [33.272195571141935].\n"
     ]
    },
    {
     "name": "stderr",
     "output_type": "stream",
     "text": [
      " 14%|█▍        | 7/50 [00:01<00:09,  4.76it/s]"
     ]
    },
    {
     "name": "stdout",
     "output_type": "stream",
     "text": [
      "Save history to bo_history_test_02.json\n",
      "Save history to visual_bo_history_test_02.json\n",
      "[INFO] [2022-10-16 17:24:59,111] [OpenBox-test_02] Iteration 8, objective value: [3.1330041303334504].\n"
     ]
    },
    {
     "name": "stderr",
     "output_type": "stream",
     "text": [
      " 16%|█▌        | 8/50 [00:01<00:11,  3.56it/s]"
     ]
    },
    {
     "name": "stdout",
     "output_type": "stream",
     "text": [
      "Save history to bo_history_test_02.json\n",
      "Save history to visual_bo_history_test_02.json\n",
      "[INFO] [2022-10-16 17:24:59,615] [OpenBox-test_02] Iteration 9, objective value: [5.444261437317263].\n"
     ]
    },
    {
     "name": "stderr",
     "output_type": "stream",
     "text": [
      " 18%|█▊        | 9/50 [00:02<00:13,  2.95it/s]"
     ]
    },
    {
     "name": "stdout",
     "output_type": "stream",
     "text": [
      "Save history to bo_history_test_02.json\n",
      "Save history to visual_bo_history_test_02.json\n",
      "[INFO] [2022-10-16 17:25:00,035] [OpenBox-test_02] Iteration 10, objective value: [3.4963048343009095].\n"
     ]
    },
    {
     "name": "stderr",
     "output_type": "stream",
     "text": [
      " 20%|██        | 10/50 [00:02<00:14,  2.77it/s]"
     ]
    },
    {
     "name": "stdout",
     "output_type": "stream",
     "text": [
      "Save history to bo_history_test_02.json\n",
      "Save history to visual_bo_history_test_02.json\n",
      "[INFO] [2022-10-16 17:25:00,585] [OpenBox-test_02] Iteration 11, objective value: [17.725115369324936].\n"
     ]
    },
    {
     "name": "stderr",
     "output_type": "stream",
     "text": [
      " 22%|██▏       | 11/50 [00:03<00:16,  2.42it/s]"
     ]
    },
    {
     "name": "stdout",
     "output_type": "stream",
     "text": [
      "Save history to bo_history_test_02.json\n",
      "Save history to visual_bo_history_test_02.json\n",
      "[INFO] [2022-10-16 17:25:01,195] [OpenBox-test_02] Iteration 12, objective value: [15.1579538427634].\n"
     ]
    },
    {
     "name": "stderr",
     "output_type": "stream",
     "text": [
      " 24%|██▍       | 12/50 [00:03<00:17,  2.13it/s]"
     ]
    },
    {
     "name": "stdout",
     "output_type": "stream",
     "text": [
      "Save history to bo_history_test_02.json\n",
      "Save history to visual_bo_history_test_02.json\n",
      "[INFO] [2022-10-16 17:25:01,689] [OpenBox-test_02] Iteration 13, objective value: [10.960889035651505].\n"
     ]
    },
    {
     "name": "stderr",
     "output_type": "stream",
     "text": [
      " 26%|██▌       | 13/50 [00:04<00:17,  2.10it/s]"
     ]
    },
    {
     "name": "stdout",
     "output_type": "stream",
     "text": [
      "Save history to bo_history_test_02.json\n",
      "Save history to visual_bo_history_test_02.json\n",
      "[INFO] [2022-10-16 17:25:02,112] [OpenBox-test_02] Iteration 14, objective value: [2.25410735189776].\n"
     ]
    },
    {
     "name": "stderr",
     "output_type": "stream",
     "text": [
      " 28%|██▊       | 14/50 [00:04<00:16,  2.17it/s]"
     ]
    },
    {
     "name": "stdout",
     "output_type": "stream",
     "text": [
      "Save history to bo_history_test_02.json\n",
      "Save history to visual_bo_history_test_02.json\n",
      "[INFO] [2022-10-16 17:25:02,489] [OpenBox-test_02] Iteration 15, objective value: [21.136930581622174].\n"
     ]
    },
    {
     "name": "stderr",
     "output_type": "stream",
     "text": [
      " 30%|███       | 15/50 [00:05<00:15,  2.29it/s]"
     ]
    },
    {
     "name": "stdout",
     "output_type": "stream",
     "text": [
      "Save history to bo_history_test_02.json\n",
      "Save history to visual_bo_history_test_02.json\n",
      "[INFO] [2022-10-16 17:25:02,997] [OpenBox-test_02] Iteration 16, objective value: [130.31370560280834].\n"
     ]
    },
    {
     "name": "stderr",
     "output_type": "stream",
     "text": [
      " 32%|███▏      | 16/50 [00:05<00:15,  2.19it/s]"
     ]
    },
    {
     "name": "stdout",
     "output_type": "stream",
     "text": [
      "Save history to bo_history_test_02.json\n",
      "Save history to visual_bo_history_test_02.json\n",
      "[INFO] [2022-10-16 17:25:03,460] [OpenBox-test_02] Iteration 17, objective value: [2.9644186492752596].\n"
     ]
    },
    {
     "name": "stderr",
     "output_type": "stream",
     "text": [
      " 34%|███▍      | 17/50 [00:06<00:15,  2.18it/s]"
     ]
    },
    {
     "name": "stdout",
     "output_type": "stream",
     "text": [
      "Save history to bo_history_test_02.json\n",
      "Save history to visual_bo_history_test_02.json\n",
      "[INFO] [2022-10-16 17:25:03,994] [OpenBox-test_02] Iteration 18, objective value: [0.5294188776148552].\n"
     ]
    },
    {
     "name": "stderr",
     "output_type": "stream",
     "text": [
      " 36%|███▌      | 18/50 [00:06<00:15,  2.08it/s]"
     ]
    },
    {
     "name": "stdout",
     "output_type": "stream",
     "text": [
      "Save history to bo_history_test_02.json\n",
      "Save history to visual_bo_history_test_02.json\n",
      "[INFO] [2022-10-16 17:25:04,604] [OpenBox-test_02] Iteration 19, objective value: [1.0991816697407568].\n"
     ]
    },
    {
     "name": "stderr",
     "output_type": "stream",
     "text": [
      " 38%|███▊      | 19/50 [00:07<00:16,  1.92it/s]"
     ]
    },
    {
     "name": "stdout",
     "output_type": "stream",
     "text": [
      "[INFO] [2022-10-16 17:25:04,605] [Advisor] Sample random config. rand_prob=0.100000.\n",
      "Save history to bo_history_test_02.json\n",
      "Save history to visual_bo_history_test_02.json\n",
      "[INFO] [2022-10-16 17:25:04,610] [OpenBox-test_02] Iteration 20, objective value: [5.027236932833327].\n",
      "Save history to bo_history_test_02.json\n",
      "Save history to visual_bo_history_test_02.json\n",
      "[INFO] [2022-10-16 17:25:05,293] [OpenBox-test_02] Iteration 21, objective value: [2.1779367625560493].\n"
     ]
    },
    {
     "name": "stderr",
     "output_type": "stream",
     "text": [
      " 42%|████▏     | 21/50 [00:07<00:12,  2.28it/s]"
     ]
    },
    {
     "name": "stdout",
     "output_type": "stream",
     "text": [
      "Save history to bo_history_test_02.json\n",
      "Save history to visual_bo_history_test_02.json\n",
      "[INFO] [2022-10-16 17:25:05,931] [OpenBox-test_02] Iteration 22, objective value: [6.310355761888639].\n"
     ]
    },
    {
     "name": "stderr",
     "output_type": "stream",
     "text": [
      " 44%|████▍     | 22/50 [00:08<00:13,  2.05it/s]"
     ]
    },
    {
     "name": "stdout",
     "output_type": "stream",
     "text": [
      "Save history to bo_history_test_02.json\n",
      "Save history to visual_bo_history_test_02.json\n",
      "[INFO] [2022-10-16 17:25:06,466] [OpenBox-test_02] Iteration 23, objective value: [0.49145655637904717].\n"
     ]
    },
    {
     "name": "stderr",
     "output_type": "stream",
     "text": [
      " 46%|████▌     | 23/50 [00:09<00:13,  2.00it/s]"
     ]
    },
    {
     "name": "stdout",
     "output_type": "stream",
     "text": [
      "Save history to bo_history_test_02.json\n",
      "Save history to visual_bo_history_test_02.json\n",
      "[INFO] [2022-10-16 17:25:07,164] [OpenBox-test_02] Iteration 24, objective value: [0.6052716189003657].\n"
     ]
    },
    {
     "name": "stderr",
     "output_type": "stream",
     "text": [
      " 48%|████▊     | 24/50 [00:09<00:14,  1.80it/s]"
     ]
    },
    {
     "name": "stdout",
     "output_type": "stream",
     "text": [
      "Save history to bo_history_test_02.json\n",
      "Save history to visual_bo_history_test_02.json\n",
      "[INFO] [2022-10-16 17:25:07,667] [OpenBox-test_02] Iteration 25, objective value: [4.128369007966682].\n"
     ]
    },
    {
     "name": "stderr",
     "output_type": "stream",
     "text": [
      " 50%|█████     | 25/50 [00:10<00:13,  1.85it/s]"
     ]
    },
    {
     "name": "stdout",
     "output_type": "stream",
     "text": [
      "Save history to bo_history_test_02.json\n",
      "Save history to visual_bo_history_test_02.json\n",
      "[INFO] [2022-10-16 17:25:08,430] [OpenBox-test_02] Iteration 26, objective value: [0.7868197227197236].\n"
     ]
    },
    {
     "name": "stderr",
     "output_type": "stream",
     "text": [
      " 52%|█████▏    | 26/50 [00:11<00:14,  1.66it/s]"
     ]
    },
    {
     "name": "stdout",
     "output_type": "stream",
     "text": [
      "Save history to bo_history_test_02.json\n",
      "Save history to visual_bo_history_test_02.json\n",
      "[INFO] [2022-10-16 17:25:09,252] [OpenBox-test_02] Iteration 27, objective value: [0.5372861082799449].\n"
     ]
    },
    {
     "name": "stderr",
     "output_type": "stream",
     "text": [
      " 54%|█████▍    | 27/50 [00:11<00:15,  1.50it/s]"
     ]
    },
    {
     "name": "stdout",
     "output_type": "stream",
     "text": [
      "[INFO] [2022-10-16 17:25:09,253] [Advisor] Sample random config. rand_prob=0.100000.\n",
      "Save history to bo_history_test_02.json\n",
      "Save history to visual_bo_history_test_02.json\n",
      "[INFO] [2022-10-16 17:25:09,258] [OpenBox-test_02] Iteration 28, objective value: [42.504935045557225].\n",
      "Save history to bo_history_test_02.json\n",
      "Save history to visual_bo_history_test_02.json\n",
      "[INFO] [2022-10-16 17:25:09,810] [OpenBox-test_02] Iteration 29, objective value: [0.40425907820747575].\n"
     ]
    },
    {
     "name": "stderr",
     "output_type": "stream",
     "text": [
      " 58%|█████▊    | 29/50 [00:12<00:10,  2.04it/s]"
     ]
    },
    {
     "name": "stdout",
     "output_type": "stream",
     "text": [
      "Save history to bo_history_test_02.json\n",
      "Save history to visual_bo_history_test_02.json\n",
      "[INFO] [2022-10-16 17:25:10,284] [OpenBox-test_02] Iteration 30, objective value: [4.817254372949739].\n"
     ]
    },
    {
     "name": "stderr",
     "output_type": "stream",
     "text": [
      " 60%|██████    | 30/50 [00:12<00:09,  2.05it/s]"
     ]
    },
    {
     "name": "stdout",
     "output_type": "stream",
     "text": [
      "Save history to bo_history_test_02.json\n",
      "Save history to visual_bo_history_test_02.json\n",
      "[INFO] [2022-10-16 17:25:10,938] [OpenBox-test_02] Iteration 31, objective value: [0.4239070709468944].\n"
     ]
    },
    {
     "name": "stderr",
     "output_type": "stream",
     "text": [
      " 62%|██████▏   | 31/50 [00:13<00:10,  1.89it/s]"
     ]
    },
    {
     "name": "stdout",
     "output_type": "stream",
     "text": [
      "Save history to bo_history_test_02.json\n",
      "Save history to visual_bo_history_test_02.json\n",
      "[INFO] [2022-10-16 17:25:11,934] [OpenBox-test_02] Iteration 32, objective value: [0.39827465153999064].\n"
     ]
    },
    {
     "name": "stderr",
     "output_type": "stream",
     "text": [
      " 64%|██████▍   | 32/50 [00:14<00:11,  1.52it/s]"
     ]
    },
    {
     "name": "stdout",
     "output_type": "stream",
     "text": [
      "Save history to bo_history_test_02.json\n",
      "Save history to visual_bo_history_test_02.json\n",
      "[INFO] [2022-10-16 17:25:12,422] [OpenBox-test_02] Iteration 33, objective value: [0.42147713230466266].\n"
     ]
    },
    {
     "name": "stderr",
     "output_type": "stream",
     "text": [
      " 66%|██████▌   | 33/50 [00:15<00:10,  1.64it/s]"
     ]
    },
    {
     "name": "stdout",
     "output_type": "stream",
     "text": [
      "[INFO] [2022-10-16 17:25:12,423] [Advisor] Sample random config. rand_prob=0.100000.\n",
      "Save history to bo_history_test_02.json\n",
      "Save history to visual_bo_history_test_02.json\n",
      "[INFO] [2022-10-16 17:25:12,428] [OpenBox-test_02] Iteration 34, objective value: [148.66449023481573].\n",
      "Save history to bo_history_test_02.json\n",
      "Save history to visual_bo_history_test_02.json\n",
      "[INFO] [2022-10-16 17:25:12,961] [OpenBox-test_02] Iteration 35, objective value: [0.5881971452211623].\n"
     ]
    },
    {
     "name": "stderr",
     "output_type": "stream",
     "text": [
      " 70%|███████   | 35/50 [00:15<00:06,  2.18it/s]"
     ]
    },
    {
     "name": "stdout",
     "output_type": "stream",
     "text": [
      "Save history to bo_history_test_02.json\n",
      "Save history to visual_bo_history_test_02.json\n",
      "[INFO] [2022-10-16 17:25:13,504] [OpenBox-test_02] Iteration 36, objective value: [0.4632546623611642].\n"
     ]
    },
    {
     "name": "stderr",
     "output_type": "stream",
     "text": [
      " 72%|███████▏  | 36/50 [00:16<00:06,  2.09it/s]"
     ]
    },
    {
     "name": "stdout",
     "output_type": "stream",
     "text": [
      "Save history to bo_history_test_02.json\n",
      "Save history to visual_bo_history_test_02.json\n",
      "[INFO] [2022-10-16 17:25:13,979] [OpenBox-test_02] Iteration 37, objective value: [1.0788823120766935].\n"
     ]
    },
    {
     "name": "stderr",
     "output_type": "stream",
     "text": [
      " 74%|███████▍  | 37/50 [00:16<00:06,  2.09it/s]"
     ]
    },
    {
     "name": "stdout",
     "output_type": "stream",
     "text": [
      "Save history to bo_history_test_02.json\n",
      "Save history to visual_bo_history_test_02.json\n",
      "[INFO] [2022-10-16 17:25:14,507] [OpenBox-test_02] Iteration 38, objective value: [0.3986107713180438].\n"
     ]
    },
    {
     "name": "stderr",
     "output_type": "stream",
     "text": [
      " 76%|███████▌  | 38/50 [00:17<00:05,  2.04it/s]"
     ]
    },
    {
     "name": "stdout",
     "output_type": "stream",
     "text": [
      "Save history to bo_history_test_02.json\n",
      "Save history to visual_bo_history_test_02.json\n",
      "[INFO] [2022-10-16 17:25:14,925] [OpenBox-test_02] Iteration 39, objective value: [0.4230909558672966].\n"
     ]
    },
    {
     "name": "stderr",
     "output_type": "stream",
     "text": [
      " 78%|███████▊  | 39/50 [00:17<00:05,  2.12it/s]"
     ]
    },
    {
     "name": "stdout",
     "output_type": "stream",
     "text": [
      "Save history to bo_history_test_02.json\n",
      "Save history to visual_bo_history_test_02.json\n",
      "[INFO] [2022-10-16 17:25:15,451] [OpenBox-test_02] Iteration 40, objective value: [0.4064913479270338].\n"
     ]
    },
    {
     "name": "stderr",
     "output_type": "stream",
     "text": [
      " 80%|████████  | 40/50 [00:18<00:04,  2.06it/s]"
     ]
    },
    {
     "name": "stdout",
     "output_type": "stream",
     "text": [
      "Save history to bo_history_test_02.json\n",
      "Save history to visual_bo_history_test_02.json\n",
      "[INFO] [2022-10-16 17:25:15,975] [OpenBox-test_02] Iteration 41, objective value: [0.39898442600912176].\n"
     ]
    },
    {
     "name": "stderr",
     "output_type": "stream",
     "text": [
      " 82%|████████▏ | 41/50 [00:18<00:04,  2.01it/s]"
     ]
    },
    {
     "name": "stdout",
     "output_type": "stream",
     "text": [
      "Save history to bo_history_test_02.json\n",
      "Save history to visual_bo_history_test_02.json\n",
      "[INFO] [2022-10-16 17:25:16,517] [OpenBox-test_02] Iteration 42, objective value: [0.41230848470719117].\n"
     ]
    },
    {
     "name": "stderr",
     "output_type": "stream",
     "text": [
      " 84%|████████▍ | 42/50 [00:19<00:04,  1.96it/s]"
     ]
    },
    {
     "name": "stdout",
     "output_type": "stream",
     "text": [
      "Save history to bo_history_test_02.json\n",
      "Save history to visual_bo_history_test_02.json\n",
      "[INFO] [2022-10-16 17:25:16,995] [OpenBox-test_02] Iteration 43, objective value: [0.42534711775001455].\n"
     ]
    },
    {
     "name": "stderr",
     "output_type": "stream",
     "text": [
      " 86%|████████▌ | 43/50 [00:19<00:03,  2.00it/s]"
     ]
    },
    {
     "name": "stdout",
     "output_type": "stream",
     "text": [
      "Save history to bo_history_test_02.json\n",
      "Save history to visual_bo_history_test_02.json\n",
      "[INFO] [2022-10-16 17:25:17,498] [OpenBox-test_02] Iteration 44, objective value: [0.40425944960977667].\n"
     ]
    },
    {
     "name": "stderr",
     "output_type": "stream",
     "text": [
      " 88%|████████▊ | 44/50 [00:20<00:03,  1.99it/s]"
     ]
    },
    {
     "name": "stdout",
     "output_type": "stream",
     "text": [
      "Save history to bo_history_test_02.json\n",
      "Save history to visual_bo_history_test_02.json\n",
      "[INFO] [2022-10-16 17:25:18,172] [OpenBox-test_02] Iteration 45, objective value: [0.4230889529352453].\n"
     ]
    },
    {
     "name": "stderr",
     "output_type": "stream",
     "text": [
      " 90%|█████████ | 45/50 [00:20<00:02,  1.81it/s]"
     ]
    },
    {
     "name": "stdout",
     "output_type": "stream",
     "text": [
      "Save history to bo_history_test_02.json\n",
      "Save history to visual_bo_history_test_02.json\n",
      "[INFO] [2022-10-16 17:25:18,806] [OpenBox-test_02] Iteration 46, objective value: [0.524210965906752].\n"
     ]
    },
    {
     "name": "stderr",
     "output_type": "stream",
     "text": [
      " 92%|█████████▏| 46/50 [00:21<00:02,  1.73it/s]"
     ]
    },
    {
     "name": "stdout",
     "output_type": "stream",
     "text": [
      "Save history to bo_history_test_02.json\n",
      "Save history to visual_bo_history_test_02.json\n",
      "[INFO] [2022-10-16 17:25:19,589] [OpenBox-test_02] Iteration 47, objective value: [0.6185326147478225].\n"
     ]
    },
    {
     "name": "stderr",
     "output_type": "stream",
     "text": [
      " 94%|█████████▍| 47/50 [00:22<00:01,  1.57it/s]"
     ]
    },
    {
     "name": "stdout",
     "output_type": "stream",
     "text": [
      "Save history to bo_history_test_02.json\n",
      "Save history to visual_bo_history_test_02.json\n",
      "[INFO] [2022-10-16 17:25:20,223] [OpenBox-test_02] Iteration 48, objective value: [0.7504767745318102].\n"
     ]
    },
    {
     "name": "stderr",
     "output_type": "stream",
     "text": [
      " 96%|█████████▌| 48/50 [00:22<00:01,  1.57it/s]"
     ]
    },
    {
     "name": "stdout",
     "output_type": "stream",
     "text": [
      "Save history to bo_history_test_02.json\n",
      "Save history to visual_bo_history_test_02.json\n",
      "[INFO] [2022-10-16 17:25:21,115] [OpenBox-test_02] Iteration 49, objective value: [0.42308386537223086].\n"
     ]
    },
    {
     "name": "stderr",
     "output_type": "stream",
     "text": [
      " 98%|█████████▊| 49/50 [00:23<00:00,  1.40it/s]"
     ]
    },
    {
     "name": "stdout",
     "output_type": "stream",
     "text": [
      "[INFO] [2022-10-16 17:25:21,116] [Advisor] Sample random config. rand_prob=0.100000.\n",
      "Save history to bo_history_test_02.json\n",
      "Save history to visual_bo_history_test_02.json\n",
      "[INFO] [2022-10-16 17:25:21,122] [OpenBox-test_02] Iteration 50, objective value: [25.27036473922758].\n"
     ]
    },
    {
     "name": "stderr",
     "output_type": "stream",
     "text": [
      "100%|██████████| 50/50 [00:23<00:00,  2.11it/s]\n"
     ]
    }
   ],
   "source": [
    "from openbox import Optimizer\n",
    "import os\n",
    "\n",
    "# Run\n",
    "opt = Optimizer(\n",
    "    branin, # 目标函数\n",
    "    space, # 搜索空间\n",
    "    num_constraints=0, # 没有约束条件\n",
    "    num_objs=1, # 单目标值\n",
    "    max_runs=50, # 优化目标函数50次\n",
    "    surrogate_type='gp', # 用高斯过程\n",
    "    time_limit_per_trial=30, # 最大时间预算30s\n",
    "    task_id='test_02', # 区别不同优化过程\n",
    "    # json_path=os.path.join(os.path.abspath(\".\"), 'bo_history'),\n",
    ")\n",
    "history = opt.run()"
   ]
  },
  {
   "cell_type": "code",
   "execution_count": null,
   "metadata": {
    "collapsed": false,
    "pycharm": {
     "name": "#%%\n"
    }
   },
   "outputs": [],
   "source": [
    "json_data = opt.load_json()\n",
    "print(json_data)"
   ]
  },
  {
   "cell_type": "code",
   "execution_count": null,
   "metadata": {
    "collapsed": false,
    "pycharm": {
     "name": "#%%\n"
    }
   },
   "outputs": [],
   "source": [
    "type(json_data)"
   ]
  },
  {
   "cell_type": "code",
   "execution_count": null,
   "metadata": {
    "collapsed": false,
    "pycharm": {
     "name": "#%%\n"
    }
   },
   "outputs": [],
   "source": [
    "json_data = json_data['data']\n",
    "type(json_data)"
   ]
  },
  {
   "cell_type": "code",
   "execution_count": null,
   "metadata": {
    "collapsed": false,
    "pycharm": {
     "name": "#%%\n"
    }
   },
   "outputs": [],
   "source": [
    "table_list = []\n",
    "rh_config = {}\n",
    "option = {'data': [], 'schema': [], 'visualMap': {}}\n",
    "perf_list = []\n",
    "for rh in json_data:\n",
    "    result = round(rh['objs'][0], 4)\n",
    "    config_str = str(rh['config'])\n",
    "    if len(config_str) > 35:\n",
    "        config_str = config_str[1:35]\n",
    "    else:\n",
    "        config_str = config_str[1:-1]\n",
    "    table_list.append(\n",
    "        [rh['iteration_id'], result, config_str, rh['trial_state'], rh['cost']])\n",
    "    rh_config[str(rh['iteration_id'])] = rh['config']\n",
    "    data = []\n",
    "    for parameter in rh['config'].keys():\n",
    "        data.append(rh['config'][parameter])\n",
    "    data.append(result)\n",
    "    option['data'].append(data)\n",
    "    perf_list.append(result)"
   ]
  },
  {
   "cell_type": "code",
   "execution_count": null,
   "metadata": {
    "collapsed": false,
    "pycharm": {
     "name": "#%%\n"
    }
   },
   "outputs": [],
   "source": [
    "table_list"
   ]
  },
  {
   "cell_type": "code",
   "execution_count": null,
   "metadata": {
    "collapsed": false,
    "pycharm": {
     "name": "#%%\n"
    }
   },
   "outputs": [],
   "source": [
    "rh_config"
   ]
  },
  {
   "cell_type": "code",
   "execution_count": null,
   "metadata": {
    "collapsed": false,
    "pycharm": {
     "name": "#%%\n"
    }
   },
   "outputs": [],
   "source": [
    "option"
   ]
  },
  {
   "cell_type": "code",
   "execution_count": null,
   "metadata": {
    "collapsed": false,
    "pycharm": {
     "name": "#%%\n"
    }
   },
   "outputs": [],
   "source": [
    "perf_list"
   ]
  },
  {
   "cell_type": "code",
   "execution_count": null,
   "metadata": {
    "collapsed": false,
    "pycharm": {
     "name": "#%%\n"
    }
   },
   "outputs": [],
   "source": [
    "import numpy as np\n",
    "if len(json_data) > 0:\n",
    "    option['schema'] = list(json_data[0]['config'].keys()) + ['perf']\n",
    "    option['visualMap']['min'] = np.percentile(perf_list, 0)\n",
    "    option['visualMap']['max'] = np.percentile(perf_list, 90)\n",
    "    option['visualMap']['dimension'] = len(option['schema']) - 1\n",
    "else:\n",
    "    option['visualMap']['min'] = 0\n",
    "    option['visualMap']['max'] = 100\n",
    "    option['visualMap']['dimension'] = 0"
   ]
  },
  {
   "cell_type": "code",
   "execution_count": null,
   "metadata": {
    "collapsed": false,
    "pycharm": {
     "name": "#%%\n"
    }
   },
   "outputs": [],
   "source": [
    "option"
   ]
  },
  {
   "cell_type": "code",
   "execution_count": null,
   "metadata": {
    "collapsed": false,
    "pycharm": {
     "name": "#%%\n"
    }
   },
   "outputs": [],
   "source": [
    "line_data = {'min': [], 'over': [], 'scat': []}\n",
    "import sys\n",
    "\n",
    "min_value = sys.maxsize\n",
    "\n",
    "for idx, perf in enumerate(perf_list):\n",
    "    if perf <= min_value:\n",
    "        min_value = perf\n",
    "        line_data['min'].append([idx, perf])\n",
    "        line_data['scat'].append([idx, perf])\n",
    "    else:\n",
    "        line_data['over'].append([idx, perf])\n",
    "line_data['min'].append([len(option['data']), min_value])"
   ]
  },
  {
   "cell_type": "code",
   "execution_count": null,
   "metadata": {
    "collapsed": false,
    "pycharm": {
     "name": "#%%\n"
    }
   },
   "outputs": [],
   "source": [
    "line_data"
   ]
  },
  {
   "cell_type": "code",
   "execution_count": 1,
   "metadata": {
    "collapsed": false,
    "pycharm": {
     "name": "#%%\n"
    }
   },
   "outputs": [],
   "source": [
    "import re\n",
    "import os"
   ]
  },
  {
   "cell_type": "code",
   "source": [
    "visual_json_path = os.path.join(os.path.join(os.path.abspath(\".\"), 'bo_history'), 'visual_bo_history_test_01.json')\n",
    "tmp_path = os.path.join(os.path.abspath(\".\"), 'visualization/templates/visual_template.html')\n",
    "html_path = os.path.join(os.path.join(os.path.abspath(\".\"), 'visualization'), 'bo_visualization.html')"
   ],
   "metadata": {
    "collapsed": false,
    "pycharm": {
     "name": "#%%\n"
    }
   },
   "execution_count": 23,
   "outputs": []
  },
  {
   "cell_type": "code",
   "execution_count": 3,
   "outputs": [
    {
     "data": {
      "text/plain": "'D:\\\\xbc\\\\Fighting\\\\AutoML\\\\openbox\\\\visualization\\\\open-box\\\\visualization/templates/visual_template.html'"
     },
     "execution_count": 3,
     "metadata": {},
     "output_type": "execute_result"
    }
   ],
   "source": [
    "tmp_path"
   ],
   "metadata": {
    "collapsed": false,
    "pycharm": {
     "name": "#%%\n"
    }
   }
  },
  {
   "cell_type": "code",
   "execution_count": 4,
   "outputs": [],
   "source": [
    "html_text = ''\n",
    "with open(tmp_path, 'r') as f:\n",
    "    html_text = f.read()\n"
   ],
   "metadata": {
    "collapsed": false,
    "pycharm": {
     "name": "#%%\n"
    }
   }
  },
  {
   "cell_type": "code",
   "execution_count": 5,
   "outputs": [
    {
     "data": {
      "text/plain": "'<!DOCTYPE html>\\n<html>\\n<head>\\n    <title>openbox visualiztion</title>\\n    <meta charset=\"UTF-8\">\\n    \\n</head>\\n<body>\\n    <script>\\n        document.write(\\'<h1>visualization</h1>\\');\\n    </script>\\n    <script type=\"text/javascript\" src=\"json_path\"></script>\\n    <script>\\n        // document.write(typeof(data));\\n        document.write(\\'<div>task_id: \\' + info.data[0].task_id + \\'</div><br></br>\\');\\n        for (var i=0, len=info.data.length; i<len; i++){\\n            document.write(\\'<div>iteration_id: \\' + info.data[i].iteration_id + \\'</div>\\');\\n            document.write(\\'<div>objs: \\' + info.data[i].objs + \\'</div>\\');\\n            document.write(\\'<br></br>\\');\\n        }\\n    </script>\\n</body>\\n</html>'"
     },
     "execution_count": 5,
     "metadata": {},
     "output_type": "execute_result"
    }
   ],
   "source": [
    "html_text"
   ],
   "metadata": {
    "collapsed": false,
    "pycharm": {
     "name": "#%%\n"
    }
   }
  },
  {
   "cell_type": "code",
   "execution_count": 24,
   "outputs": [],
   "source": [
    "result = re.sub(\"<script type=\\\"text/javascript\\\" src=\\\"json_path\\\"></script>\", \"<script type=\\\"text/javascript\\\" src=\" + repr(visual_json_path) + \"></script>\", html_text)"
   ],
   "metadata": {
    "collapsed": false,
    "pycharm": {
     "name": "#%%\n"
    }
   }
  },
  {
   "cell_type": "code",
   "execution_count": 25,
   "outputs": [
    {
     "name": "stdout",
     "output_type": "stream",
     "text": [
      "<!DOCTYPE html>\n",
      "<html>\n",
      "<head>\n",
      "    <title>openbox visualiztion</title>\n",
      "    <meta charset=\"UTF-8\">\n",
      "    \n",
      "</head>\n",
      "<body>\n",
      "    <script>\n",
      "        document.write('<h1>visualization</h1>');\n",
      "    </script>\n",
      "    <script type=\"text/javascript\" src='D:\\xbc\\Fighting\\AutoML\\openbox\\visualization\\open-box\\bo_history\\visual_bo_history_test_01.json'></script>\n",
      "    <script>\n",
      "        // document.write(typeof(data));\n",
      "        document.write('<div>task_id: ' + info.data[0].task_id + '</div><br></br>');\n",
      "        for (var i=0, len=info.data.length; i<len; i++){\n",
      "            document.write('<div>iteration_id: ' + info.data[i].iteration_id + '</div>');\n",
      "            document.write('<div>objs: ' + info.data[i].objs + '</div>');\n",
      "            document.write('<br></br>');\n",
      "        }\n",
      "    </script>\n",
      "</body>\n",
      "</html>\n"
     ]
    }
   ],
   "source": [
    "print(result)"
   ],
   "metadata": {
    "collapsed": false,
    "pycharm": {
     "name": "#%%\n"
    }
   }
  },
  {
   "cell_type": "code",
   "execution_count": 26,
   "outputs": [],
   "source": [
    "with open(html_path, \"w+\") as f:\n",
    "    f.write(result)"
   ],
   "metadata": {
    "collapsed": false,
    "pycharm": {
     "name": "#%%\n"
    }
   }
  },
  {
   "cell_type": "code",
   "execution_count": null,
   "outputs": [],
   "source": [],
   "metadata": {
    "collapsed": false,
    "pycharm": {
     "name": "#%%\n"
    }
   }
  }
 ],
 "metadata": {
  "kernelspec": {
   "display_name": "Python 3.8.13 ('my_openbox')",
   "language": "python",
   "name": "python3"
  },
  "language_info": {
   "codemirror_mode": {
    "name": "ipython",
    "version": 3
   },
   "file_extension": ".py",
   "mimetype": "text/x-python",
   "name": "python",
   "nbconvert_exporter": "python",
   "pygments_lexer": "ipython3",
   "version": "3.8.13"
  },
  "orig_nbformat": 4,
  "vscode": {
   "interpreter": {
    "hash": "4f7e0be0300b7d5f6b3fe5ea9ddbb8e167d22210f5ef38db82ffb5e565575d56"
   }
  }
 },
 "nbformat": 4,
 "nbformat_minor": 2
}
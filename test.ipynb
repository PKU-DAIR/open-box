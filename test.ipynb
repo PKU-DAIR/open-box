{
 "cells": [
  {
   "cell_type": "code",
   "execution_count": 1,
   "metadata": {},
   "outputs": [
    {
     "name": "stdout",
     "output_type": "stream",
     "text": [
      "===== My Test Start =====\n",
      "Traceback (most recent call last):\n",
      "  File \"D:\\xbc\\Fighting\\AutoML\\openbox\\visualization\\open-box\\openbox\\utils\\test_install.py\", line 28, in run_test\n",
      "    opt = Optimizer(\n",
      "  File \"D:\\xbc\\Fighting\\AutoML\\openbox\\visualization\\open-box\\openbox\\optimizer\\generic_smbo.py\", line 127, in __init__\n",
      "    raise ValueError('Json_path is not SPECIFIED. Please input json_path first, or we can not save your data.')\n",
      "ValueError: Json_path is not SPECIFIED. Please input json_path first, or we can not save your data.\n",
      "\n",
      "===== Exception in run_test()! Please check. =====\n"
     ]
    }
   ],
   "source": [
    "from openbox import run_test\n",
    "run_test()"
   ]
  },
  {
   "cell_type": "code",
   "execution_count": 1,
   "metadata": {},
   "outputs": [],
   "source": [
    "from openbox import sp\n",
    "space = sp.Space()\n",
    "# 两个实数型（浮点型）变量\n",
    "x1 = sp.Real('x1', -5, 10, default_value=0)\n",
    "x2 = sp.Real(\"x2\", 0, 15, default_value=0)\n",
    "space.add_variables([x1, x2])\n",
    "\n",
    "# 整形变量\n",
    "i = sp.Int(\"i\", 0, 100) \n",
    "# 类别型变量\n",
    "kernel = sp.Categorical(\"kernel\", [\"rbf\", \"poly\", \"sigmoid\"], default_value=\"rbf\")\n",
    "\n",
    "import numpy as np\n",
    "\n",
    "# Define Objective Function\n",
    "def branin(config):\n",
    "    x1, x2 = config['x1'], config['x2']\n",
    "    y = (x2-5.1/(4*np.pi**2)*x1**2+5/np.pi*x1-6)**2+10*(1-1/(8*np.pi))*np.cos(x1)+10\n",
    "    return y"
   ]
  },
  {
   "cell_type": "code",
   "execution_count": 2,
   "metadata": {},
   "outputs": [
    {
     "name": "stdout",
     "output_type": "stream",
     "text": [
      "[INFO] [2022-10-13 20:13:19,637] [Advisor] === [BO auto selection] === acq_type: ei. acq_optimizer_type: random_scipy.\n"
     ]
    },
    {
     "name": "stderr",
     "output_type": "stream",
     "text": [
      "  0%|          | 0/50 [00:00<?, ?it/s]"
     ]
    },
    {
     "name": "stdout",
     "output_type": "stream",
     "text": [
      "Save history to bo_history_test_07.json\n",
      "[INFO] [2022-10-13 20:13:19,661] [OpenBox-test_07] Iteration 1, objective value: [55.602112642270264].\n",
      "Save history to bo_history_test_07.json\n",
      "[INFO] [2022-10-13 20:13:19,663] [OpenBox-test_07] Iteration 2, objective value: [135.52104674699086].\n",
      "Save history to bo_history_test_07.json\n",
      "[INFO] [2022-10-13 20:13:19,664] [OpenBox-test_07] Iteration 3, objective value: [5.320371902187973].\n",
      "Save history to bo_history_test_07.json\n",
      "[INFO] [2022-10-13 20:13:19,894] [OpenBox-test_07] Iteration 4, objective value: [146.82475771481063].\n"
     ]
    },
    {
     "name": "stderr",
     "output_type": "stream",
     "text": [
      "  8%|▊         | 4/50 [00:00<00:02, 17.09it/s]"
     ]
    },
    {
     "name": "stdout",
     "output_type": "stream",
     "text": [
      "Save history to bo_history_test_07.json\n",
      "[INFO] [2022-10-13 20:13:20,048] [OpenBox-test_07] Iteration 5, objective value: [5.8768438478079705].\n",
      "Save history to bo_history_test_07.json\n",
      "[INFO] [2022-10-13 20:13:20,431] [OpenBox-test_07] Iteration 6, objective value: [20.952394283285994].\n"
     ]
    },
    {
     "name": "stderr",
     "output_type": "stream",
     "text": [
      " 12%|█▏        | 6/50 [00:00<00:06,  6.84it/s]"
     ]
    },
    {
     "name": "stdout",
     "output_type": "stream",
     "text": [
      "[INFO] [2022-10-13 20:13:20,432] [Advisor] Sample random config. rand_prob=0.100000.\n",
      "Save history to bo_history_test_07.json\n",
      "[INFO] [2022-10-13 20:13:20,434] [OpenBox-test_07] Iteration 7, objective value: [167.96824532359886].\n",
      "Save history to bo_history_test_07.json\n",
      "[INFO] [2022-10-13 20:13:20,826] [OpenBox-test_07] Iteration 8, objective value: [129.67078737906962].\n"
     ]
    },
    {
     "name": "stderr",
     "output_type": "stream",
     "text": [
      " 16%|█▌        | 8/50 [00:01<00:06,  6.05it/s]"
     ]
    },
    {
     "name": "stdout",
     "output_type": "stream",
     "text": [
      "Save history to bo_history_test_07.json\n",
      "[INFO] [2022-10-13 20:13:21,239] [OpenBox-test_07] Iteration 9, objective value: [0.8340281994247469].\n"
     ]
    },
    {
     "name": "stderr",
     "output_type": "stream",
     "text": [
      " 18%|█▊        | 9/50 [00:01<00:08,  4.60it/s]"
     ]
    },
    {
     "name": "stdout",
     "output_type": "stream",
     "text": [
      "Save history to bo_history_test_07.json\n",
      "[INFO] [2022-10-13 20:13:21,653] [OpenBox-test_07] Iteration 10, objective value: [20.596701575812137].\n"
     ]
    },
    {
     "name": "stderr",
     "output_type": "stream",
     "text": [
      " 20%|██        | 10/50 [00:01<00:10,  3.81it/s]"
     ]
    },
    {
     "name": "stdout",
     "output_type": "stream",
     "text": [
      "Save history to bo_history_test_07.json\n",
      "[INFO] [2022-10-13 20:13:21,986] [OpenBox-test_07] Iteration 11, objective value: [4.3230922850235025].\n"
     ]
    },
    {
     "name": "stderr",
     "output_type": "stream",
     "text": [
      " 22%|██▏       | 11/50 [00:02<00:10,  3.57it/s]"
     ]
    },
    {
     "name": "stdout",
     "output_type": "stream",
     "text": [
      "Save history to bo_history_test_07.json\n",
      "[INFO] [2022-10-13 20:13:22,345] [OpenBox-test_07] Iteration 12, objective value: [11.679676454483106].\n"
     ]
    },
    {
     "name": "stderr",
     "output_type": "stream",
     "text": [
      " 24%|██▍       | 12/50 [00:02<00:11,  3.32it/s]"
     ]
    },
    {
     "name": "stdout",
     "output_type": "stream",
     "text": [
      "Save history to bo_history_test_07.json\n",
      "[INFO] [2022-10-13 20:13:22,760] [OpenBox-test_07] Iteration 13, objective value: [4.853347699356442].\n"
     ]
    },
    {
     "name": "stderr",
     "output_type": "stream",
     "text": [
      " 26%|██▌       | 13/50 [00:03<00:12,  3.01it/s]"
     ]
    },
    {
     "name": "stdout",
     "output_type": "stream",
     "text": [
      "Save history to bo_history_test_07.json\n",
      "[INFO] [2022-10-13 20:13:23,139] [OpenBox-test_07] Iteration 14, objective value: [1.9559877647404473].\n"
     ]
    },
    {
     "name": "stderr",
     "output_type": "stream",
     "text": [
      " 28%|██▊       | 14/50 [00:03<00:12,  2.90it/s]"
     ]
    },
    {
     "name": "stdout",
     "output_type": "stream",
     "text": [
      "Save history to bo_history_test_07.json\n",
      "[INFO] [2022-10-13 20:13:23,585] [OpenBox-test_07] Iteration 15, objective value: [20.299553125698807].\n"
     ]
    },
    {
     "name": "stderr",
     "output_type": "stream",
     "text": [
      " 30%|███       | 15/50 [00:03<00:13,  2.68it/s]"
     ]
    },
    {
     "name": "stdout",
     "output_type": "stream",
     "text": [
      "Save history to bo_history_test_07.json\n",
      "[INFO] [2022-10-13 20:13:23,947] [OpenBox-test_07] Iteration 16, objective value: [4.044057177210067].\n"
     ]
    },
    {
     "name": "stderr",
     "output_type": "stream",
     "text": [
      " 32%|███▏      | 16/50 [00:04<00:12,  2.70it/s]"
     ]
    },
    {
     "name": "stdout",
     "output_type": "stream",
     "text": [
      "Save history to bo_history_test_07.json\n",
      "[INFO] [2022-10-13 20:13:24,376] [OpenBox-test_07] Iteration 17, objective value: [5.073053013547131].\n"
     ]
    },
    {
     "name": "stderr",
     "output_type": "stream",
     "text": [
      " 34%|███▍      | 17/50 [00:04<00:12,  2.58it/s]"
     ]
    },
    {
     "name": "stdout",
     "output_type": "stream",
     "text": [
      "[INFO] [2022-10-13 20:13:24,377] [Advisor] Sample random config. rand_prob=0.100000.\n",
      "Save history to bo_history_test_07.json\n",
      "[INFO] [2022-10-13 20:13:24,379] [OpenBox-test_07] Iteration 18, objective value: [74.1997940179778].\n",
      "[INFO] [2022-10-13 20:13:24,380] [Advisor] Sample random config. rand_prob=0.100000.\n",
      "Save history to bo_history_test_07.json\n",
      "[INFO] [2022-10-13 20:13:24,382] [OpenBox-test_07] Iteration 19, objective value: [7.244876496539274].\n",
      "Save history to bo_history_test_07.json\n",
      "[INFO] [2022-10-13 20:13:24,993] [OpenBox-test_07] Iteration 20, objective value: [21.835872270802817].\n"
     ]
    },
    {
     "name": "stderr",
     "output_type": "stream",
     "text": [
      " 40%|████      | 20/50 [00:05<00:08,  3.49it/s]"
     ]
    },
    {
     "name": "stdout",
     "output_type": "stream",
     "text": [
      "[INFO] [2022-10-13 20:13:24,995] [Advisor] Sample random config. rand_prob=0.100000.\n",
      "Save history to bo_history_test_07.json\n",
      "[INFO] [2022-10-13 20:13:24,997] [OpenBox-test_07] Iteration 21, objective value: [5.295202030130434].\n",
      "Save history to bo_history_test_07.json\n",
      "[INFO] [2022-10-13 20:13:25,690] [OpenBox-test_07] Iteration 22, objective value: [1.6439810254301843].\n"
     ]
    },
    {
     "name": "stderr",
     "output_type": "stream",
     "text": [
      " 44%|████▍     | 22/50 [00:06<00:08,  3.25it/s]"
     ]
    },
    {
     "name": "stdout",
     "output_type": "stream",
     "text": [
      "Save history to bo_history_test_07.json\n",
      "[INFO] [2022-10-13 20:13:26,497] [OpenBox-test_07] Iteration 23, objective value: [1.1391950160342024].\n"
     ]
    },
    {
     "name": "stderr",
     "output_type": "stream",
     "text": [
      " 46%|████▌     | 23/50 [00:06<00:10,  2.46it/s]"
     ]
    },
    {
     "name": "stdout",
     "output_type": "stream",
     "text": [
      "Save history to bo_history_test_07.json\n",
      "[INFO] [2022-10-13 20:13:27,228] [OpenBox-test_07] Iteration 24, objective value: [0.5839869255268351].\n"
     ]
    },
    {
     "name": "stderr",
     "output_type": "stream",
     "text": [
      " 48%|████▊     | 24/50 [00:07<00:12,  2.09it/s]"
     ]
    },
    {
     "name": "stdout",
     "output_type": "stream",
     "text": [
      "Save history to bo_history_test_07.json\n",
      "[INFO] [2022-10-13 20:13:28,164] [OpenBox-test_07] Iteration 25, objective value: [3.148220395119342].\n"
     ]
    },
    {
     "name": "stderr",
     "output_type": "stream",
     "text": [
      " 50%|█████     | 25/50 [00:08<00:14,  1.70it/s]"
     ]
    },
    {
     "name": "stdout",
     "output_type": "stream",
     "text": [
      "Save history to bo_history_test_07.json\n",
      "[INFO] [2022-10-13 20:13:29,181] [OpenBox-test_07] Iteration 26, objective value: [0.42332468358281794].\n"
     ]
    },
    {
     "name": "stderr",
     "output_type": "stream",
     "text": [
      " 52%|█████▏    | 26/50 [00:09<00:16,  1.43it/s]"
     ]
    },
    {
     "name": "stdout",
     "output_type": "stream",
     "text": [
      "Save history to bo_history_test_07.json\n",
      "[INFO] [2022-10-13 20:13:29,812] [OpenBox-test_07] Iteration 27, objective value: [0.5070910511739921].\n"
     ]
    },
    {
     "name": "stderr",
     "output_type": "stream",
     "text": [
      " 54%|█████▍    | 27/50 [00:10<00:15,  1.47it/s]"
     ]
    },
    {
     "name": "stdout",
     "output_type": "stream",
     "text": [
      "Save history to bo_history_test_07.json\n",
      "[INFO] [2022-10-13 20:13:30,346] [OpenBox-test_07] Iteration 28, objective value: [2.7240318323663715].\n"
     ]
    },
    {
     "name": "stderr",
     "output_type": "stream",
     "text": [
      " 56%|█████▌    | 28/50 [00:10<00:14,  1.56it/s]"
     ]
    },
    {
     "name": "stdout",
     "output_type": "stream",
     "text": [
      "Save history to bo_history_test_07.json\n",
      "[INFO] [2022-10-13 20:13:31,009] [OpenBox-test_07] Iteration 29, objective value: [1.1080537554575365].\n"
     ]
    },
    {
     "name": "stderr",
     "output_type": "stream",
     "text": [
      " 58%|█████▊    | 29/50 [00:11<00:13,  1.55it/s]"
     ]
    },
    {
     "name": "stdout",
     "output_type": "stream",
     "text": [
      "Save history to bo_history_test_07.json\n",
      "[INFO] [2022-10-13 20:13:31,527] [OpenBox-test_07] Iteration 30, objective value: [0.48306283997271926].\n"
     ]
    },
    {
     "name": "stderr",
     "output_type": "stream",
     "text": [
      " 60%|██████    | 30/50 [00:11<00:12,  1.64it/s]"
     ]
    },
    {
     "name": "stdout",
     "output_type": "stream",
     "text": [
      "Save history to bo_history_test_07.json\n",
      "[INFO] [2022-10-13 20:13:32,062] [OpenBox-test_07] Iteration 31, objective value: [0.5025623682998859].\n"
     ]
    },
    {
     "name": "stderr",
     "output_type": "stream",
     "text": [
      " 62%|██████▏   | 31/50 [00:12<00:11,  1.70it/s]"
     ]
    },
    {
     "name": "stdout",
     "output_type": "stream",
     "text": [
      "Save history to bo_history_test_07.json\n",
      "[INFO] [2022-10-13 20:13:32,678] [OpenBox-test_07] Iteration 32, objective value: [0.41262149521486613].\n"
     ]
    },
    {
     "name": "stderr",
     "output_type": "stream",
     "text": [
      " 64%|██████▍   | 32/50 [00:13<00:10,  1.68it/s]"
     ]
    },
    {
     "name": "stdout",
     "output_type": "stream",
     "text": [
      "Save history to bo_history_test_07.json\n",
      "[INFO] [2022-10-13 20:13:33,180] [OpenBox-test_07] Iteration 33, objective value: [0.41325413289721524].\n"
     ]
    },
    {
     "name": "stderr",
     "output_type": "stream",
     "text": [
      " 66%|██████▌   | 33/50 [00:13<00:09,  1.76it/s]"
     ]
    },
    {
     "name": "stdout",
     "output_type": "stream",
     "text": [
      "Save history to bo_history_test_07.json\n",
      "[INFO] [2022-10-13 20:13:33,815] [OpenBox-test_07] Iteration 34, objective value: [0.4845793648161383].\n"
     ]
    },
    {
     "name": "stderr",
     "output_type": "stream",
     "text": [
      " 68%|██████▊   | 34/50 [00:14<00:09,  1.70it/s]"
     ]
    },
    {
     "name": "stdout",
     "output_type": "stream",
     "text": [
      "Save history to bo_history_test_07.json\n",
      "[INFO] [2022-10-13 20:13:34,233] [OpenBox-test_07] Iteration 35, objective value: [0.413759914146679].\n"
     ]
    },
    {
     "name": "stderr",
     "output_type": "stream",
     "text": [
      " 70%|███████   | 35/50 [00:14<00:08,  1.86it/s]"
     ]
    },
    {
     "name": "stdout",
     "output_type": "stream",
     "text": [
      "Save history to bo_history_test_07.json\n",
      "[INFO] [2022-10-13 20:13:34,729] [OpenBox-test_07] Iteration 36, objective value: [0.5079206243300494].\n"
     ]
    },
    {
     "name": "stderr",
     "output_type": "stream",
     "text": [
      " 72%|███████▏  | 36/50 [00:15<00:07,  1.90it/s]"
     ]
    },
    {
     "name": "stdout",
     "output_type": "stream",
     "text": [
      "Save history to bo_history_test_07.json\n",
      "[INFO] [2022-10-13 20:13:35,288] [OpenBox-test_07] Iteration 37, objective value: [0.39849394159371165].\n"
     ]
    },
    {
     "name": "stderr",
     "output_type": "stream",
     "text": [
      " 74%|███████▍  | 37/50 [00:15<00:06,  1.87it/s]"
     ]
    },
    {
     "name": "stdout",
     "output_type": "stream",
     "text": [
      "Save history to bo_history_test_07.json\n",
      "[INFO] [2022-10-13 20:13:35,739] [OpenBox-test_07] Iteration 38, objective value: [0.41398044246578714].\n"
     ]
    },
    {
     "name": "stderr",
     "output_type": "stream",
     "text": [
      " 76%|███████▌  | 38/50 [00:16<00:06,  1.96it/s]"
     ]
    },
    {
     "name": "stdout",
     "output_type": "stream",
     "text": [
      "Save history to bo_history_test_07.json\n",
      "[INFO] [2022-10-13 20:13:36,264] [OpenBox-test_07] Iteration 39, objective value: [0.39849396852913976].\n"
     ]
    },
    {
     "name": "stderr",
     "output_type": "stream",
     "text": [
      " 78%|███████▊  | 39/50 [00:16<00:05,  1.94it/s]"
     ]
    },
    {
     "name": "stdout",
     "output_type": "stream",
     "text": [
      "Save history to bo_history_test_07.json\n",
      "[INFO] [2022-10-13 20:13:37,021] [OpenBox-test_07] Iteration 40, objective value: [0.6389076153940803].\n"
     ]
    },
    {
     "name": "stderr",
     "output_type": "stream",
     "text": [
      " 80%|████████  | 40/50 [00:17<00:05,  1.70it/s]"
     ]
    },
    {
     "name": "stdout",
     "output_type": "stream",
     "text": [
      "Save history to bo_history_test_07.json\n",
      "[INFO] [2022-10-13 20:13:38,108] [OpenBox-test_07] Iteration 41, objective value: [0.41841714987021916].\n"
     ]
    },
    {
     "name": "stderr",
     "output_type": "stream",
     "text": [
      " 82%|████████▏ | 41/50 [00:18<00:06,  1.36it/s]"
     ]
    },
    {
     "name": "stdout",
     "output_type": "stream",
     "text": [
      "Save history to bo_history_test_07.json\n",
      "[INFO] [2022-10-13 20:13:38,954] [OpenBox-test_07] Iteration 42, objective value: [0.4181141180903296].\n"
     ]
    },
    {
     "name": "stderr",
     "output_type": "stream",
     "text": [
      " 84%|████████▍ | 42/50 [00:19<00:06,  1.30it/s]"
     ]
    },
    {
     "name": "stdout",
     "output_type": "stream",
     "text": [
      "[INFO] [2022-10-13 20:13:38,956] [Advisor] Sample random config. rand_prob=0.100000.\n",
      "Save history to bo_history_test_07.json\n",
      "[INFO] [2022-10-13 20:13:38,959] [OpenBox-test_07] Iteration 43, objective value: [80.46277322880822].\n",
      "Save history to bo_history_test_07.json\n",
      "[INFO] [2022-10-13 20:13:39,694] [OpenBox-test_07] Iteration 44, objective value: [0.4143370452539923].\n"
     ]
    },
    {
     "name": "stderr",
     "output_type": "stream",
     "text": [
      " 88%|████████▊ | 44/50 [00:20<00:03,  1.71it/s]"
     ]
    },
    {
     "name": "stdout",
     "output_type": "stream",
     "text": [
      "Save history to bo_history_test_07.json\n",
      "[INFO] [2022-10-13 20:13:40,432] [OpenBox-test_07] Iteration 45, objective value: [0.422626289318762].\n"
     ]
    },
    {
     "name": "stderr",
     "output_type": "stream",
     "text": [
      " 90%|█████████ | 45/50 [00:20<00:03,  1.60it/s]"
     ]
    },
    {
     "name": "stdout",
     "output_type": "stream",
     "text": [
      "Save history to bo_history_test_07.json\n",
      "[INFO] [2022-10-13 20:13:41,265] [OpenBox-test_07] Iteration 46, objective value: [0.40798244907295].\n"
     ]
    },
    {
     "name": "stderr",
     "output_type": "stream",
     "text": [
      " 92%|█████████▏| 46/50 [00:21<00:02,  1.48it/s]"
     ]
    },
    {
     "name": "stdout",
     "output_type": "stream",
     "text": [
      "Save history to bo_history_test_07.json\n",
      "[INFO] [2022-10-13 20:13:42,244] [OpenBox-test_07] Iteration 47, objective value: [0.47855363808697327].\n"
     ]
    },
    {
     "name": "stderr",
     "output_type": "stream",
     "text": [
      " 94%|█████████▍| 47/50 [00:22<00:02,  1.32it/s]"
     ]
    },
    {
     "name": "stdout",
     "output_type": "stream",
     "text": [
      "Save history to bo_history_test_07.json\n",
      "[INFO] [2022-10-13 20:13:42,989] [OpenBox-test_07] Iteration 48, objective value: [0.4100362184801405].\n"
     ]
    },
    {
     "name": "stderr",
     "output_type": "stream",
     "text": [
      " 96%|█████████▌| 48/50 [00:23<00:01,  1.32it/s]"
     ]
    },
    {
     "name": "stdout",
     "output_type": "stream",
     "text": [
      "Save history to bo_history_test_07.json\n",
      "[INFO] [2022-10-13 20:13:43,711] [OpenBox-test_07] Iteration 49, objective value: [0.4284906998100393].\n"
     ]
    },
    {
     "name": "stderr",
     "output_type": "stream",
     "text": [
      " 98%|█████████▊| 49/50 [00:24<00:00,  1.34it/s]"
     ]
    },
    {
     "name": "stdout",
     "output_type": "stream",
     "text": [
      "Save history to bo_history_test_07.json\n",
      "[INFO] [2022-10-13 20:13:44,549] [OpenBox-test_07] Iteration 50, objective value: [0.48802062924674594].\n"
     ]
    },
    {
     "name": "stderr",
     "output_type": "stream",
     "text": [
      "100%|██████████| 50/50 [00:24<00:00,  2.01it/s]"
     ]
    },
    {
     "name": "stdout",
     "output_type": "stream",
     "text": [
      "{'line_data': {'min': [[0, 55.6021], [2, 5.3204], [8, 0.834], [23, 0.584], [25, 0.4233], [31, 0.4126], [36, 0.3985], [38, 0.3985], [50, 0.3985]], 'over': [[1, 135.521], [3, 146.8248], [4, 5.8768], [5, 20.9524], [6, 167.9682], [7, 129.6708], [9, 20.5967], [10, 4.3231], [11, 11.6797], [12, 4.8533], [13, 1.956], [14, 20.2996], [15, 4.0441], [16, 5.0731], [17, 74.1998], [18, 7.2449], [19, 21.8359], [20, 5.2952], [21, 1.644], [22, 1.1392], [24, 3.1482], [26, 0.5071], [27, 2.724], [28, 1.1081], [29, 0.4831], [30, 0.5026], [32, 0.4133], [33, 0.4846], [34, 0.4138], [35, 0.5079], [37, 0.414], [39, 0.6389], [40, 0.4184], [41, 0.4181], [42, 80.4628], [43, 0.4143], [44, 0.4226], [45, 0.408], [46, 0.4786], [47, 0.41], [48, 0.4285], [49, 0.488]], 'scat': [[0, 55.6021], [2, 5.3204], [8, 0.834], [23, 0.584], [25, 0.4233], [31, 0.4126], [36, 0.3985], [38, 0.3985], [50, 0.3985]]}, 'parallel_data': {'data': [[0.0, 0.0, 55.6021], [9.977451441884812, 14.543247367884538, 135.521], [-4.041846843705038, 13.408664095014728, 5.3204], [-5.0, 5.607161203653412, 146.8248], [-4.0811558212847086, 13.40468353460905, 5.8768], [-2.037960304114801, 13.688604263498195, 20.9524], [3.7986913142055716, 14.685769861483479, 167.9682], [3.364818489422717, 13.466694753587811, 129.6708], [-3.0628030476520074, 12.723909292904397, 0.834], [6.510089291852061, 0.0, 20.5967], [10.0, 1.4602474225893491, 4.3231], [7.935446950387593, 3.074036380998124, 11.6797], [10.0, 4.708889498516615, 4.8533], [10.0, 3.116301661803385, 1.956], [3.9444509236011474, 5.85158234836677, 20.2996], [3.9900244405361267, 2.3329082208894345, 4.0441], [3.5227258419746263, 0.0, 5.0731], [-4.517280804160769, 7.6977770165458805, 74.1998], [3.6372926374277306, 4.3057988631063235, 7.2449], [0.532564648589144, 7.076781192195107, 21.8359], [8.940293628654095, 0.14927800270077507, 5.2952], [2.6507955729157926, 2.35325821732095, 1.644], [-3.356150053650055, 12.074680827572157, 1.1392], [-3.3347832760688094, 12.830523638328152, 0.584], [-2.384174324180316, 10.1749714992281, 3.1482], [3.1856736715757883, 2.1139499222940237, 0.4233], [9.336127189884827, 2.668625852843084, 0.5071], [-3.6028951495098873, 14.561097523980845, 2.724], [9.457039897051294, 3.3420919377367024, 1.1081], [-3.0173777293478405, 11.8726755970818, 0.4831], [3.122239505700861, 2.6108853417667532, 0.5026], [9.464352729911896, 2.593530846818113, 0.4126], [3.098410272780912, 2.2288199416575276, 0.4133], [9.328162999952662, 2.189985789562923, 0.4846], [-3.1096821394164094, 12.303248215955772, 0.4138], [3.2350037225490134, 2.46437643590747, 0.5079], [9.418654185678296, 2.490492199572906, 0.3985], [9.445734920219552, 2.3744780192482455, 0.414], [9.41865390182601, 2.4904922085963683, 0.3985], [9.51074728226394, 3.00185766573906, 0.6389], [9.464352729911896, 2.394516344006437, 0.4184], [9.359865511667987, 2.422791009969743, 0.4181], [-3.414128838138048, 4.011492232439228, 80.4628], [9.473163927184618, 2.44392535382777, 0.4143], [9.384587912168127, 2.3109805436645283, 0.4226], [9.41865390182601, 2.3702648145985634, 0.408], [9.299388089848492, 2.44392535382777, 0.4786], [9.445224790972706, 2.593007546170594, 0.41], [9.470434688971201, 2.370264803950883, 0.4285], [9.527928660270677, 2.7611088636227303, 0.488]], 'schema': ['x1', 'x2', 'perf'], 'visualMap': {'min': 0.3985, 'max': 74.82610000000001, 'dimension': 2}}, 'table_list': [[0, 55.6021, \"'x1': 0.0, 'x2': 0.0\", 0, 0.0], [1, 135.521, \"'x1': 9.977451441884812, 'x2': 14.\", 0, 0.0], [2, 5.3204, \"'x1': -4.041846843705038, 'x2': 13\", 0, 0.0], [3, 146.8248, \"'x1': -5.0, 'x2': 5.60716120365341\", 0, 0.0], [4, 5.8768, \"'x1': -4.0811558212847086, 'x2': 1\", 0, 0.0010008811950683594], [5, 20.9524, \"'x1': -2.037960304114801, 'x2': 13\", 0, 0.0], [6, 167.9682, \"'x1': 3.7986913142055716, 'x2': 14\", 0, 0.0], [7, 129.6708, \"'x1': 3.364818489422717, 'x2': 13.\", 0, 0.0], [8, 0.834, \"'x1': -3.0628030476520074, 'x2': 1\", 0, 0.0], [9, 20.5967, \"'x1': 6.510089291852061, 'x2': 0.0\", 0, 0.0], [10, 4.3231, \"'x1': 10.0, 'x2': 1.46024742258934\", 0, 0.0], [11, 11.6797, \"'x1': 7.935446950387593, 'x2': 3.0\", 0, 0.0], [12, 4.8533, \"'x1': 10.0, 'x2': 4.70888949851661\", 0, 0.0], [13, 1.956, \"'x1': 10.0, 'x2': 3.11630166180338\", 0, 0.0], [14, 20.2996, \"'x1': 3.9444509236011474, 'x2': 5.\", 0, 0.0], [15, 4.0441, \"'x1': 3.9900244405361267, 'x2': 2.\", 0, 0.0], [16, 5.0731, \"'x1': 3.5227258419746263, 'x2': 0.\", 0, 0.0], [17, 74.1998, \"'x1': -4.517280804160769, 'x2': 7.\", 0, 0.0], [18, 7.2449, \"'x1': 3.6372926374277306, 'x2': 4.\", 0, 0.0], [19, 21.8359, \"'x1': 0.532564648589144, 'x2': 7.0\", 0, 0.0], [20, 5.2952, \"'x1': 8.940293628654095, 'x2': 0.1\", 0, 0.0], [21, 1.644, \"'x1': 2.6507955729157926, 'x2': 2.\", 0, 0.0], [22, 1.1392, \"'x1': -3.356150053650055, 'x2': 12\", 0, 0.0], [23, 0.584, \"'x1': -3.3347832760688094, 'x2': 1\", 0, 0.0], [24, 3.1482, \"'x1': -2.384174324180316, 'x2': 10\", 0, 0.0], [25, 0.4233, \"'x1': 3.1856736715757883, 'x2': 2.\", 0, 0.0], [26, 0.5071, \"'x1': 9.336127189884827, 'x2': 2.6\", 0, 0.0], [27, 2.724, \"'x1': -3.6028951495098873, 'x2': 1\", 0, 0.0], [28, 1.1081, \"'x1': 9.457039897051294, 'x2': 3.3\", 0, 0.0], [29, 0.4831, \"'x1': -3.0173777293478405, 'x2': 1\", 0, 0.0], [30, 0.5026, \"'x1': 3.122239505700861, 'x2': 2.6\", 0, 0.0], [31, 0.4126, \"'x1': 9.464352729911896, 'x2': 2.5\", 0, 0.0], [32, 0.4133, \"'x1': 3.098410272780912, 'x2': 2.2\", 0, 0.0], [33, 0.4846, \"'x1': 9.328162999952662, 'x2': 2.1\", 0, 0.0], [34, 0.4138, \"'x1': -3.1096821394164094, 'x2': 1\", 0, 0.0], [35, 0.5079, \"'x1': 3.2350037225490134, 'x2': 2.\", 0, 0.0], [36, 0.3985, \"'x1': 9.418654185678296, 'x2': 2.4\", 0, 0.0009992122650146484], [37, 0.414, \"'x1': 9.445734920219552, 'x2': 2.3\", 0, 0.0], [38, 0.3985, \"'x1': 9.41865390182601, 'x2': 2.49\", 0, 0.0], [39, 0.6389, \"'x1': 9.51074728226394, 'x2': 3.00\", 0, 0.0], [40, 0.4184, \"'x1': 9.464352729911896, 'x2': 2.3\", 0, 0.0], [41, 0.4181, \"'x1': 9.359865511667987, 'x2': 2.4\", 0, 0.0], [42, 80.4628, \"'x1': -3.414128838138048, 'x2': 4.\", 0, 0.0010004043579101562], [43, 0.4143, \"'x1': 9.473163927184618, 'x2': 2.4\", 0, 0.0], [44, 0.4226, \"'x1': 9.384587912168127, 'x2': 2.3\", 0, 0.0], [45, 0.408, \"'x1': 9.41865390182601, 'x2': 2.37\", 0, 0.0], [46, 0.4786, \"'x1': 9.299388089848492, 'x2': 2.4\", 0, 0.0], [47, 0.41, \"'x1': 9.445224790972706, 'x2': 2.5\", 0, 0.0], [48, 0.4285, \"'x1': 9.470434688971201, 'x2': 2.3\", 0, 0.0], [49, 0.488, \"'x1': 9.527928660270677, 'x2': 2.7\", 0, 0.0]], 'rh_config': {'0': {'x1': 0.0, 'x2': 0.0}, '1': {'x1': 9.977451441884812, 'x2': 14.543247367884538}, '2': {'x1': -4.041846843705038, 'x2': 13.408664095014728}, '3': {'x1': -5.0, 'x2': 5.607161203653412}, '4': {'x1': -4.0811558212847086, 'x2': 13.40468353460905}, '5': {'x1': -2.037960304114801, 'x2': 13.688604263498195}, '6': {'x1': 3.7986913142055716, 'x2': 14.685769861483479}, '7': {'x1': 3.364818489422717, 'x2': 13.466694753587811}, '8': {'x1': -3.0628030476520074, 'x2': 12.723909292904397}, '9': {'x1': 6.510089291852061, 'x2': 0.0}, '10': {'x1': 10.0, 'x2': 1.4602474225893491}, '11': {'x1': 7.935446950387593, 'x2': 3.074036380998124}, '12': {'x1': 10.0, 'x2': 4.708889498516615}, '13': {'x1': 10.0, 'x2': 3.116301661803385}, '14': {'x1': 3.9444509236011474, 'x2': 5.85158234836677}, '15': {'x1': 3.9900244405361267, 'x2': 2.3329082208894345}, '16': {'x1': 3.5227258419746263, 'x2': 0.0}, '17': {'x1': -4.517280804160769, 'x2': 7.6977770165458805}, '18': {'x1': 3.6372926374277306, 'x2': 4.3057988631063235}, '19': {'x1': 0.532564648589144, 'x2': 7.076781192195107}, '20': {'x1': 8.940293628654095, 'x2': 0.14927800270077507}, '21': {'x1': 2.6507955729157926, 'x2': 2.35325821732095}, '22': {'x1': -3.356150053650055, 'x2': 12.074680827572157}, '23': {'x1': -3.3347832760688094, 'x2': 12.830523638328152}, '24': {'x1': -2.384174324180316, 'x2': 10.1749714992281}, '25': {'x1': 3.1856736715757883, 'x2': 2.1139499222940237}, '26': {'x1': 9.336127189884827, 'x2': 2.668625852843084}, '27': {'x1': -3.6028951495098873, 'x2': 14.561097523980845}, '28': {'x1': 9.457039897051294, 'x2': 3.3420919377367024}, '29': {'x1': -3.0173777293478405, 'x2': 11.8726755970818}, '30': {'x1': 3.122239505700861, 'x2': 2.6108853417667532}, '31': {'x1': 9.464352729911896, 'x2': 2.593530846818113}, '32': {'x1': 3.098410272780912, 'x2': 2.2288199416575276}, '33': {'x1': 9.328162999952662, 'x2': 2.189985789562923}, '34': {'x1': -3.1096821394164094, 'x2': 12.303248215955772}, '35': {'x1': 3.2350037225490134, 'x2': 2.46437643590747}, '36': {'x1': 9.418654185678296, 'x2': 2.490492199572906}, '37': {'x1': 9.445734920219552, 'x2': 2.3744780192482455}, '38': {'x1': 9.41865390182601, 'x2': 2.4904922085963683}, '39': {'x1': 9.51074728226394, 'x2': 3.00185766573906}, '40': {'x1': 9.464352729911896, 'x2': 2.394516344006437}, '41': {'x1': 9.359865511667987, 'x2': 2.422791009969743}, '42': {'x1': -3.414128838138048, 'x2': 4.011492232439228}, '43': {'x1': 9.473163927184618, 'x2': 2.44392535382777}, '44': {'x1': 9.384587912168127, 'x2': 2.3109805436645283}, '45': {'x1': 9.41865390182601, 'x2': 2.3702648145985634}, '46': {'x1': 9.299388089848492, 'x2': 2.44392535382777}, '47': {'x1': 9.445224790972706, 'x2': 2.593007546170594}, '48': {'x1': 9.470434688971201, 'x2': 2.370264803950883}, '49': {'x1': 9.527928660270677, 'x2': 2.7611088636227303}}, 'task_inf': {'table_field': ['task_id', 'Advisor Type', 'Surrogate Type', 'max_runs', 'Time Limit Per Trial'], 'table_data': ['test_07', 'default', 'gp', 50, 30]}}\n"
     ]
    },
    {
     "name": "stderr",
     "output_type": "stream",
     "text": [
      "\n"
     ]
    }
   ],
   "source": [
    "from openbox import Optimizer\n",
    "import os\n",
    "\n",
    "# Run\n",
    "opt = Optimizer(\n",
    "    branin, # 目标函数\n",
    "    space, # 搜索空间\n",
    "    num_constraints=0, # 没有约束条件\n",
    "    num_objs=1, # 单目标值\n",
    "    max_runs=50, # 优化目标函数50次\n",
    "    surrogate_type='gp', # 用高斯过程\n",
    "    time_limit_per_trial=30, # 最大时间预算30s\n",
    "    task_id='test_07', # 区别不同优化过程\n",
    "    # json_path=os.path.join(os.path.abspath(\".\"), 'bo_history'),\n",
    ")\n",
    "history = opt.run()"
   ]
  },
  {
   "cell_type": "code",
   "execution_count": 14,
   "outputs": [
    {
     "name": "stdout",
     "output_type": "stream",
     "text": [
      "{'data': [{'task_id': 'test_01', 'iteration_id': 0, 'config': {'x1': 0.0, 'x2': 0.0}, 'objs': [55.602112642270264], 'constaints': None, 'trial_state': 0, 'cost': 0.0}, {'task_id': 'test_01', 'iteration_id': 1, 'config': {'x1': 9.364428281055838, 'x2': 13.570371849290721}, 'objs': [124.64439456999473], 'constaints': None, 'trial_state': 0, 'cost': 0.0}, {'task_id': 'test_01', 'iteration_id': 2, 'config': {'x1': -3.891609100278374, 'x2': 12.633460159468443}, 'objs': [5.274662593414275], 'constaints': None, 'trial_state': 0, 'cost': 0.0}, {'task_id': 'test_01', 'iteration_id': 3, 'config': {'x1': -5.0, 'x2': 6.045849723993482}, 'objs': [136.85700488474515], 'constaints': None, 'trial_state': 0, 'cost': 0.0}, {'task_id': 'test_01', 'iteration_id': 4, 'config': {'x1': -3.8199028026309083, 'x2': 12.703057190352233}, 'objs': [4.114907336976957], 'constaints': None, 'trial_state': 0, 'cost': 0.0}]}\n"
     ]
    }
   ],
   "source": [
    "json_data = opt.load_json()\n",
    "print(json_data)"
   ],
   "metadata": {
    "collapsed": false,
    "pycharm": {
     "name": "#%%\n"
    }
   }
  },
  {
   "cell_type": "code",
   "execution_count": 15,
   "outputs": [
    {
     "data": {
      "text/plain": "dict"
     },
     "execution_count": 15,
     "metadata": {},
     "output_type": "execute_result"
    }
   ],
   "source": [
    "type(json_data)"
   ],
   "metadata": {
    "collapsed": false,
    "pycharm": {
     "name": "#%%\n"
    }
   }
  },
  {
   "cell_type": "code",
   "execution_count": 16,
   "outputs": [
    {
     "data": {
      "text/plain": "list"
     },
     "execution_count": 16,
     "metadata": {},
     "output_type": "execute_result"
    }
   ],
   "source": [
    "json_data = json_data['data']\n",
    "type(json_data)"
   ],
   "metadata": {
    "collapsed": false,
    "pycharm": {
     "name": "#%%\n"
    }
   }
  },
  {
   "cell_type": "code",
   "execution_count": 17,
   "outputs": [],
   "source": [
    "table_list = []\n",
    "rh_config = {}\n",
    "option = {'data': [], 'schema': [], 'visualMap': {}}\n",
    "perf_list = []\n",
    "for rh in json_data:\n",
    "    result = round(rh['objs'][0], 4)\n",
    "    config_str = str(rh['config'])\n",
    "    if len(config_str) > 35:\n",
    "        config_str = config_str[1:35]\n",
    "    else:\n",
    "        config_str = config_str[1:-1]\n",
    "    table_list.append(\n",
    "        [rh['iteration_id'], result, config_str, rh['trial_state'], rh['cost']])\n",
    "    rh_config[str(rh['iteration_id'])] = rh['config']\n",
    "    data = []\n",
    "    for parameter in rh['config'].keys():\n",
    "        data.append(rh['config'][parameter])\n",
    "    data.append(result)\n",
    "    option['data'].append(data)\n",
    "    perf_list.append(result)"
   ],
   "metadata": {
    "collapsed": false,
    "pycharm": {
     "name": "#%%\n"
    }
   }
  },
  {
   "cell_type": "code",
   "execution_count": 18,
   "outputs": [
    {
     "data": {
      "text/plain": "[[0, 55.6021, \"'x1': 0.0, 'x2': 0.0\", 0, 0.0],\n [1, 124.6444, \"'x1': 9.364428281055838, 'x2': 13.\", 0, 0.0],\n [2, 5.2747, \"'x1': -3.891609100278374, 'x2': 12\", 0, 0.0],\n [3, 136.857, \"'x1': -5.0, 'x2': 6.04584972399348\", 0, 0.0],\n [4, 4.1149, \"'x1': -3.8199028026309083, 'x2': 1\", 0, 0.0]]"
     },
     "execution_count": 18,
     "metadata": {},
     "output_type": "execute_result"
    }
   ],
   "source": [
    "table_list"
   ],
   "metadata": {
    "collapsed": false,
    "pycharm": {
     "name": "#%%\n"
    }
   }
  },
  {
   "cell_type": "code",
   "execution_count": 19,
   "outputs": [
    {
     "data": {
      "text/plain": "{'0': {'x1': 0.0, 'x2': 0.0},\n '1': {'x1': 9.364428281055838, 'x2': 13.570371849290721},\n '2': {'x1': -3.891609100278374, 'x2': 12.633460159468443},\n '3': {'x1': -5.0, 'x2': 6.045849723993482},\n '4': {'x1': -3.8199028026309083, 'x2': 12.703057190352233}}"
     },
     "execution_count": 19,
     "metadata": {},
     "output_type": "execute_result"
    }
   ],
   "source": [
    "rh_config"
   ],
   "metadata": {
    "collapsed": false,
    "pycharm": {
     "name": "#%%\n"
    }
   }
  },
  {
   "cell_type": "code",
   "execution_count": 20,
   "outputs": [
    {
     "data": {
      "text/plain": "{'data': [[0.0, 0.0, 55.6021],\n  [9.364428281055838, 13.570371849290721, 124.6444],\n  [-3.891609100278374, 12.633460159468443, 5.2747],\n  [-5.0, 6.045849723993482, 136.857],\n  [-3.8199028026309083, 12.703057190352233, 4.1149]],\n 'visualMap': {}}"
     },
     "execution_count": 20,
     "metadata": {},
     "output_type": "execute_result"
    }
   ],
   "source": [
    "option"
   ],
   "metadata": {
    "collapsed": false,
    "pycharm": {
     "name": "#%%\n"
    }
   }
  },
  {
   "cell_type": "code",
   "execution_count": 21,
   "outputs": [
    {
     "data": {
      "text/plain": "[55.6021, 124.6444, 5.2747, 136.857, 4.1149]"
     },
     "execution_count": 21,
     "metadata": {},
     "output_type": "execute_result"
    }
   ],
   "source": [
    "perf_list"
   ],
   "metadata": {
    "collapsed": false,
    "pycharm": {
     "name": "#%%\n"
    }
   }
  },
  {
   "cell_type": "code",
   "execution_count": 22,
   "outputs": [],
   "source": [
    "import numpy as np\n",
    "if len(json_data) > 0:\n",
    "    option['schema'] = list(json_data[0]['config'].keys()) + ['perf']\n",
    "    option['visualMap']['min'] = np.percentile(perf_list, 0)\n",
    "    option['visualMap']['max'] = np.percentile(perf_list, 90)\n",
    "    option['visualMap']['dimension'] = len(option['schema']) - 1\n",
    "else:\n",
    "    option['visualMap']['min'] = 0\n",
    "    option['visualMap']['max'] = 100\n",
    "    option['visualMap']['dimension'] = 0"
   ],
   "metadata": {
    "collapsed": false,
    "pycharm": {
     "name": "#%%\n"
    }
   }
  },
  {
   "cell_type": "code",
   "execution_count": 23,
   "outputs": [
    {
     "data": {
      "text/plain": "{'data': [[0.0, 0.0, 55.6021],\n  [9.364428281055838, 13.570371849290721, 124.6444],\n  [-3.891609100278374, 12.633460159468443, 5.2747],\n  [-5.0, 6.045849723993482, 136.857],\n  [-3.8199028026309083, 12.703057190352233, 4.1149]],\n 'visualMap': {'min': 4.1149, 'max': 131.97196, 'dimension': 2},\n 'schema': ['x1', 'x2', 'perf']}"
     },
     "execution_count": 23,
     "metadata": {},
     "output_type": "execute_result"
    }
   ],
   "source": [
    "option"
   ],
   "metadata": {
    "collapsed": false,
    "pycharm": {
     "name": "#%%\n"
    }
   }
  },
  {
   "cell_type": "code",
   "execution_count": 24,
   "outputs": [],
   "source": [
    "line_data = {'min': [], 'over': [], 'scat': []}\n",
    "import sys\n",
    "\n",
    "min_value = sys.maxsize\n",
    "\n",
    "for idx, perf in enumerate(perf_list):\n",
    "    if perf <= min_value:\n",
    "        min_value = perf\n",
    "        line_data['min'].append([idx, perf])\n",
    "        line_data['scat'].append([idx, perf])\n",
    "    else:\n",
    "        line_data['over'].append([idx, perf])\n",
    "line_data['min'].append([len(option['data']), min_value])"
   ],
   "metadata": {
    "collapsed": false,
    "pycharm": {
     "name": "#%%\n"
    }
   }
  },
  {
   "cell_type": "code",
   "execution_count": 25,
   "outputs": [
    {
     "data": {
      "text/plain": "{'min': [[0, 55.6021], [2, 5.2747], [4, 4.1149], [5, 4.1149]],\n 'over': [[1, 124.6444], [3, 136.857]],\n 'scat': [[0, 55.6021], [2, 5.2747], [4, 4.1149]]}"
     },
     "execution_count": 25,
     "metadata": {},
     "output_type": "execute_result"
    }
   ],
   "source": [
    "line_data"
   ],
   "metadata": {
    "collapsed": false,
    "pycharm": {
     "name": "#%%\n"
    }
   }
  },
  {
   "cell_type": "code",
   "execution_count": null,
   "outputs": [],
   "source": [],
   "metadata": {
    "collapsed": false,
    "pycharm": {
     "name": "#%%\n"
    }
   }
  }
 ],
 "metadata": {
  "kernelspec": {
   "display_name": "Python 3.8.13 ('my_openbox')",
   "language": "python",
   "name": "python3"
  },
  "language_info": {
   "codemirror_mode": {
    "name": "ipython",
    "version": 3
   },
   "file_extension": ".py",
   "mimetype": "text/x-python",
   "name": "python",
   "nbconvert_exporter": "python",
   "pygments_lexer": "ipython3",
   "version": "3.8.13"
  },
  "orig_nbformat": 4,
  "vscode": {
   "interpreter": {
    "hash": "4f7e0be0300b7d5f6b3fe5ea9ddbb8e167d22210f5ef38db82ffb5e565575d56"
   }
  }
 },
 "nbformat": 4,
 "nbformat_minor": 2
}
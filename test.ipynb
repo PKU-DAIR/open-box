{
 "cells": [
  {
   "cell_type": "code",
   "execution_count": 1,
   "metadata": {},
   "outputs": [
    {
     "name": "stdout",
     "output_type": "stream",
     "text": [
      "===== My Test Start =====\n",
      "Traceback (most recent call last):\n",
      "  File \"D:\\xbc\\Fighting\\AutoML\\openbox\\visualization\\open-box\\openbox\\utils\\test_install.py\", line 28, in run_test\n",
      "    opt = Optimizer(\n",
      "  File \"D:\\xbc\\Fighting\\AutoML\\openbox\\visualization\\open-box\\openbox\\optimizer\\generic_smbo.py\", line 127, in __init__\n",
      "    raise ValueError('Json_path is not SPECIFIED. Please input json_path first, or we can not save your data.')\n",
      "ValueError: Json_path is not SPECIFIED. Please input json_path first, or we can not save your data.\n",
      "\n",
      "===== Exception in run_test()! Please check. =====\n"
     ]
    }
   ],
   "source": [
    "from openbox import run_test\n",
    "run_test()"
   ]
  },
  {
   "cell_type": "code",
   "execution_count": 1,
   "metadata": {},
   "outputs": [],
   "source": [
    "from openbox import sp\n",
    "space = sp.Space()\n",
    "# 两个实数型（浮点型）变量\n",
    "x1 = sp.Real('x1', -5, 10, default_value=0)\n",
    "x2 = sp.Real(\"x2\", 0, 15, default_value=0)\n",
    "space.add_variables([x1, x2])\n",
    "\n",
    "# 整形变量\n",
    "i = sp.Int(\"i\", 0, 100) \n",
    "# 类别型变量\n",
    "kernel = sp.Categorical(\"kernel\", [\"rbf\", \"poly\", \"sigmoid\"], default_value=\"rbf\")\n",
    "\n",
    "import numpy as np\n",
    "\n",
    "# Define Objective Function\n",
    "def branin(config):\n",
    "    x1, x2 = config['x1'], config['x2']\n",
    "    y = (x2-5.1/(4*np.pi**2)*x1**2+5/np.pi*x1-6)**2+10*(1-1/(8*np.pi))*np.cos(x1)+10\n",
    "    return y"
   ]
  },
  {
   "cell_type": "code",
   "execution_count": 3,
   "metadata": {},
   "outputs": [
    {
     "name": "stdout",
     "output_type": "stream",
     "text": [
      "D:\\xbc\\Fighting\\AutoML\\openbox\\visualization\\open-box\n",
      "123123\n",
      "[INFO] [2022-10-12 17:49:26,879] [Advisor] === [BO auto selection] === acq_type: ei. acq_optimizer_type: random_scipy.\n"
     ]
    },
    {
     "name": "stderr",
     "output_type": "stream",
     "text": [
      "  0%|          | 0/50 [00:00<?, ?it/s]"
     ]
    },
    {
     "name": "stdout",
     "output_type": "stream",
     "text": [
      "Save history to bo_history_quick_start3.json\n",
      "[INFO] [2022-10-12 17:49:26,905] [OpenBox-quick_start3] Iteration 1, objective value: [55.602112642270264].\n",
      "Save history to bo_history_quick_start3.json\n",
      "[INFO] [2022-10-12 17:49:26,906] [OpenBox-quick_start3] Iteration 2, objective value: [162.02554578590954].\n",
      "Save history to bo_history_quick_start3.json\n",
      "[INFO] [2022-10-12 17:49:26,908] [OpenBox-quick_start3] Iteration 3, objective value: [36.396186684603215].\n",
      "Save history to bo_history_quick_start3.json\n",
      "[INFO] [2022-10-12 17:49:27,226] [OpenBox-quick_start3] Iteration 4, objective value: [223.30664381502183].\n"
     ]
    },
    {
     "name": "stderr",
     "output_type": "stream",
     "text": [
      "  8%|▊         | 4/50 [00:00<00:03, 12.38it/s]"
     ]
    },
    {
     "name": "stdout",
     "output_type": "stream",
     "text": [
      "Save history to bo_history_quick_start3.json\n",
      "[INFO] [2022-10-12 17:49:27,375] [OpenBox-quick_start3] Iteration 5, objective value: [55.392582361643946].\n",
      "Save history to bo_history_quick_start3.json\n",
      "[INFO] [2022-10-12 17:49:27,842] [OpenBox-quick_start3] Iteration 6, objective value: [19.926933406106272].\n"
     ]
    },
    {
     "name": "stderr",
     "output_type": "stream",
     "text": [
      " 12%|█▏        | 6/50 [00:00<00:07,  5.70it/s]"
     ]
    },
    {
     "name": "stdout",
     "output_type": "stream",
     "text": [
      "Save history to bo_history_quick_start3.json\n",
      "[INFO] [2022-10-12 17:49:28,277] [OpenBox-quick_start3] Iteration 7, objective value: [104.54565817413231].\n"
     ]
    },
    {
     "name": "stderr",
     "output_type": "stream",
     "text": [
      " 14%|█▍        | 7/50 [00:01<00:10,  4.25it/s]"
     ]
    },
    {
     "name": "stdout",
     "output_type": "stream",
     "text": [
      "Save history to bo_history_quick_start3.json\n",
      "[INFO] [2022-10-12 17:49:28,888] [OpenBox-quick_start3] Iteration 8, objective value: [26.150122542845974].\n"
     ]
    },
    {
     "name": "stderr",
     "output_type": "stream",
     "text": [
      " 16%|█▌        | 8/50 [00:01<00:13,  3.05it/s]"
     ]
    },
    {
     "name": "stdout",
     "output_type": "stream",
     "text": [
      "Save history to bo_history_quick_start3.json\n",
      "[INFO] [2022-10-12 17:49:29,332] [OpenBox-quick_start3] Iteration 9, objective value: [12.150631709551423].\n"
     ]
    },
    {
     "name": "stderr",
     "output_type": "stream",
     "text": [
      " 18%|█▊        | 9/50 [00:02<00:14,  2.79it/s]"
     ]
    },
    {
     "name": "stdout",
     "output_type": "stream",
     "text": [
      "Save history to bo_history_quick_start3.json\n",
      "[INFO] [2022-10-12 17:49:29,754] [OpenBox-quick_start3] Iteration 10, objective value: [3.0295591894790608].\n"
     ]
    },
    {
     "name": "stderr",
     "output_type": "stream",
     "text": [
      " 20%|██        | 10/50 [00:02<00:15,  2.66it/s]"
     ]
    },
    {
     "name": "stdout",
     "output_type": "stream",
     "text": [
      "Save history to bo_history_quick_start3.json\n",
      "[INFO] [2022-10-12 17:49:30,142] [OpenBox-quick_start3] Iteration 11, objective value: [20.73479031800634].\n"
     ]
    },
    {
     "name": "stderr",
     "output_type": "stream",
     "text": [
      " 22%|██▏       | 11/50 [00:03<00:14,  2.64it/s]"
     ]
    },
    {
     "name": "stdout",
     "output_type": "stream",
     "text": [
      "Save history to bo_history_quick_start3.json\n",
      "[INFO] [2022-10-12 17:49:30,548] [OpenBox-quick_start3] Iteration 12, objective value: [17.789252892344575].\n"
     ]
    },
    {
     "name": "stderr",
     "output_type": "stream",
     "text": [
      " 24%|██▍       | 12/50 [00:03<00:14,  2.59it/s]"
     ]
    },
    {
     "name": "stdout",
     "output_type": "stream",
     "text": [
      "Save history to bo_history_quick_start3.json\n",
      "[INFO] [2022-10-12 17:49:31,034] [OpenBox-quick_start3] Iteration 13, objective value: [10.960889035651505].\n"
     ]
    },
    {
     "name": "stderr",
     "output_type": "stream",
     "text": [
      " 26%|██▌       | 13/50 [00:04<00:15,  2.41it/s]"
     ]
    },
    {
     "name": "stdout",
     "output_type": "stream",
     "text": [
      "Save history to bo_history_quick_start3.json\n",
      "[INFO] [2022-10-12 17:49:31,573] [OpenBox-quick_start3] Iteration 14, objective value: [2.2243004671346247].\n"
     ]
    },
    {
     "name": "stderr",
     "output_type": "stream",
     "text": [
      " 28%|██▊       | 14/50 [00:04<00:16,  2.21it/s]"
     ]
    },
    {
     "name": "stdout",
     "output_type": "stream",
     "text": [
      "Save history to bo_history_quick_start3.json\n",
      "[INFO] [2022-10-12 17:49:32,409] [OpenBox-quick_start3] Iteration 15, objective value: [2.4689712838935325].\n"
     ]
    },
    {
     "name": "stderr",
     "output_type": "stream",
     "text": [
      " 30%|███       | 15/50 [00:05<00:19,  1.77it/s]"
     ]
    },
    {
     "name": "stdout",
     "output_type": "stream",
     "text": [
      "Save history to bo_history_quick_start3.json\n",
      "[INFO] [2022-10-12 17:49:33,134] [OpenBox-quick_start3] Iteration 16, objective value: [0.6741903848544641].\n"
     ]
    },
    {
     "name": "stderr",
     "output_type": "stream",
     "text": [
      " 32%|███▏      | 16/50 [00:06<00:20,  1.63it/s]"
     ]
    },
    {
     "name": "stdout",
     "output_type": "stream",
     "text": [
      "Save history to bo_history_quick_start3.json\n",
      "[INFO] [2022-10-12 17:49:34,015] [OpenBox-quick_start3] Iteration 17, objective value: [3.2077128906788133].\n"
     ]
    },
    {
     "name": "stderr",
     "output_type": "stream",
     "text": [
      " 34%|███▍      | 17/50 [00:07<00:22,  1.45it/s]"
     ]
    },
    {
     "name": "stdout",
     "output_type": "stream",
     "text": [
      "Save history to bo_history_quick_start3.json\n",
      "[INFO] [2022-10-12 17:49:34,702] [OpenBox-quick_start3] Iteration 18, objective value: [17.508299515778166].\n"
     ]
    },
    {
     "name": "stderr",
     "output_type": "stream",
     "text": [
      " 36%|███▌      | 18/50 [00:07<00:22,  1.45it/s]"
     ]
    },
    {
     "name": "stdout",
     "output_type": "stream",
     "text": [
      "Save history to bo_history_quick_start3.json\n",
      "[INFO] [2022-10-12 17:49:35,390] [OpenBox-quick_start3] Iteration 19, objective value: [2.7745714709781124].\n"
     ]
    },
    {
     "name": "stderr",
     "output_type": "stream",
     "text": [
      " 38%|███▊      | 19/50 [00:08<00:21,  1.45it/s]"
     ]
    },
    {
     "name": "stdout",
     "output_type": "stream",
     "text": [
      "[INFO] [2022-10-12 17:49:35,391] [Advisor] Sample random config. rand_prob=0.100000.\n",
      "Save history to bo_history_quick_start3.json\n",
      "[INFO] [2022-10-12 17:49:35,393] [OpenBox-quick_start3] Iteration 20, objective value: [15.335670210232411].\n",
      "Save history to bo_history_quick_start3.json\n",
      "[INFO] [2022-10-12 17:49:36,439] [OpenBox-quick_start3] Iteration 21, objective value: [0.5820534550631358].\n"
     ]
    },
    {
     "name": "stderr",
     "output_type": "stream",
     "text": [
      " 42%|████▏     | 21/50 [00:09<00:17,  1.63it/s]"
     ]
    },
    {
     "name": "stdout",
     "output_type": "stream",
     "text": [
      "Save history to bo_history_quick_start3.json\n",
      "[INFO] [2022-10-12 17:49:37,160] [OpenBox-quick_start3] Iteration 22, objective value: [0.4181866121093325].\n"
     ]
    },
    {
     "name": "stderr",
     "output_type": "stream",
     "text": [
      " 44%|████▍     | 22/50 [00:10<00:17,  1.56it/s]"
     ]
    },
    {
     "name": "stdout",
     "output_type": "stream",
     "text": [
      "Save history to bo_history_quick_start3.json\n",
      "[INFO] [2022-10-12 17:49:37,850] [OpenBox-quick_start3] Iteration 23, objective value: [1.7046202097049363].\n"
     ]
    },
    {
     "name": "stderr",
     "output_type": "stream",
     "text": [
      " 46%|████▌     | 23/50 [00:10<00:17,  1.53it/s]"
     ]
    },
    {
     "name": "stdout",
     "output_type": "stream",
     "text": [
      "Save history to bo_history_quick_start3.json\n",
      "[INFO] [2022-10-12 17:49:38,605] [OpenBox-quick_start3] Iteration 24, objective value: [3.579658969710678].\n"
     ]
    },
    {
     "name": "stderr",
     "output_type": "stream",
     "text": [
      " 48%|████▊     | 24/50 [00:11<00:17,  1.47it/s]"
     ]
    },
    {
     "name": "stdout",
     "output_type": "stream",
     "text": [
      "Save history to bo_history_quick_start3.json\n",
      "[INFO] [2022-10-12 17:49:39,503] [OpenBox-quick_start3] Iteration 25, objective value: [0.8666668699711018].\n"
     ]
    },
    {
     "name": "stderr",
     "output_type": "stream",
     "text": [
      " 50%|█████     | 25/50 [00:12<00:18,  1.35it/s]"
     ]
    },
    {
     "name": "stdout",
     "output_type": "stream",
     "text": [
      "Save history to bo_history_quick_start3.json\n",
      "[INFO] [2022-10-12 17:49:40,133] [OpenBox-quick_start3] Iteration 26, objective value: [3.3115060771966167].\n"
     ]
    },
    {
     "name": "stderr",
     "output_type": "stream",
     "text": [
      " 52%|█████▏    | 26/50 [00:13<00:17,  1.41it/s]"
     ]
    },
    {
     "name": "stdout",
     "output_type": "stream",
     "text": [
      "Save history to bo_history_quick_start3.json\n",
      "[INFO] [2022-10-12 17:49:40,737] [OpenBox-quick_start3] Iteration 27, objective value: [0.45696323409363515].\n"
     ]
    },
    {
     "name": "stderr",
     "output_type": "stream",
     "text": [
      " 54%|█████▍    | 27/50 [00:13<00:15,  1.47it/s]"
     ]
    },
    {
     "name": "stdout",
     "output_type": "stream",
     "text": [
      "Save history to bo_history_quick_start3.json\n",
      "[INFO] [2022-10-12 17:49:41,343] [OpenBox-quick_start3] Iteration 28, objective value: [0.40753383935250476].\n"
     ]
    },
    {
     "name": "stderr",
     "output_type": "stream",
     "text": [
      " 56%|█████▌    | 28/50 [00:14<00:14,  1.52it/s]"
     ]
    },
    {
     "name": "stdout",
     "output_type": "stream",
     "text": [
      "Save history to bo_history_quick_start3.json\n",
      "[INFO] [2022-10-12 17:49:41,907] [OpenBox-quick_start3] Iteration 29, objective value: [0.7384891456910143].\n"
     ]
    },
    {
     "name": "stderr",
     "output_type": "stream",
     "text": [
      " 58%|█████▊    | 29/50 [00:15<00:13,  1.59it/s]"
     ]
    },
    {
     "name": "stdout",
     "output_type": "stream",
     "text": [
      "Save history to bo_history_quick_start3.json\n",
      "[INFO] [2022-10-12 17:49:42,631] [OpenBox-quick_start3] Iteration 30, objective value: [0.41948633375137945].\n"
     ]
    },
    {
     "name": "stderr",
     "output_type": "stream",
     "text": [
      " 60%|██████    | 30/50 [00:15<00:13,  1.52it/s]"
     ]
    },
    {
     "name": "stdout",
     "output_type": "stream",
     "text": [
      "Save history to bo_history_quick_start3.json\n",
      "[INFO] [2022-10-12 17:49:43,193] [OpenBox-quick_start3] Iteration 31, objective value: [0.46333186858723074].\n"
     ]
    },
    {
     "name": "stderr",
     "output_type": "stream",
     "text": [
      " 62%|██████▏   | 31/50 [00:16<00:11,  1.59it/s]"
     ]
    },
    {
     "name": "stdout",
     "output_type": "stream",
     "text": [
      "Save history to bo_history_quick_start3.json\n",
      "[INFO] [2022-10-12 17:49:43,777] [OpenBox-quick_start3] Iteration 32, objective value: [1.4390219789400174].\n"
     ]
    },
    {
     "name": "stderr",
     "output_type": "stream",
     "text": [
      " 64%|██████▍   | 32/50 [00:16<00:11,  1.62it/s]"
     ]
    },
    {
     "name": "stdout",
     "output_type": "stream",
     "text": [
      "Save history to bo_history_quick_start3.json\n",
      "[INFO] [2022-10-12 17:49:44,369] [OpenBox-quick_start3] Iteration 33, objective value: [0.41815577092421563].\n"
     ]
    },
    {
     "name": "stderr",
     "output_type": "stream",
     "text": [
      " 66%|██████▌   | 33/50 [00:17<00:10,  1.64it/s]"
     ]
    },
    {
     "name": "stdout",
     "output_type": "stream",
     "text": [
      "Save history to bo_history_quick_start3.json\n",
      "[INFO] [2022-10-12 17:49:44,958] [OpenBox-quick_start3] Iteration 34, objective value: [0.4009765736660178].\n"
     ]
    },
    {
     "name": "stderr",
     "output_type": "stream",
     "text": [
      " 68%|██████▊   | 34/50 [00:18<00:09,  1.66it/s]"
     ]
    },
    {
     "name": "stdout",
     "output_type": "stream",
     "text": [
      "Save history to bo_history_quick_start3.json\n",
      "[INFO] [2022-10-12 17:49:45,416] [OpenBox-quick_start3] Iteration 35, objective value: [1.1541678014402148].\n"
     ]
    },
    {
     "name": "stderr",
     "output_type": "stream",
     "text": [
      " 70%|███████   | 35/50 [00:18<00:08,  1.79it/s]"
     ]
    },
    {
     "name": "stdout",
     "output_type": "stream",
     "text": [
      "Save history to bo_history_quick_start3.json\n",
      "[INFO] [2022-10-12 17:49:45,979] [OpenBox-quick_start3] Iteration 36, objective value: [0.4730712238009218].\n"
     ]
    },
    {
     "name": "stderr",
     "output_type": "stream",
     "text": [
      " 72%|███████▏  | 36/50 [00:19<00:07,  1.78it/s]"
     ]
    },
    {
     "name": "stdout",
     "output_type": "stream",
     "text": [
      "Save history to bo_history_quick_start3.json\n",
      "[INFO] [2022-10-12 17:49:46,561] [OpenBox-quick_start3] Iteration 37, objective value: [0.4001013080093312].\n"
     ]
    },
    {
     "name": "stderr",
     "output_type": "stream",
     "text": [
      " 74%|███████▍  | 37/50 [00:19<00:07,  1.76it/s]"
     ]
    },
    {
     "name": "stdout",
     "output_type": "stream",
     "text": [
      "Save history to bo_history_quick_start3.json\n",
      "[INFO] [2022-10-12 17:49:47,043] [OpenBox-quick_start3] Iteration 38, objective value: [0.400101265152518].\n"
     ]
    },
    {
     "name": "stderr",
     "output_type": "stream",
     "text": [
      " 76%|███████▌  | 38/50 [00:20<00:06,  1.85it/s]"
     ]
    },
    {
     "name": "stdout",
     "output_type": "stream",
     "text": [
      "Save history to bo_history_quick_start3.json\n",
      "[INFO] [2022-10-12 17:49:47,713] [OpenBox-quick_start3] Iteration 39, objective value: [0.4617381787946293].\n"
     ]
    },
    {
     "name": "stderr",
     "output_type": "stream",
     "text": [
      " 78%|███████▊  | 39/50 [00:20<00:06,  1.72it/s]"
     ]
    },
    {
     "name": "stdout",
     "output_type": "stream",
     "text": [
      "Save history to bo_history_quick_start3.json\n",
      "[INFO] [2022-10-12 17:49:48,307] [OpenBox-quick_start3] Iteration 40, objective value: [0.4264116366985995].\n"
     ]
    },
    {
     "name": "stderr",
     "output_type": "stream",
     "text": [
      " 80%|████████  | 40/50 [00:21<00:05,  1.71it/s]"
     ]
    },
    {
     "name": "stdout",
     "output_type": "stream",
     "text": [
      "[INFO] [2022-10-12 17:49:48,308] [Advisor] Sample random config. rand_prob=0.100000.\n",
      "Save history to bo_history_quick_start3.json\n",
      "[INFO] [2022-10-12 17:49:48,311] [OpenBox-quick_start3] Iteration 41, objective value: [19.55669610215753].\n",
      "Save history to bo_history_quick_start3.json\n",
      "[INFO] [2022-10-12 17:49:49,099] [OpenBox-quick_start3] Iteration 42, objective value: [0.42641254852164856].\n"
     ]
    },
    {
     "name": "stderr",
     "output_type": "stream",
     "text": [
      " 84%|████████▍ | 42/50 [00:22<00:03,  2.01it/s]"
     ]
    },
    {
     "name": "stdout",
     "output_type": "stream",
     "text": [
      "Save history to bo_history_quick_start3.json\n",
      "[INFO] [2022-10-12 17:49:49,664] [OpenBox-quick_start3] Iteration 43, objective value: [0.6208199971049488].\n"
     ]
    },
    {
     "name": "stderr",
     "output_type": "stream",
     "text": [
      " 86%|████████▌ | 43/50 [00:22<00:03,  1.95it/s]"
     ]
    },
    {
     "name": "stdout",
     "output_type": "stream",
     "text": [
      "Save history to bo_history_quick_start3.json\n",
      "[INFO] [2022-10-12 17:49:50,304] [OpenBox-quick_start3] Iteration 44, objective value: [0.4072817441782135].\n"
     ]
    },
    {
     "name": "stderr",
     "output_type": "stream",
     "text": [
      " 88%|████████▊ | 44/50 [00:23<00:03,  1.83it/s]"
     ]
    },
    {
     "name": "stdout",
     "output_type": "stream",
     "text": [
      "Save history to bo_history_quick_start3.json\n",
      "[INFO] [2022-10-12 17:49:50,984] [OpenBox-quick_start3] Iteration 45, objective value: [0.41818627151072896].\n"
     ]
    },
    {
     "name": "stderr",
     "output_type": "stream",
     "text": [
      " 90%|█████████ | 45/50 [00:24<00:02,  1.72it/s]"
     ]
    },
    {
     "name": "stdout",
     "output_type": "stream",
     "text": [
      "Save history to bo_history_quick_start3.json\n",
      "[INFO] [2022-10-12 17:49:51,630] [OpenBox-quick_start3] Iteration 46, objective value: [0.40885216809953207].\n"
     ]
    },
    {
     "name": "stderr",
     "output_type": "stream",
     "text": [
      " 92%|█████████▏| 46/50 [00:24<00:02,  1.66it/s]"
     ]
    },
    {
     "name": "stdout",
     "output_type": "stream",
     "text": [
      "Save history to bo_history_quick_start3.json\n",
      "[INFO] [2022-10-12 17:49:52,394] [OpenBox-quick_start3] Iteration 47, objective value: [0.40287759588980876].\n"
     ]
    },
    {
     "name": "stderr",
     "output_type": "stream",
     "text": [
      " 94%|█████████▍| 47/50 [00:25<00:01,  1.54it/s]"
     ]
    },
    {
     "name": "stdout",
     "output_type": "stream",
     "text": [
      "Save history to bo_history_quick_start3.json\n",
      "[INFO] [2022-10-12 17:49:53,246] [OpenBox-quick_start3] Iteration 48, objective value: [1.3733820352134654].\n"
     ]
    },
    {
     "name": "stderr",
     "output_type": "stream",
     "text": [
      " 96%|█████████▌| 48/50 [00:26<00:01,  1.41it/s]"
     ]
    },
    {
     "name": "stdout",
     "output_type": "stream",
     "text": [
      "Save history to bo_history_quick_start3.json\n",
      "[INFO] [2022-10-12 17:49:53,969] [OpenBox-quick_start3] Iteration 49, objective value: [0.661883109678369].\n"
     ]
    },
    {
     "name": "stderr",
     "output_type": "stream",
     "text": [
      " 98%|█████████▊| 49/50 [00:27<00:00,  1.41it/s]"
     ]
    },
    {
     "name": "stdout",
     "output_type": "stream",
     "text": [
      "Save history to bo_history_quick_start3.json\n",
      "[INFO] [2022-10-12 17:49:54,892] [OpenBox-quick_start3] Iteration 50, objective value: [0.8431809593787722].\n"
     ]
    },
    {
     "name": "stderr",
     "output_type": "stream",
     "text": [
      "100%|██████████| 50/50 [00:27<00:00,  1.79it/s]\n"
     ]
    }
   ],
   "source": [
    "from openbox import Optimizer\n",
    "import os\n",
    "\n",
    "# Run\n",
    "opt = Optimizer(\n",
    "    branin, # 目标函数\n",
    "    space, # 搜索空间\n",
    "    num_constraints=0, # 没有约束条件\n",
    "    num_objs=1, # 单目标值\n",
    "    max_runs=50, # 优化目标函数50次\n",
    "    surrogate_type='gp', # 用高斯过程\n",
    "    time_limit_per_trial=30, # 最大时间预算30s\n",
    "    task_id='quick_start3', # 区别不同优化过程\n",
    "    # json_path=os.path.join(os.path.abspath(\".\"), 'bo_history'),\n",
    ")\n",
    "history = opt.run()"
   ]
  },
  {
   "cell_type": "code",
   "execution_count": null,
   "outputs": [],
   "source": [],
   "metadata": {
    "collapsed": false,
    "pycharm": {
     "name": "#%%\n"
    }
   }
  }
 ],
 "metadata": {
  "kernelspec": {
   "display_name": "Python 3.8.13 ('my_openbox')",
   "language": "python",
   "name": "python3"
  },
  "language_info": {
   "codemirror_mode": {
    "name": "ipython",
    "version": 3
   },
   "file_extension": ".py",
   "mimetype": "text/x-python",
   "name": "python",
   "nbconvert_exporter": "python",
   "pygments_lexer": "ipython3",
   "version": "3.8.13"
  },
  "orig_nbformat": 4,
  "vscode": {
   "interpreter": {
    "hash": "4f7e0be0300b7d5f6b3fe5ea9ddbb8e167d22210f5ef38db82ffb5e565575d56"
   }
  }
 },
 "nbformat": 4,
 "nbformat_minor": 2
}
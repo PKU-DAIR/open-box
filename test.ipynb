{
 "cells": [
  {
   "cell_type": "code",
   "execution_count": 1,
   "metadata": {},
   "outputs": [
    {
     "name": "stdout",
     "output_type": "stream",
     "text": [
      "===== My Test Start =====\n",
      "[INFO] [2022-10-15 15:52:10,462] [Advisor] === [BO auto selection] === surrogate_type: gp. acq_type: ei. acq_optimizer_type: random_scipy.\n"
     ]
    },
    {
     "name": "stderr",
     "output_type": "stream",
     "text": [
      "  0%|          | 0/10 [00:00<?, ?it/s]"
     ]
    },
    {
     "name": "stdout",
     "output_type": "stream",
     "text": [
      "Save history to bo_history_test_install.json\n",
      "Save history to visual_bo_history_test_install.json\n",
      "[INFO] [2022-10-15 15:52:10,490] [OpenBox-test_install] Iteration 1, objective value: (55.602112642270264,).\n",
      "Save history to bo_history_test_install.json\n",
      "Save history to visual_bo_history_test_install.json\n",
      "[INFO] [2022-10-15 15:52:10,491] [OpenBox-test_install] Iteration 2, objective value: (185.75379495428467,).\n",
      "Save history to bo_history_test_install.json\n",
      "Save history to visual_bo_history_test_install.json\n",
      "[INFO] [2022-10-15 15:52:10,494] [OpenBox-test_install] Iteration 3, objective value: (2.148759491639556,).\n",
      "[INFO] [2022-10-15 15:52:10,494] [Advisor] Sample random config. rand_prob=0.100000.\n",
      "Save history to bo_history_test_install.json\n",
      "Save history to visual_bo_history_test_install.json\n",
      "[INFO] [2022-10-15 15:52:10,497] [OpenBox-test_install] Iteration 4, objective value: (44.985966723581285,).\n",
      "[INFO] [2022-10-15 15:52:10,497] [Advisor] Sample random config. rand_prob=0.100000.\n",
      "Save history to bo_history_test_install.json\n",
      "Save history to visual_bo_history_test_install.json\n",
      "[INFO] [2022-10-15 15:52:10,500] [OpenBox-test_install] Iteration 5, objective value: (89.25448362514994,).\n",
      "Save history to bo_history_test_install.json\n",
      "Save history to visual_bo_history_test_install.json\n",
      "[INFO] [2022-10-15 15:52:10,843] [OpenBox-test_install] Iteration 6, objective value: (34.48897933064461,).\n"
     ]
    },
    {
     "name": "stderr",
     "output_type": "stream",
     "text": [
      " 60%|██████    | 6/10 [00:00<00:00, 16.90it/s]"
     ]
    },
    {
     "name": "stdout",
     "output_type": "stream",
     "text": [
      "Save history to bo_history_test_install.json\n",
      "Save history to visual_bo_history_test_install.json\n",
      "[INFO] [2022-10-15 15:52:11,202] [OpenBox-test_install] Iteration 7, objective value: (33.81652011117299,).\n",
      "Save history to bo_history_test_install.json\n",
      "Save history to visual_bo_history_test_install.json\n",
      "[INFO] [2022-10-15 15:52:11,571] [OpenBox-test_install] Iteration 8, objective value: (10.131303585342879,).\n"
     ]
    },
    {
     "name": "stderr",
     "output_type": "stream",
     "text": [
      " 80%|████████  | 8/10 [00:01<00:00,  6.35it/s]"
     ]
    },
    {
     "name": "stdout",
     "output_type": "stream",
     "text": [
      "Save history to bo_history_test_install.json\n",
      "Save history to visual_bo_history_test_install.json\n",
      "[INFO] [2022-10-15 15:52:11,957] [OpenBox-test_install] Iteration 9, objective value: (2.737186759163812,).\n"
     ]
    },
    {
     "name": "stderr",
     "output_type": "stream",
     "text": [
      " 90%|█████████ | 9/10 [00:01<00:00,  4.99it/s]"
     ]
    },
    {
     "name": "stdout",
     "output_type": "stream",
     "text": [
      "[INFO] [2022-10-15 15:52:11,958] [Advisor] Sample random config. rand_prob=0.100000.\n",
      "Save history to bo_history_test_install.json\n",
      "Save history to visual_bo_history_test_install.json\n",
      "[INFO] [2022-10-15 15:52:11,961] [OpenBox-test_install] Iteration 10, objective value: (25.003852587984994,).\n"
     ]
    },
    {
     "name": "stderr",
     "output_type": "stream",
     "text": [
      "100%|██████████| 10/10 [00:01<00:00,  6.79it/s]"
     ]
    },
    {
     "name": "stdout",
     "output_type": "stream",
     "text": [
      "{'line_data': {'min': [[0, 55.6021], [2, 2.1488], [10, 2.1488]], 'over': [[1, 185.7538], [3, 44.986], [4, 89.2545], [5, 34.489], [6, 33.8165], [7, 10.1313], [8, 2.7372], [9, 25.0039]], 'scat': [[0, 55.6021], [2, 2.1488], [10, 2.1488]]}, 'parallel_data': {'data': [[0.0, 0.0, 55.6021], [8.12421706914896, 14.95000437998525, 185.7538], [-3.6949506510282717, 14.20823185078422, 2.1488], [8.857419248374747, 8.601818741741576, 44.986], [8.1096040779776, 10.62690025058993, 89.2545], [-5.0, 12.522038557339638, 34.489], [-2.0090004839093574, 15.0, 33.8165], [-4.6062019208830165, 15.0, 10.1313], [8.893401046118393, 3.0708530123755344, 2.7372], [-3.745708016716049, 8.98791343911411, 25.0039]], 'schema': ['x1', 'x2', 'perf'], 'visualMap': {'min': 2.1488, 'max': 98.90442999999996, 'dimension': 2}}, 'table_list': [[0, 55.6021, \"'x1': 0.0, 'x2': 0.0\", 0, 0.0], [1, 185.7538, \"'x1': 8.12421706914896, 'x2': 14.9\", 0, 0.0], [2, 2.1488, \"'x1': -3.6949506510282717, 'x2': 1\", 0, 0.0], [3, 44.986, \"'x1': 8.857419248374747, 'x2': 8.6\", 0, 0.0], [4, 89.2545, \"'x1': 8.1096040779776, 'x2': 10.62\", 0, 0.0], [5, 34.489, \"'x1': -5.0, 'x2': 12.5220385573396\", 0, 0.0], [6, 33.8165, \"'x1': -2.0090004839093574, 'x2': 1\", 0, 0.0], [7, 10.1313, \"'x1': -4.6062019208830165, 'x2': 1\", 0, 0.0], [8, 2.7372, \"'x1': 8.893401046118393, 'x2': 3.0\", 0, 0.0], [9, 25.0039, \"'x1': -3.745708016716049, 'x2': 8.\", 0, 0.0]], 'rh_config': {'0': {'x1': 0.0, 'x2': 0.0}, '1': {'x1': 8.12421706914896, 'x2': 14.95000437998525}, '2': {'x1': -3.6949506510282717, 'x2': 14.20823185078422}, '3': {'x1': 8.857419248374747, 'x2': 8.601818741741576}, '4': {'x1': 8.1096040779776, 'x2': 10.62690025058993}, '5': {'x1': -5.0, 'x2': 12.522038557339638}, '6': {'x1': -2.0090004839093574, 'x2': 15.0}, '7': {'x1': -4.6062019208830165, 'x2': 15.0}, '8': {'x1': 8.893401046118393, 'x2': 3.0708530123755344}, '9': {'x1': -3.745708016716049, 'x2': 8.98791343911411}}, 'task_inf': {'table_field': ['task_id', 'Advisor Type', 'Surrogate Type', 'max_runs', 'Time Limit Per Trial'], 'table_data': ['test_install', 'default', 'gp', 10, 30]}}\n",
      "===== Congratulations! All trials succeeded. =====\n"
     ]
    },
    {
     "name": "stderr",
     "output_type": "stream",
     "text": [
      "\n"
     ]
    }
   ],
   "source": [
    "from openbox import run_test\n",
    "run_test()"
   ]
  },
  {
   "cell_type": "code",
   "execution_count": 1,
   "metadata": {},
   "outputs": [],
   "source": [
    "from openbox import sp\n",
    "space = sp.Space()\n",
    "# 两个实数型（浮点型）变量\n",
    "x1 = sp.Real('x1', -5, 10, default_value=0)\n",
    "x2 = sp.Real(\"x2\", 0, 15, default_value=0)\n",
    "space.add_variables([x1, x2])\n",
    "\n",
    "# 整形变量\n",
    "i = sp.Int(\"i\", 0, 100) \n",
    "# 类别型变量\n",
    "kernel = sp.Categorical(\"kernel\", [\"rbf\", \"poly\", \"sigmoid\"], default_value=\"rbf\")\n",
    "\n",
    "import numpy as np\n",
    "\n",
    "# Define Objective Function\n",
    "def branin(config):\n",
    "    x1, x2 = config['x1'], config['x2']\n",
    "    y = (x2-5.1/(4*np.pi**2)*x1**2+5/np.pi*x1-6)**2+10*(1-1/(8*np.pi))*np.cos(x1)+10\n",
    "    return y"
   ]
  },
  {
   "cell_type": "code",
   "execution_count": 2,
   "metadata": {},
   "outputs": [
    {
     "name": "stdout",
     "output_type": "stream",
     "text": [
      "[INFO] [2022-10-27 02:11:13,518] [Advisor] === [BO auto selection] === acq_type: ei. acq_optimizer_type: random_scipy.\n"
     ]
    },
    {
     "name": "stderr",
     "output_type": "stream",
     "text": [
      "  0%|          | 0/10 [00:00<?, ?it/s]"
     ]
    },
    {
     "name": "stdout",
     "output_type": "stream",
     "text": [
      "[INFO] [2022-10-27 02:11:13,537] [OpenBox-test_07] Iteration 1, objective value: [55.602112642270264].\n",
      "[INFO] [2022-10-27 02:11:13,537] [OpenBox-test_07] Iteration 2, objective value: [142.26602007350263].\n",
      "[INFO] [2022-10-27 02:11:13,538] [OpenBox-test_07] Iteration 3, objective value: [17.251377364292093].\n",
      "[INFO] [2022-10-27 02:11:13,819] [OpenBox-test_07] Iteration 4, objective value: [228.83220793785387].\n"
     ]
    },
    {
     "name": "stderr",
     "output_type": "stream",
     "text": [
      " 40%|████      | 4/10 [00:00<00:00, 14.08it/s]"
     ]
    },
    {
     "name": "stdout",
     "output_type": "stream",
     "text": [
      "Save history to bo_history_test_07.json\n",
      "Save history to visual_bo_history_test_07.json\n",
      "[INFO] [2022-10-27 02:11:14,332] [OpenBox-test_07] Iteration 5, objective value: [18.302128925646834].\n",
      "[INFO] [2022-10-27 02:11:14,837] [OpenBox-test_07] Iteration 6, objective value: [5.438047233835283].\n"
     ]
    },
    {
     "name": "stderr",
     "output_type": "stream",
     "text": [
      " 60%|██████    | 6/10 [00:01<00:01,  3.95it/s]"
     ]
    },
    {
     "name": "stdout",
     "output_type": "stream",
     "text": [
      "[INFO] [2022-10-27 02:11:15,314] [OpenBox-test_07] Iteration 7, objective value: [117.18359628962443].\n"
     ]
    },
    {
     "name": "stderr",
     "output_type": "stream",
     "text": [
      " 70%|███████   | 7/10 [00:01<00:00,  3.28it/s]"
     ]
    },
    {
     "name": "stdout",
     "output_type": "stream",
     "text": [
      "[INFO] [2022-10-27 02:11:15,769] [OpenBox-test_07] Iteration 8, objective value: [26.4598249465499].\n"
     ]
    },
    {
     "name": "stderr",
     "output_type": "stream",
     "text": [
      " 80%|████████  | 8/10 [00:02<00:00,  2.93it/s]"
     ]
    },
    {
     "name": "stdout",
     "output_type": "stream",
     "text": [
      "[INFO] [2022-10-27 02:11:16,174] [OpenBox-test_07] Iteration 9, objective value: [17.218424855958947].\n"
     ]
    },
    {
     "name": "stderr",
     "output_type": "stream",
     "text": [
      " 90%|█████████ | 9/10 [00:02<00:00,  2.79it/s]"
     ]
    },
    {
     "name": "stdout",
     "output_type": "stream",
     "text": [
      "Save history to bo_history_test_07.json\n",
      "[55.602112642270264, 142.26602007350263, 17.251377364292093, 228.83220793785387, 18.302128925646834, 5.438047233835283, 117.18359628962443, 26.4598249465499, 17.218424855958947, 7.54752748161694]\n",
      "[85.64449660655737, 101.13111164678938, 17.87102616283041, 55.862549469052766, 17.674859957080663, 3.3127350182386834, 113.67229850977154, 25.44535274668779, 10.137157847734557, 52.89996809346534]\n",
      "[5 9 8 2 4 7 0 6 1 3]\n",
      "[5 8 4 2 7 9 3 0 1 6]\n",
      "[7, 9, 4, 10, 5, 1, 8, 6, 3, 2]\n",
      "[8, 9, 4, 7, 3, 1, 10, 5, 2, 6]\n",
      "Save history to visual_bo_history_test_07.json\n",
      "[INFO] [2022-10-27 02:11:17,482] [OpenBox-test_07] Iteration 10, objective value: [7.54752748161694].\n"
     ]
    },
    {
     "name": "stderr",
     "output_type": "stream",
     "text": [
      "100%|██████████| 10/10 [00:03<00:00,  2.53it/s]\n"
     ]
    }
   ],
   "source": [
    "from openbox import Optimizer\n",
    "import os\n",
    "\n",
    "# Run\n",
    "opt = Optimizer(\n",
    "    branin, # 目标函数\n",
    "    space, # 搜索空间\n",
    "    num_constraints=0, # 没有约束条件\n",
    "    num_objs=1, # 单目标值\n",
    "    max_runs=10, # 优化目标函数50次\n",
    "    surrogate_type='gp', # 用高斯过程\n",
    "    time_limit_per_trial=30, # 最大时间预算30s\n",
    "    task_id='test_07', # 区别不同优化过程\n",
    "    # json_path=os.path.join(os.path.abspath(\".\"), 'bo_history'),\n",
    ")\n",
    "history = opt.run()"
   ]
  },
  {
   "cell_type": "code",
   "execution_count": 3,
   "outputs": [
    {
     "name": "stdout",
     "output_type": "stream",
     "text": [
      "+------------+-----------------+\n",
      "| Parameters | Obj1 Importance |\n",
      "+------------+-----------------+\n",
      "| x1         | 5.895364        |\n",
      "| x2         | 13.212069       |\n",
      "+------------+-----------------+\n"
     ]
    }
   ],
   "source": [
    "print(history.get_importance(method='shap'))"
   ],
   "metadata": {
    "collapsed": false,
    "pycharm": {
     "name": "#%%\n"
    }
   }
  },
  {
   "cell_type": "code",
   "execution_count": null,
   "metadata": {
    "collapsed": false,
    "pycharm": {
     "name": "#%%\n"
    }
   },
   "outputs": [],
   "source": [
    "json_data = opt.load_json()\n",
    "print(json_data)"
   ]
  },
  {
   "cell_type": "code",
   "execution_count": null,
   "metadata": {
    "collapsed": false,
    "pycharm": {
     "name": "#%%\n"
    }
   },
   "outputs": [],
   "source": [
    "type(json_data)"
   ]
  },
  {
   "cell_type": "code",
   "execution_count": null,
   "metadata": {
    "collapsed": false,
    "pycharm": {
     "name": "#%%\n"
    }
   },
   "outputs": [],
   "source": [
    "json_data = json_data['data']\n",
    "type(json_data)"
   ]
  },
  {
   "cell_type": "code",
   "execution_count": null,
   "metadata": {
    "collapsed": false,
    "pycharm": {
     "name": "#%%\n"
    }
   },
   "outputs": [],
   "source": [
    "table_list = []\n",
    "rh_config = {}\n",
    "option = {'data': [], 'schema': [], 'visualMap': {}}\n",
    "perf_list = []\n",
    "for rh in json_data:\n",
    "    result = round(rh['objs'][0], 4)\n",
    "    config_str = str(rh['config'])\n",
    "    if len(config_str) > 35:\n",
    "        config_str = config_str[1:35]\n",
    "    else:\n",
    "        config_str = config_str[1:-1]\n",
    "    table_list.append(\n",
    "        [rh['iteration_id'], result, config_str, rh['trial_state'], rh['cost']])\n",
    "    rh_config[str(rh['iteration_id'])] = rh['config']\n",
    "    data = []\n",
    "    for parameter in rh['config'].keys():\n",
    "        data.append(rh['config'][parameter])\n",
    "    data.append(result)\n",
    "    option['data'].append(data)\n",
    "    perf_list.append(result)"
   ]
  },
  {
   "cell_type": "code",
   "execution_count": null,
   "metadata": {
    "collapsed": false,
    "pycharm": {
     "name": "#%%\n"
    }
   },
   "outputs": [],
   "source": [
    "table_list"
   ]
  },
  {
   "cell_type": "code",
   "execution_count": null,
   "metadata": {
    "collapsed": false,
    "pycharm": {
     "name": "#%%\n"
    }
   },
   "outputs": [],
   "source": [
    "rh_config"
   ]
  },
  {
   "cell_type": "code",
   "execution_count": null,
   "metadata": {
    "collapsed": false,
    "pycharm": {
     "name": "#%%\n"
    }
   },
   "outputs": [],
   "source": [
    "option"
   ]
  },
  {
   "cell_type": "code",
   "execution_count": null,
   "metadata": {
    "collapsed": false,
    "pycharm": {
     "name": "#%%\n"
    }
   },
   "outputs": [],
   "source": [
    "perf_list"
   ]
  },
  {
   "cell_type": "code",
   "execution_count": null,
   "metadata": {
    "collapsed": false,
    "pycharm": {
     "name": "#%%\n"
    }
   },
   "outputs": [],
   "source": [
    "import numpy as np\n",
    "if len(json_data) > 0:\n",
    "    option['schema'] = list(json_data[0]['config'].keys()) + ['perf']\n",
    "    option['visualMap']['min'] = np.percentile(perf_list, 0)\n",
    "    option['visualMap']['max'] = np.percentile(perf_list, 90)\n",
    "    option['visualMap']['dimension'] = len(option['schema']) - 1\n",
    "else:\n",
    "    option['visualMap']['min'] = 0\n",
    "    option['visualMap']['max'] = 100\n",
    "    option['visualMap']['dimension'] = 0"
   ]
  },
  {
   "cell_type": "code",
   "execution_count": null,
   "metadata": {
    "collapsed": false,
    "pycharm": {
     "name": "#%%\n"
    }
   },
   "outputs": [],
   "source": [
    "option"
   ]
  },
  {
   "cell_type": "code",
   "execution_count": null,
   "metadata": {
    "collapsed": false,
    "pycharm": {
     "name": "#%%\n"
    }
   },
   "outputs": [],
   "source": [
    "line_data = {'min': [], 'over': [], 'scat': []}\n",
    "import sys\n",
    "\n",
    "min_value = sys.maxsize\n",
    "\n",
    "for idx, perf in enumerate(perf_list):\n",
    "    if perf <= min_value:\n",
    "        min_value = perf\n",
    "        line_data['min'].append([idx, perf])\n",
    "        line_data['scat'].append([idx, perf])\n",
    "    else:\n",
    "        line_data['over'].append([idx, perf])\n",
    "line_data['min'].append([len(option['data']), min_value])"
   ]
  },
  {
   "cell_type": "code",
   "execution_count": null,
   "metadata": {
    "collapsed": false,
    "pycharm": {
     "name": "#%%\n"
    }
   },
   "outputs": [],
   "source": [
    "line_data"
   ]
  },
  {
   "cell_type": "code",
   "execution_count": 1,
   "metadata": {
    "collapsed": false,
    "pycharm": {
     "name": "#%%\n"
    }
   },
   "outputs": [],
   "source": [
    "import re\n",
    "import os"
   ]
  },
  {
   "cell_type": "code",
   "source": [
    "visual_json_path = os.path.join(os.path.join(os.path.abspath(\".\"), 'bo_history'), 'visual_bo_history_test_01.json')\n",
    "tmp_path = os.path.join(os.path.abspath(\".\"), 'visualization/templates/visual_template.html')\n",
    "html_path = os.path.join(os.path.join(os.path.abspath(\".\"), 'visualization'), 'bo_visualization.html')"
   ],
   "metadata": {
    "collapsed": false,
    "pycharm": {
     "name": "#%%\n"
    }
   },
   "execution_count": 23,
   "outputs": []
  },
  {
   "cell_type": "code",
   "execution_count": 3,
   "outputs": [
    {
     "data": {
      "text/plain": "'D:\\\\xbc\\\\Fighting\\\\AutoML\\\\openbox\\\\visualization\\\\open-box\\\\visualization/templates/visual_template.html'"
     },
     "execution_count": 3,
     "metadata": {},
     "output_type": "execute_result"
    }
   ],
   "source": [
    "tmp_path"
   ],
   "metadata": {
    "collapsed": false,
    "pycharm": {
     "name": "#%%\n"
    }
   }
  },
  {
   "cell_type": "code",
   "execution_count": 4,
   "outputs": [],
   "source": [
    "html_text = ''\n",
    "with open(tmp_path, 'r') as f:\n",
    "    html_text = f.read()\n"
   ],
   "metadata": {
    "collapsed": false,
    "pycharm": {
     "name": "#%%\n"
    }
   }
  },
  {
   "cell_type": "code",
   "execution_count": 5,
   "outputs": [
    {
     "data": {
      "text/plain": "'<!DOCTYPE html>\\n<html>\\n<head>\\n    <title>openbox visualiztion</title>\\n    <meta charset=\"UTF-8\">\\n    \\n</head>\\n<body>\\n    <script>\\n        document.write(\\'<h1>visualization</h1>\\');\\n    </script>\\n    <script type=\"text/javascript\" src=\"json_path\"></script>\\n    <script>\\n        // document.write(typeof(data));\\n        document.write(\\'<div>task_id: \\' + info.data[0].task_id + \\'</div><br></br>\\');\\n        for (var i=0, len=info.data.length; i<len; i++){\\n            document.write(\\'<div>iteration_id: \\' + info.data[i].iteration_id + \\'</div>\\');\\n            document.write(\\'<div>objs: \\' + info.data[i].objs + \\'</div>\\');\\n            document.write(\\'<br></br>\\');\\n        }\\n    </script>\\n</body>\\n</html>'"
     },
     "execution_count": 5,
     "metadata": {},
     "output_type": "execute_result"
    }
   ],
   "source": [
    "html_text"
   ],
   "metadata": {
    "collapsed": false,
    "pycharm": {
     "name": "#%%\n"
    }
   }
  },
  {
   "cell_type": "code",
   "execution_count": 24,
   "outputs": [],
   "source": [
    "result = re.sub(\"<script type=\\\"text/javascript\\\" src=\\\"json_path\\\"></script>\", \"<script type=\\\"text/javascript\\\" src=\" + repr(visual_json_path) + \"></script>\", html_text)"
   ],
   "metadata": {
    "collapsed": false,
    "pycharm": {
     "name": "#%%\n"
    }
   }
  },
  {
   "cell_type": "code",
   "execution_count": 25,
   "outputs": [
    {
     "name": "stdout",
     "output_type": "stream",
     "text": [
      "<!DOCTYPE html>\n",
      "<html>\n",
      "<head>\n",
      "    <title>openbox visualiztion</title>\n",
      "    <meta charset=\"UTF-8\">\n",
      "    \n",
      "</head>\n",
      "<body>\n",
      "    <script>\n",
      "        document.write('<h1>visualization</h1>');\n",
      "    </script>\n",
      "    <script type=\"text/javascript\" src='D:\\xbc\\Fighting\\AutoML\\openbox\\visualization\\open-box\\bo_history\\visual_bo_history_test_01.json'></script>\n",
      "    <script>\n",
      "        // document.write(typeof(data));\n",
      "        document.write('<div>task_id: ' + info.data[0].task_id + '</div><br></br>');\n",
      "        for (var i=0, len=info.data.length; i<len; i++){\n",
      "            document.write('<div>iteration_id: ' + info.data[i].iteration_id + '</div>');\n",
      "            document.write('<div>objs: ' + info.data[i].objs + '</div>');\n",
      "            document.write('<br></br>');\n",
      "        }\n",
      "    </script>\n",
      "</body>\n",
      "</html>\n"
     ]
    }
   ],
   "source": [
    "print(result)"
   ],
   "metadata": {
    "collapsed": false,
    "pycharm": {
     "name": "#%%\n"
    }
   }
  },
  {
   "cell_type": "code",
   "execution_count": 26,
   "outputs": [],
   "source": [
    "with open(html_path, \"w+\") as f:\n",
    "    f.write(result)"
   ],
   "metadata": {
    "collapsed": false,
    "pycharm": {
     "name": "#%%\n"
    }
   }
  },
  {
   "cell_type": "code",
   "execution_count": null,
   "outputs": [],
   "source": [],
   "metadata": {
    "collapsed": false,
    "pycharm": {
     "name": "#%%\n"
    }
   }
  },
  {
   "cell_type": "code",
   "execution_count": null,
   "outputs": [],
   "source": [],
   "metadata": {
    "collapsed": false,
    "pycharm": {
     "name": "#%%\n"
    }
   }
  },
  {
   "cell_type": "code",
   "execution_count": 4,
   "outputs": [],
   "source": [
    "a = np.array([[0.33333333, 0.        ],\n",
    " [0.96592024, 0.99213283],\n",
    " [0.00896468, 0.95070622],\n",
    " [0.        , 0.26969276],\n",
    " [0.00803739, 0.95423729],\n",
    " [0.09387735, 1.        ],\n",
    " [0.26450223, 1.        ],\n",
    " [0.60356311, 0.        ],\n",
    " [0.76381594, 0.        ],\n",
    " [0.62167378, 0.23655243]]\n",
    ")"
   ],
   "metadata": {
    "collapsed": false,
    "pycharm": {
     "name": "#%%\n"
    }
   }
  },
  {
   "cell_type": "code",
   "execution_count": 12,
   "outputs": [
    {
     "ename": "ValueError",
     "evalue": "all the input array dimensions for the concatenation axis must match exactly, but along dimension 0, the array at index 0 has size 3 and the array at index 1 has size 6",
     "output_type": "error",
     "traceback": [
      "\u001B[1;31m---------------------------------------------------------------------------\u001B[0m",
      "\u001B[1;31mValueError\u001B[0m                                Traceback (most recent call last)",
      "\u001B[1;32m~\\AppData\\Local\\Temp\\ipykernel_35976\\2809560678.py\u001B[0m in \u001B[0;36m<module>\u001B[1;34m\u001B[0m\n\u001B[1;32m----> 1\u001B[1;33m \u001B[0mnp\u001B[0m\u001B[1;33m.\u001B[0m\u001B[0mconcatenate\u001B[0m\u001B[1;33m(\u001B[0m\u001B[1;33m(\u001B[0m\u001B[0ma\u001B[0m\u001B[1;33m[\u001B[0m\u001B[1;33m:\u001B[0m\u001B[1;36m3\u001B[0m\u001B[1;33m,\u001B[0m \u001B[1;33m:\u001B[0m\u001B[1;33m]\u001B[0m\u001B[1;33m,\u001B[0m \u001B[0ma\u001B[0m\u001B[1;33m[\u001B[0m\u001B[1;36m4\u001B[0m\u001B[1;33m:\u001B[0m\u001B[1;33m,\u001B[0m \u001B[1;33m:\u001B[0m\u001B[1;33m]\u001B[0m\u001B[1;33m)\u001B[0m\u001B[1;33m,\u001B[0m \u001B[0maxis\u001B[0m\u001B[1;33m=\u001B[0m\u001B[1;36m1\u001B[0m\u001B[1;33m)\u001B[0m\u001B[1;33m\u001B[0m\u001B[1;33m\u001B[0m\u001B[0m\n\u001B[0m",
      "\u001B[1;32m<__array_function__ internals>\u001B[0m in \u001B[0;36mconcatenate\u001B[1;34m(*args, **kwargs)\u001B[0m\n",
      "\u001B[1;31mValueError\u001B[0m: all the input array dimensions for the concatenation axis must match exactly, but along dimension 0, the array at index 0 has size 3 and the array at index 1 has size 6"
     ]
    }
   ],
   "source": [
    "np.concatenate((a[:3, :], a[4:, :]), axis=0)"
   ],
   "metadata": {
    "collapsed": false,
    "pycharm": {
     "name": "#%%\n"
    }
   }
  },
  {
   "cell_type": "code",
   "execution_count": null,
   "outputs": [],
   "source": [],
   "metadata": {
    "collapsed": false,
    "pycharm": {
     "name": "#%%\n"
    }
   }
  }
 ],
 "metadata": {
  "kernelspec": {
   "display_name": "Python 3.8.13 ('my_openbox')",
   "language": "python",
   "name": "python3"
  },
  "language_info": {
   "codemirror_mode": {
    "name": "ipython",
    "version": 3
   },
   "file_extension": ".py",
   "mimetype": "text/x-python",
   "name": "python",
   "nbconvert_exporter": "python",
   "pygments_lexer": "ipython3",
   "version": "3.8.13"
  },
  "orig_nbformat": 4,
  "vscode": {
   "interpreter": {
    "hash": "4f7e0be0300b7d5f6b3fe5ea9ddbb8e167d22210f5ef38db82ffb5e565575d56"
   }
  }
 },
 "nbformat": 4,
 "nbformat_minor": 2
}
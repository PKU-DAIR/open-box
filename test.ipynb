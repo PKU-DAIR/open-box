{
 "cells": [
  {
   "cell_type": "code",
   "execution_count": 1,
   "metadata": {},
   "outputs": [
    {
     "name": "stdout",
     "output_type": "stream",
     "text": [
      "===== My Test Start =====\n",
      "[INFO] [2022-10-15 15:52:10,462] [Advisor] === [BO auto selection] === surrogate_type: gp. acq_type: ei. acq_optimizer_type: random_scipy.\n"
     ]
    },
    {
     "name": "stderr",
     "output_type": "stream",
     "text": [
      "  0%|          | 0/10 [00:00<?, ?it/s]"
     ]
    },
    {
     "name": "stdout",
     "output_type": "stream",
     "text": [
      "Save history to bo_history_test_install.json\n",
      "Save history to visual_bo_history_test_install.json\n",
      "[INFO] [2022-10-15 15:52:10,490] [OpenBox-test_install] Iteration 1, objective value: (55.602112642270264,).\n",
      "Save history to bo_history_test_install.json\n",
      "Save history to visual_bo_history_test_install.json\n",
      "[INFO] [2022-10-15 15:52:10,491] [OpenBox-test_install] Iteration 2, objective value: (185.75379495428467,).\n",
      "Save history to bo_history_test_install.json\n",
      "Save history to visual_bo_history_test_install.json\n",
      "[INFO] [2022-10-15 15:52:10,494] [OpenBox-test_install] Iteration 3, objective value: (2.148759491639556,).\n",
      "[INFO] [2022-10-15 15:52:10,494] [Advisor] Sample random config. rand_prob=0.100000.\n",
      "Save history to bo_history_test_install.json\n",
      "Save history to visual_bo_history_test_install.json\n",
      "[INFO] [2022-10-15 15:52:10,497] [OpenBox-test_install] Iteration 4, objective value: (44.985966723581285,).\n",
      "[INFO] [2022-10-15 15:52:10,497] [Advisor] Sample random config. rand_prob=0.100000.\n",
      "Save history to bo_history_test_install.json\n",
      "Save history to visual_bo_history_test_install.json\n",
      "[INFO] [2022-10-15 15:52:10,500] [OpenBox-test_install] Iteration 5, objective value: (89.25448362514994,).\n",
      "Save history to bo_history_test_install.json\n",
      "Save history to visual_bo_history_test_install.json\n",
      "[INFO] [2022-10-15 15:52:10,843] [OpenBox-test_install] Iteration 6, objective value: (34.48897933064461,).\n"
     ]
    },
    {
     "name": "stderr",
     "output_type": "stream",
     "text": [
      " 60%|██████    | 6/10 [00:00<00:00, 16.90it/s]"
     ]
    },
    {
     "name": "stdout",
     "output_type": "stream",
     "text": [
      "Save history to bo_history_test_install.json\n",
      "Save history to visual_bo_history_test_install.json\n",
      "[INFO] [2022-10-15 15:52:11,202] [OpenBox-test_install] Iteration 7, objective value: (33.81652011117299,).\n",
      "Save history to bo_history_test_install.json\n",
      "Save history to visual_bo_history_test_install.json\n",
      "[INFO] [2022-10-15 15:52:11,571] [OpenBox-test_install] Iteration 8, objective value: (10.131303585342879,).\n"
     ]
    },
    {
     "name": "stderr",
     "output_type": "stream",
     "text": [
      " 80%|████████  | 8/10 [00:01<00:00,  6.35it/s]"
     ]
    },
    {
     "name": "stdout",
     "output_type": "stream",
     "text": [
      "Save history to bo_history_test_install.json\n",
      "Save history to visual_bo_history_test_install.json\n",
      "[INFO] [2022-10-15 15:52:11,957] [OpenBox-test_install] Iteration 9, objective value: (2.737186759163812,).\n"
     ]
    },
    {
     "name": "stderr",
     "output_type": "stream",
     "text": [
      " 90%|█████████ | 9/10 [00:01<00:00,  4.99it/s]"
     ]
    },
    {
     "name": "stdout",
     "output_type": "stream",
     "text": [
      "[INFO] [2022-10-15 15:52:11,958] [Advisor] Sample random config. rand_prob=0.100000.\n",
      "Save history to bo_history_test_install.json\n",
      "Save history to visual_bo_history_test_install.json\n",
      "[INFO] [2022-10-15 15:52:11,961] [OpenBox-test_install] Iteration 10, objective value: (25.003852587984994,).\n"
     ]
    },
    {
     "name": "stderr",
     "output_type": "stream",
     "text": [
      "100%|██████████| 10/10 [00:01<00:00,  6.79it/s]"
     ]
    },
    {
     "name": "stdout",
     "output_type": "stream",
     "text": [
      "{'line_data': {'min': [[0, 55.6021], [2, 2.1488], [10, 2.1488]], 'over': [[1, 185.7538], [3, 44.986], [4, 89.2545], [5, 34.489], [6, 33.8165], [7, 10.1313], [8, 2.7372], [9, 25.0039]], 'scat': [[0, 55.6021], [2, 2.1488], [10, 2.1488]]}, 'parallel_data': {'data': [[0.0, 0.0, 55.6021], [8.12421706914896, 14.95000437998525, 185.7538], [-3.6949506510282717, 14.20823185078422, 2.1488], [8.857419248374747, 8.601818741741576, 44.986], [8.1096040779776, 10.62690025058993, 89.2545], [-5.0, 12.522038557339638, 34.489], [-2.0090004839093574, 15.0, 33.8165], [-4.6062019208830165, 15.0, 10.1313], [8.893401046118393, 3.0708530123755344, 2.7372], [-3.745708016716049, 8.98791343911411, 25.0039]], 'schema': ['x1', 'x2', 'perf'], 'visualMap': {'min': 2.1488, 'max': 98.90442999999996, 'dimension': 2}}, 'table_list': [[0, 55.6021, \"'x1': 0.0, 'x2': 0.0\", 0, 0.0], [1, 185.7538, \"'x1': 8.12421706914896, 'x2': 14.9\", 0, 0.0], [2, 2.1488, \"'x1': -3.6949506510282717, 'x2': 1\", 0, 0.0], [3, 44.986, \"'x1': 8.857419248374747, 'x2': 8.6\", 0, 0.0], [4, 89.2545, \"'x1': 8.1096040779776, 'x2': 10.62\", 0, 0.0], [5, 34.489, \"'x1': -5.0, 'x2': 12.5220385573396\", 0, 0.0], [6, 33.8165, \"'x1': -2.0090004839093574, 'x2': 1\", 0, 0.0], [7, 10.1313, \"'x1': -4.6062019208830165, 'x2': 1\", 0, 0.0], [8, 2.7372, \"'x1': 8.893401046118393, 'x2': 3.0\", 0, 0.0], [9, 25.0039, \"'x1': -3.745708016716049, 'x2': 8.\", 0, 0.0]], 'rh_config': {'0': {'x1': 0.0, 'x2': 0.0}, '1': {'x1': 8.12421706914896, 'x2': 14.95000437998525}, '2': {'x1': -3.6949506510282717, 'x2': 14.20823185078422}, '3': {'x1': 8.857419248374747, 'x2': 8.601818741741576}, '4': {'x1': 8.1096040779776, 'x2': 10.62690025058993}, '5': {'x1': -5.0, 'x2': 12.522038557339638}, '6': {'x1': -2.0090004839093574, 'x2': 15.0}, '7': {'x1': -4.6062019208830165, 'x2': 15.0}, '8': {'x1': 8.893401046118393, 'x2': 3.0708530123755344}, '9': {'x1': -3.745708016716049, 'x2': 8.98791343911411}}, 'task_inf': {'table_field': ['task_id', 'Advisor Type', 'Surrogate Type', 'max_runs', 'Time Limit Per Trial'], 'table_data': ['test_install', 'default', 'gp', 10, 30]}}\n",
      "===== Congratulations! All trials succeeded. =====\n"
     ]
    },
    {
     "name": "stderr",
     "output_type": "stream",
     "text": [
      "\n"
     ]
    }
   ],
   "source": [
    "from openbox import run_test\n",
    "run_test()"
   ]
  },
  {
   "cell_type": "code",
   "execution_count": 1,
   "metadata": {},
   "outputs": [],
   "source": [
    "from openbox import sp\n",
    "space = sp.Space()\n",
    "# 两个实数型（浮点型）变量\n",
    "x1 = sp.Real('x1', -5, 10, default_value=0)\n",
    "x2 = sp.Real(\"x2\", 0, 15, default_value=0)\n",
    "space.add_variables([x1, x2])\n",
    "\n",
    "# 整形变量\n",
    "i = sp.Int(\"i\", 0, 100) \n",
    "# 类别型变量\n",
    "kernel = sp.Categorical(\"kernel\", [\"rbf\", \"poly\", \"sigmoid\"], default_value=\"rbf\")\n",
    "\n",
    "import numpy as np\n",
    "\n",
    "# Define Objective Function\n",
    "def branin(config):\n",
    "    x1, x2 = config['x1'], config['x2']\n",
    "    y = (x2-5.1/(4*np.pi**2)*x1**2+5/np.pi*x1-6)**2+10*(1-1/(8*np.pi))*np.cos(x1)+10\n",
    "    return y"
   ]
  },
  {
   "cell_type": "code",
   "execution_count": 2,
   "metadata": {},
   "outputs": [
    {
     "name": "stdout",
     "output_type": "stream",
     "text": [
      "[INFO] [2022-10-15 15:55:04,493] [Advisor] === [BO auto selection] === acq_type: ei. acq_optimizer_type: random_scipy.\n"
     ]
    },
    {
     "name": "stderr",
     "output_type": "stream",
     "text": [
      "  0%|          | 0/50 [00:00<?, ?it/s]"
     ]
    },
    {
     "name": "stdout",
     "output_type": "stream",
     "text": [
      "Save history to bo_history_test_01.json\n",
      "Save history to visual_bo_history_test_01.json\n",
      "[INFO] [2022-10-15 15:55:04,520] [OpenBox-test_01] Iteration 1, objective value: [55.602112642270264].\n",
      "Save history to bo_history_test_01.json\n",
      "Save history to visual_bo_history_test_01.json\n",
      "[INFO] [2022-10-15 15:55:04,522] [OpenBox-test_01] Iteration 2, objective value: [154.27731419556338].\n",
      "Save history to bo_history_test_01.json\n",
      "Save history to visual_bo_history_test_01.json\n",
      "[INFO] [2022-10-15 15:55:04,523] [OpenBox-test_01] Iteration 3, objective value: [8.518519799450509].\n",
      "Save history to bo_history_test_01.json\n",
      "Save history to visual_bo_history_test_01.json\n",
      "[INFO] [2022-10-15 15:55:04,766] [OpenBox-test_01] Iteration 4, objective value: [162.15244906124911].\n"
     ]
    },
    {
     "name": "stderr",
     "output_type": "stream",
     "text": [
      "  8%|▊         | 4/50 [00:00<00:02, 16.13it/s]"
     ]
    },
    {
     "name": "stdout",
     "output_type": "stream",
     "text": [
      "[INFO] [2022-10-15 15:55:04,767] [Advisor] Sample random config. rand_prob=0.100000.\n",
      "Save history to bo_history_test_01.json\n",
      "Save history to visual_bo_history_test_01.json\n",
      "[INFO] [2022-10-15 15:55:04,770] [OpenBox-test_01] Iteration 5, objective value: [137.95091940982996].\n",
      "Save history to bo_history_test_01.json\n",
      "Save history to visual_bo_history_test_01.json\n",
      "[INFO] [2022-10-15 15:55:05,049] [OpenBox-test_01] Iteration 6, objective value: [17.508299515778166].\n"
     ]
    },
    {
     "name": "stderr",
     "output_type": "stream",
     "text": [
      " 12%|█▏        | 6/50 [00:00<00:04, 10.51it/s]"
     ]
    },
    {
     "name": "stdout",
     "output_type": "stream",
     "text": [
      "Save history to bo_history_test_01.json\n",
      "Save history to visual_bo_history_test_01.json\n",
      "[INFO] [2022-10-15 15:55:05,366] [OpenBox-test_01] Iteration 7, objective value: [28.650084519823665].\n",
      "Save history to bo_history_test_01.json\n",
      "Save history to visual_bo_history_test_01.json\n",
      "[INFO] [2022-10-15 15:55:05,760] [OpenBox-test_01] Iteration 8, objective value: [13.320077584625583].\n"
     ]
    },
    {
     "name": "stderr",
     "output_type": "stream",
     "text": [
      " 16%|█▌        | 8/50 [00:01<00:08,  5.19it/s]"
     ]
    },
    {
     "name": "stdout",
     "output_type": "stream",
     "text": [
      "Save history to bo_history_test_01.json\n",
      "Save history to visual_bo_history_test_01.json\n",
      "[INFO] [2022-10-15 15:55:06,165] [OpenBox-test_01] Iteration 9, objective value: [7.815909441807692].\n"
     ]
    },
    {
     "name": "stderr",
     "output_type": "stream",
     "text": [
      " 18%|█▊        | 9/50 [00:01<00:09,  4.22it/s]"
     ]
    },
    {
     "name": "stdout",
     "output_type": "stream",
     "text": [
      "[INFO] [2022-10-15 15:55:06,166] [Advisor] Sample random config. rand_prob=0.100000.\n",
      "Save history to bo_history_test_01.json\n",
      "Save history to visual_bo_history_test_01.json\n",
      "[INFO] [2022-10-15 15:55:06,168] [OpenBox-test_01] Iteration 10, objective value: [14.25271683467846].\n",
      "Save history to bo_history_test_01.json\n",
      "Save history to visual_bo_history_test_01.json\n",
      "[INFO] [2022-10-15 15:55:06,547] [OpenBox-test_01] Iteration 11, objective value: [9.618230941715323].\n"
     ]
    },
    {
     "name": "stderr",
     "output_type": "stream",
     "text": [
      " 22%|██▏       | 11/50 [00:02<00:08,  4.55it/s]"
     ]
    },
    {
     "name": "stdout",
     "output_type": "stream",
     "text": [
      "Save history to bo_history_test_01.json\n",
      "Save history to visual_bo_history_test_01.json\n",
      "[INFO] [2022-10-15 15:55:07,190] [OpenBox-test_01] Iteration 12, objective value: [7.991719590015373].\n"
     ]
    },
    {
     "name": "stderr",
     "output_type": "stream",
     "text": [
      " 24%|██▍       | 12/50 [00:02<00:11,  3.23it/s]"
     ]
    },
    {
     "name": "stdout",
     "output_type": "stream",
     "text": [
      "Save history to bo_history_test_01.json\n",
      "Save history to visual_bo_history_test_01.json\n",
      "[INFO] [2022-10-15 15:55:07,748] [OpenBox-test_01] Iteration 13, objective value: [4.150644562498099].\n"
     ]
    },
    {
     "name": "stderr",
     "output_type": "stream",
     "text": [
      " 26%|██▌       | 13/50 [00:03<00:13,  2.72it/s]"
     ]
    },
    {
     "name": "stdout",
     "output_type": "stream",
     "text": [
      "Save history to bo_history_test_01.json\n",
      "Save history to visual_bo_history_test_01.json\n",
      "[INFO] [2022-10-15 15:55:08,160] [OpenBox-test_01] Iteration 14, objective value: [9.22515670482885].\n"
     ]
    },
    {
     "name": "stderr",
     "output_type": "stream",
     "text": [
      " 28%|██▊       | 14/50 [00:03<00:13,  2.64it/s]"
     ]
    },
    {
     "name": "stdout",
     "output_type": "stream",
     "text": [
      "Save history to bo_history_test_01.json\n",
      "Save history to visual_bo_history_test_01.json\n",
      "[INFO] [2022-10-15 15:55:08,555] [OpenBox-test_01] Iteration 15, objective value: [1.6448429823426647].\n"
     ]
    },
    {
     "name": "stderr",
     "output_type": "stream",
     "text": [
      " 30%|███       | 15/50 [00:04<00:13,  2.61it/s]"
     ]
    },
    {
     "name": "stdout",
     "output_type": "stream",
     "text": [
      "Save history to bo_history_test_01.json\n",
      "Save history to visual_bo_history_test_01.json\n",
      "[INFO] [2022-10-15 15:55:08,943] [OpenBox-test_01] Iteration 16, objective value: [4.586117905951527].\n"
     ]
    },
    {
     "name": "stderr",
     "output_type": "stream",
     "text": [
      " 32%|███▏      | 16/50 [00:04<00:13,  2.60it/s]"
     ]
    },
    {
     "name": "stdout",
     "output_type": "stream",
     "text": [
      "Save history to bo_history_test_01.json\n",
      "Save history to visual_bo_history_test_01.json\n",
      "[INFO] [2022-10-15 15:55:09,266] [OpenBox-test_01] Iteration 17, objective value: [5.316125307027168].\n"
     ]
    },
    {
     "name": "stderr",
     "output_type": "stream",
     "text": [
      " 34%|███▍      | 17/50 [00:04<00:12,  2.73it/s]"
     ]
    },
    {
     "name": "stdout",
     "output_type": "stream",
     "text": [
      "Save history to bo_history_test_01.json\n",
      "Save history to visual_bo_history_test_01.json\n",
      "[INFO] [2022-10-15 15:55:09,730] [OpenBox-test_01] Iteration 18, objective value: [1.9697193203419818].\n"
     ]
    },
    {
     "name": "stderr",
     "output_type": "stream",
     "text": [
      " 36%|███▌      | 18/50 [00:05<00:12,  2.53it/s]"
     ]
    },
    {
     "name": "stdout",
     "output_type": "stream",
     "text": [
      "Save history to bo_history_test_01.json\n",
      "Save history to visual_bo_history_test_01.json\n",
      "[INFO] [2022-10-15 15:55:10,322] [OpenBox-test_01] Iteration 19, objective value: [20.72015358786838].\n"
     ]
    },
    {
     "name": "stderr",
     "output_type": "stream",
     "text": [
      " 38%|███▊      | 19/50 [00:05<00:14,  2.21it/s]"
     ]
    },
    {
     "name": "stdout",
     "output_type": "stream",
     "text": [
      "Save history to bo_history_test_01.json\n",
      "Save history to visual_bo_history_test_01.json\n",
      "[INFO] [2022-10-15 15:55:10,868] [OpenBox-test_01] Iteration 20, objective value: [0.5326813213851107].\n"
     ]
    },
    {
     "name": "stderr",
     "output_type": "stream",
     "text": [
      " 40%|████      | 20/50 [00:06<00:14,  2.09it/s]"
     ]
    },
    {
     "name": "stdout",
     "output_type": "stream",
     "text": [
      "Save history to bo_history_test_01.json\n",
      "Save history to visual_bo_history_test_01.json\n",
      "[INFO] [2022-10-15 15:55:11,336] [OpenBox-test_01] Iteration 21, objective value: [3.728011217534286].\n"
     ]
    },
    {
     "name": "stderr",
     "output_type": "stream",
     "text": [
      " 42%|████▏     | 21/50 [00:06<00:13,  2.10it/s]"
     ]
    },
    {
     "name": "stdout",
     "output_type": "stream",
     "text": [
      "Save history to bo_history_test_01.json\n",
      "Save history to visual_bo_history_test_01.json\n",
      "[INFO] [2022-10-15 15:55:12,011] [OpenBox-test_01] Iteration 22, objective value: [0.4652169131178372].\n"
     ]
    },
    {
     "name": "stderr",
     "output_type": "stream",
     "text": [
      " 44%|████▍     | 22/50 [00:07<00:14,  1.87it/s]"
     ]
    },
    {
     "name": "stdout",
     "output_type": "stream",
     "text": [
      "Save history to bo_history_test_01.json\n",
      "Save history to visual_bo_history_test_01.json\n",
      "[INFO] [2022-10-15 15:55:12,532] [OpenBox-test_01] Iteration 23, objective value: [0.5255136807298175].\n"
     ]
    },
    {
     "name": "stderr",
     "output_type": "stream",
     "text": [
      " 46%|████▌     | 23/50 [00:08<00:14,  1.88it/s]"
     ]
    },
    {
     "name": "stdout",
     "output_type": "stream",
     "text": [
      "[INFO] [2022-10-15 15:55:12,533] [Advisor] Sample random config. rand_prob=0.100000.\n",
      "Save history to bo_history_test_01.json\n",
      "Save history to visual_bo_history_test_01.json\n",
      "[INFO] [2022-10-15 15:55:12,537] [OpenBox-test_01] Iteration 24, objective value: [1.0587873781477146].\n",
      "Save history to bo_history_test_01.json\n",
      "Save history to visual_bo_history_test_01.json\n",
      "[INFO] [2022-10-15 15:55:13,186] [OpenBox-test_01] Iteration 25, objective value: [13.001649912844154].\n"
     ]
    },
    {
     "name": "stderr",
     "output_type": "stream",
     "text": [
      " 50%|█████     | 25/50 [00:08<00:10,  2.29it/s]"
     ]
    },
    {
     "name": "stdout",
     "output_type": "stream",
     "text": [
      "Save history to bo_history_test_01.json\n",
      "Save history to visual_bo_history_test_01.json\n",
      "[INFO] [2022-10-15 15:55:13,935] [OpenBox-test_01] Iteration 26, objective value: [1.0018261956953545].\n"
     ]
    },
    {
     "name": "stderr",
     "output_type": "stream",
     "text": [
      " 52%|█████▏    | 26/50 [00:09<00:12,  1.95it/s]"
     ]
    },
    {
     "name": "stdout",
     "output_type": "stream",
     "text": [
      "Save history to bo_history_test_01.json\n",
      "Save history to visual_bo_history_test_01.json\n",
      "[INFO] [2022-10-15 15:55:14,485] [OpenBox-test_01] Iteration 27, objective value: [0.594769930747951].\n"
     ]
    },
    {
     "name": "stderr",
     "output_type": "stream",
     "text": [
      " 54%|█████▍    | 27/50 [00:09<00:12,  1.91it/s]"
     ]
    },
    {
     "name": "stdout",
     "output_type": "stream",
     "text": [
      "Save history to bo_history_test_01.json\n",
      "Save history to visual_bo_history_test_01.json\n",
      "[INFO] [2022-10-15 15:55:15,135] [OpenBox-test_01] Iteration 28, objective value: [1.0838216322777114].\n"
     ]
    },
    {
     "name": "stderr",
     "output_type": "stream",
     "text": [
      " 56%|█████▌    | 28/50 [00:10<00:12,  1.79it/s]"
     ]
    },
    {
     "name": "stdout",
     "output_type": "stream",
     "text": [
      "Save history to bo_history_test_01.json\n",
      "Save history to visual_bo_history_test_01.json\n",
      "[INFO] [2022-10-15 15:55:15,675] [OpenBox-test_01] Iteration 29, objective value: [0.4397896563121293].\n"
     ]
    },
    {
     "name": "stderr",
     "output_type": "stream",
     "text": [
      " 58%|█████▊    | 29/50 [00:11<00:11,  1.81it/s]"
     ]
    },
    {
     "name": "stdout",
     "output_type": "stream",
     "text": [
      "Save history to bo_history_test_01.json\n",
      "Save history to visual_bo_history_test_01.json\n",
      "[INFO] [2022-10-15 15:55:16,299] [OpenBox-test_01] Iteration 30, objective value: [0.4369134478555541].\n"
     ]
    },
    {
     "name": "stderr",
     "output_type": "stream",
     "text": [
      " 60%|██████    | 30/50 [00:11<00:11,  1.74it/s]"
     ]
    },
    {
     "name": "stdout",
     "output_type": "stream",
     "text": [
      "Save history to bo_history_test_01.json\n",
      "Save history to visual_bo_history_test_01.json\n",
      "[INFO] [2022-10-15 15:55:16,892] [OpenBox-test_01] Iteration 31, objective value: [0.43098419959670586].\n"
     ]
    },
    {
     "name": "stderr",
     "output_type": "stream",
     "text": [
      " 62%|██████▏   | 31/50 [00:12<00:11,  1.73it/s]"
     ]
    },
    {
     "name": "stdout",
     "output_type": "stream",
     "text": [
      "Save history to bo_history_test_01.json\n",
      "Save history to visual_bo_history_test_01.json\n",
      "[INFO] [2022-10-15 15:55:17,411] [OpenBox-test_01] Iteration 32, objective value: [0.39810941039320547].\n"
     ]
    },
    {
     "name": "stderr",
     "output_type": "stream",
     "text": [
      " 64%|██████▍   | 32/50 [00:12<00:10,  1.78it/s]"
     ]
    },
    {
     "name": "stdout",
     "output_type": "stream",
     "text": [
      "[INFO] [2022-10-15 15:55:17,412] [Advisor] Sample random config. rand_prob=0.100000.\n",
      "Save history to bo_history_test_01.json\n",
      "Save history to visual_bo_history_test_01.json\n",
      "[INFO] [2022-10-15 15:55:17,416] [OpenBox-test_01] Iteration 33, objective value: [145.82925260494184].\n",
      "[INFO] [2022-10-15 15:55:17,416] [Advisor] Sample random config. rand_prob=0.100000.\n",
      "Save history to bo_history_test_01.json\n",
      "Save history to visual_bo_history_test_01.json\n",
      "[INFO] [2022-10-15 15:55:17,420] [OpenBox-test_01] Iteration 34, objective value: [40.01724653770685].\n",
      "Save history to bo_history_test_01.json\n",
      "Save history to visual_bo_history_test_01.json\n",
      "[INFO] [2022-10-15 15:55:17,853] [OpenBox-test_01] Iteration 35, objective value: [0.41946599627711656].\n"
     ]
    },
    {
     "name": "stderr",
     "output_type": "stream",
     "text": [
      " 70%|███████   | 35/50 [00:13<00:04,  3.02it/s]"
     ]
    },
    {
     "name": "stdout",
     "output_type": "stream",
     "text": [
      "Save history to bo_history_test_01.json\n",
      "Save history to visual_bo_history_test_01.json\n",
      "[INFO] [2022-10-15 15:55:18,368] [OpenBox-test_01] Iteration 36, objective value: [0.5291233500574659].\n"
     ]
    },
    {
     "name": "stderr",
     "output_type": "stream",
     "text": [
      " 72%|███████▏  | 36/50 [00:13<00:05,  2.71it/s]"
     ]
    },
    {
     "name": "stdout",
     "output_type": "stream",
     "text": [
      "Save history to bo_history_test_01.json\n",
      "Save history to visual_bo_history_test_01.json\n",
      "[INFO] [2022-10-15 15:55:18,852] [OpenBox-test_01] Iteration 37, objective value: [0.4006259491340085].\n"
     ]
    },
    {
     "name": "stderr",
     "output_type": "stream",
     "text": [
      " 74%|███████▍  | 37/50 [00:14<00:05,  2.53it/s]"
     ]
    },
    {
     "name": "stdout",
     "output_type": "stream",
     "text": [
      "Save history to bo_history_test_01.json\n",
      "Save history to visual_bo_history_test_01.json\n",
      "[INFO] [2022-10-15 15:55:19,394] [OpenBox-test_01] Iteration 38, objective value: [0.39810791072532226].\n"
     ]
    },
    {
     "name": "stderr",
     "output_type": "stream",
     "text": [
      " 76%|███████▌  | 38/50 [00:14<00:05,  2.32it/s]"
     ]
    },
    {
     "name": "stdout",
     "output_type": "stream",
     "text": [
      "Save history to bo_history_test_01.json\n",
      "Save history to visual_bo_history_test_01.json\n",
      "[INFO] [2022-10-15 15:55:20,164] [OpenBox-test_01] Iteration 39, objective value: [0.4382653075482956].\n"
     ]
    },
    {
     "name": "stderr",
     "output_type": "stream",
     "text": [
      " 78%|███████▊  | 39/50 [00:15<00:05,  1.92it/s]"
     ]
    },
    {
     "name": "stdout",
     "output_type": "stream",
     "text": [
      "Save history to bo_history_test_01.json\n",
      "Save history to visual_bo_history_test_01.json\n",
      "[INFO] [2022-10-15 15:55:20,713] [OpenBox-test_01] Iteration 40, objective value: [0.43977273170469644].\n"
     ]
    },
    {
     "name": "stderr",
     "output_type": "stream",
     "text": [
      " 80%|████████  | 40/50 [00:16<00:05,  1.89it/s]"
     ]
    },
    {
     "name": "stdout",
     "output_type": "stream",
     "text": [
      "[INFO] [2022-10-15 15:55:20,714] [Advisor] Sample random config. rand_prob=0.100000.\n",
      "Save history to bo_history_test_01.json\n",
      "Save history to visual_bo_history_test_01.json\n",
      "[INFO] [2022-10-15 15:55:20,718] [OpenBox-test_01] Iteration 41, objective value: [21.08086347181625].\n",
      "[INFO] [2022-10-15 15:55:20,718] [Advisor] Sample random config. rand_prob=0.100000.\n",
      "Save history to bo_history_test_01.json\n",
      "Save history to visual_bo_history_test_01.json\n",
      "[INFO] [2022-10-15 15:55:20,723] [OpenBox-test_01] Iteration 42, objective value: [70.93136554114763].\n",
      "Save history to bo_history_test_01.json\n",
      "Save history to visual_bo_history_test_01.json\n",
      "[INFO] [2022-10-15 15:55:21,314] [OpenBox-test_01] Iteration 43, objective value: [0.3978935622381883].\n"
     ]
    },
    {
     "name": "stderr",
     "output_type": "stream",
     "text": [
      " 86%|████████▌ | 43/50 [00:16<00:02,  2.84it/s]"
     ]
    },
    {
     "name": "stdout",
     "output_type": "stream",
     "text": [
      "Save history to bo_history_test_01.json\n",
      "Save history to visual_bo_history_test_01.json\n",
      "[INFO] [2022-10-15 15:55:21,954] [OpenBox-test_01] Iteration 44, objective value: [0.4158462562292833].\n"
     ]
    },
    {
     "name": "stderr",
     "output_type": "stream",
     "text": [
      " 88%|████████▊ | 44/50 [00:17<00:02,  2.44it/s]"
     ]
    },
    {
     "name": "stdout",
     "output_type": "stream",
     "text": [
      "Save history to bo_history_test_01.json\n",
      "Save history to visual_bo_history_test_01.json\n",
      "[INFO] [2022-10-15 15:55:22,578] [OpenBox-test_01] Iteration 45, objective value: [0.46667862738318533].\n"
     ]
    },
    {
     "name": "stderr",
     "output_type": "stream",
     "text": [
      " 90%|█████████ | 45/50 [00:18<00:02,  2.18it/s]"
     ]
    },
    {
     "name": "stdout",
     "output_type": "stream",
     "text": [
      "Save history to bo_history_test_01.json\n",
      "Save history to visual_bo_history_test_01.json\n",
      "[INFO] [2022-10-15 15:55:23,343] [OpenBox-test_01] Iteration 46, objective value: [1.0394013527761796].\n"
     ]
    },
    {
     "name": "stderr",
     "output_type": "stream",
     "text": [
      " 92%|█████████▏| 46/50 [00:18<00:02,  1.88it/s]"
     ]
    },
    {
     "name": "stdout",
     "output_type": "stream",
     "text": [
      "Save history to bo_history_test_01.json\n",
      "Save history to visual_bo_history_test_01.json\n",
      "[INFO] [2022-10-15 15:55:24,037] [OpenBox-test_01] Iteration 47, objective value: [0.5215169612522867].\n"
     ]
    },
    {
     "name": "stderr",
     "output_type": "stream",
     "text": [
      " 94%|█████████▍| 47/50 [00:19<00:01,  1.74it/s]"
     ]
    },
    {
     "name": "stdout",
     "output_type": "stream",
     "text": [
      "Save history to bo_history_test_01.json\n",
      "Save history to visual_bo_history_test_01.json\n",
      "[INFO] [2022-10-15 15:55:24,692] [OpenBox-test_01] Iteration 48, objective value: [0.3978880694502873].\n"
     ]
    },
    {
     "name": "stderr",
     "output_type": "stream",
     "text": [
      " 96%|█████████▌| 48/50 [00:20<00:01,  1.68it/s]"
     ]
    },
    {
     "name": "stdout",
     "output_type": "stream",
     "text": [
      "[INFO] [2022-10-15 15:55:24,693] [Advisor] Sample random config. rand_prob=0.100000.\n",
      "Save history to bo_history_test_01.json\n",
      "Save history to visual_bo_history_test_01.json\n",
      "[INFO] [2022-10-15 15:55:24,699] [OpenBox-test_01] Iteration 49, objective value: [10.845121508681416].\n",
      "[INFO] [2022-10-15 15:55:24,699] [Advisor] Sample random config. rand_prob=0.100000.\n",
      "Save history to bo_history_test_01.json\n",
      "Save history to visual_bo_history_test_01.json\n",
      "[INFO] [2022-10-15 15:55:24,705] [OpenBox-test_01] Iteration 50, objective value: [65.50517041386955].\n"
     ]
    },
    {
     "name": "stderr",
     "output_type": "stream",
     "text": [
      "100%|██████████| 50/50 [00:20<00:00,  2.48it/s]"
     ]
    },
    {
     "name": "stdout",
     "output_type": "stream",
     "text": [
      "{'line_data': {'min': [[0, 55.6021], [2, 8.5185], [8, 7.8159], [12, 4.1506], [14, 1.6448], [19, 0.5327], [21, 0.4652], [28, 0.4398], [29, 0.4369], [30, 0.431], [31, 0.3981], [37, 0.3981], [42, 0.3979], [47, 0.3979], [50, 0.3979]], 'over': [[1, 154.2773], [3, 162.1524], [4, 137.9509], [5, 17.5083], [6, 28.6501], [7, 13.3201], [9, 14.2527], [10, 9.6182], [11, 7.9917], [13, 9.2252], [15, 4.5861], [16, 5.3161], [17, 1.9697], [18, 20.7202], [20, 3.728], [22, 0.5255], [23, 1.0588], [24, 13.0016], [25, 1.0018], [26, 0.5948], [27, 1.0838], [32, 145.8293], [33, 40.0172], [34, 0.4195], [35, 0.5291], [36, 0.4006], [38, 0.4383], [39, 0.4398], [40, 21.0809], [41, 70.9314], [43, 0.4158], [44, 0.4667], [45, 1.0394], [46, 0.5215], [48, 10.8451], [49, 65.5052]], 'scat': [[0, 55.6021], [2, 8.5185], [8, 7.8159], [12, 4.1506], [14, 1.6448], [19, 0.5327], [21, 0.4652], [28, 0.4398], [29, 0.4369], [30, 0.431], [31, 0.3981], [37, 0.3981], [42, 0.3979], [47, 0.3979], [50, 0.3979]]}, 'parallel_data': {'data': [[0.0, 0.0, 55.6021], [9.041825085951059, 14.547664807363386, 154.2773], [-4.419900420060393, 14.42364825027789, 8.5185], [-5.0, 4.963256938434753, 162.1524], [4.263998695732852, 13.056494684307467, 137.9509], [-5.0, 15.0, 17.5083], [-5.0, 13.196579475472856, 28.6501], [-2.7760031141427364, 14.919036708517895, 13.3201], [8.44087041619652, 0.0, 7.8159], [1.1126771483287055, 4.3111639103336925, 14.2527], [4.607742875423531, 2.1974799775899343, 9.6182], [8.26378171874412, 3.0179330240569997, 7.9917], [10.0, 1.5171894970747755, 4.1506], [3.559127673117594, 4.800747940339745, 9.2252], [2.6984761737300627, 3.211250021275817, 1.6448], [10.0, 4.6286802111962055, 4.5861], [3.6710261197267524, 0.0, 5.3161], [10.0, 3.1659862266152703, 1.9697], [6.1479348863956105, 0.0, 20.7202], [3.100365669256014, 1.9515127867936746, 0.5327], [2.6321386556183155, 1.2529857460381435, 3.728], [9.356325024236583, 2.62962201135601, 0.4652], [3.2211352407228606, 2.525660213791731, 0.5255], [-3.2883227640743145, 13.377215403246879, 1.0588], [-1.573695507605409, 10.565084376573868, 13.0016], [9.454062347688877, 3.2742944615221923, 1.0018], [-3.0049054004004576, 12.276521845402094, 0.5948], [-2.976966057325476, 12.628591853827322, 1.0838], [-3.203048731937629, 12.268989708862428, 0.4398], [-3.2204264324974865, 12.561197337112613, 0.4369], [3.0953929555772213, 2.4624712322348614, 0.431], [3.138500157963323, 2.2906846330092323, 0.3981], [9.410286921924255, 14.522254573829564, 145.8293], [1.155625419486766, 9.446433822736635, 40.0172], [9.490406162189046, 2.561041881132182, 0.4195], [9.274983184746418, 2.1975666937878686, 0.5291], [9.405433216140686, 2.4280386187041865, 0.4006], [3.1385854095897123, 2.290655587421423, 0.3981], [3.0525102227115006, 2.393491656297739, 0.4383], [3.069386310315606, 2.4618485233466765, 0.4398], [6.3562131893956, 2.3295304502447407, 21.0809], [-0.8967698827194948, 0.11910361479492593, 70.9314], [3.1404787352942876, 2.27636614368837, 0.3979], [3.0953892632088227, 2.399123923022789, 0.4158], [9.542152957307335, 2.5236004291575553, 0.4667], [2.796293263381423, 2.8330761813380856, 1.0394], [3.149216361021459, 1.9178491015715209, 0.5215], [3.1412115588384584, 2.2751770202668795, 0.3979], [-2.3831881923698846, 7.731032524740397, 10.8451], [5.605522834518583, 8.067742485199101, 65.5052]], 'schema': ['x1', 'x2', 'perf'], 'visualMap': {'min': 0.3979, 'max': 66.04782000000002, 'dimension': 2}}, 'table_list': [[0, 55.6021, \"'x1': 0.0, 'x2': 0.0\", 0, 0.0], [1, 154.2773, \"'x1': 9.041825085951059, 'x2': 14.\", 0, 0.0], [2, 8.5185, \"'x1': -4.419900420060393, 'x2': 14\", 0, 0.0], [3, 162.1524, \"'x1': -5.0, 'x2': 4.96325693843475\", 0, 0.0], [4, 137.9509, \"'x1': 4.263998695732852, 'x2': 13.\", 0, 0.0], [5, 17.5083, \"'x1': -5.0, 'x2': 15.0\", 0, 0.0], [6, 28.6501, \"'x1': -5.0, 'x2': 13.1965794754728\", 0, 0.0], [7, 13.3201, \"'x1': -2.7760031141427364, 'x2': 1\", 0, 0.0010001659393310547], [8, 7.8159, \"'x1': 8.44087041619652, 'x2': 0.0\", 0, 0.0], [9, 14.2527, \"'x1': 1.1126771483287055, 'x2': 4.\", 0, 0.0], [10, 9.6182, \"'x1': 4.607742875423531, 'x2': 2.1\", 0, 0.0], [11, 7.9917, \"'x1': 8.26378171874412, 'x2': 3.01\", 0, 0.0], [12, 4.1506, \"'x1': 10.0, 'x2': 1.51718949707477\", 0, 0.0], [13, 9.2252, \"'x1': 3.559127673117594, 'x2': 4.8\", 0, 0.0], [14, 1.6448, \"'x1': 2.6984761737300627, 'x2': 3.\", 0, 0.0], [15, 4.5861, \"'x1': 10.0, 'x2': 4.62868021119620\", 0, 0.0], [16, 5.3161, \"'x1': 3.6710261197267524, 'x2': 0.\", 0, 0.0], [17, 1.9697, \"'x1': 10.0, 'x2': 3.16598622661527\", 0, 0.0], [18, 20.7202, \"'x1': 6.1479348863956105, 'x2': 0.\", 0, 0.0], [19, 0.5327, \"'x1': 3.100365669256014, 'x2': 1.9\", 0, 0.0], [20, 3.728, \"'x1': 2.6321386556183155, 'x2': 1.\", 0, 0.0], [21, 0.4652, \"'x1': 9.356325024236583, 'x2': 2.6\", 0, 0.0], [22, 0.5255, \"'x1': 3.2211352407228606, 'x2': 2.\", 0, 0.0], [23, 1.0588, \"'x1': -3.2883227640743145, 'x2': 1\", 0, 0.0], [24, 13.0016, \"'x1': -1.573695507605409, 'x2': 10\", 0, 0.0], [25, 1.0018, \"'x1': 9.454062347688877, 'x2': 3.2\", 0, 0.0], [26, 0.5948, \"'x1': -3.0049054004004576, 'x2': 1\", 0, 0.0], [27, 1.0838, \"'x1': -2.976966057325476, 'x2': 12\", 0, 0.0], [28, 0.4398, \"'x1': -3.203048731937629, 'x2': 12\", 0, 0.0], [29, 0.4369, \"'x1': -3.2204264324974865, 'x2': 1\", 0, 0.0], [30, 0.431, \"'x1': 3.0953929555772213, 'x2': 2.\", 0, 0.0], [31, 0.3981, \"'x1': 3.138500157963323, 'x2': 2.2\", 0, 0.0], [32, 145.8293, \"'x1': 9.410286921924255, 'x2': 14.\", 0, 0.0], [33, 40.0172, \"'x1': 1.155625419486766, 'x2': 9.4\", 0, 0.0], [34, 0.4195, \"'x1': 9.490406162189046, 'x2': 2.5\", 0, 0.0], [35, 0.5291, \"'x1': 9.274983184746418, 'x2': 2.1\", 0, 0.0], [36, 0.4006, \"'x1': 9.405433216140686, 'x2': 2.4\", 0, 0.0], [37, 0.3981, \"'x1': 3.1385854095897123, 'x2': 2.\", 0, 0.0], [38, 0.4383, \"'x1': 3.0525102227115006, 'x2': 2.\", 0, 0.0], [39, 0.4398, \"'x1': 3.069386310315606, 'x2': 2.4\", 0, 0.0], [40, 21.0809, \"'x1': 6.3562131893956, 'x2': 2.329\", 0, 0.0], [41, 70.9314, \"'x1': -0.8967698827194948, 'x2': 0\", 0, 0.0], [42, 0.3979, \"'x1': 3.1404787352942876, 'x2': 2.\", 0, 0.0], [43, 0.4158, \"'x1': 3.0953892632088227, 'x2': 2.\", 0, 0.0], [44, 0.4667, \"'x1': 9.542152957307335, 'x2': 2.5\", 0, 0.0], [45, 1.0394, \"'x1': 2.796293263381423, 'x2': 2.8\", 0, 0.0], [46, 0.5215, \"'x1': 3.149216361021459, 'x2': 1.9\", 0, 0.0], [47, 0.3979, \"'x1': 3.1412115588384584, 'x2': 2.\", 0, 0.0], [48, 10.8451, \"'x1': -2.3831881923698846, 'x2': 7\", 0, 0.0], [49, 65.5052, \"'x1': 5.605522834518583, 'x2': 8.0\", 0, 0.0]], 'rh_config': {'0': {'x1': 0.0, 'x2': 0.0}, '1': {'x1': 9.041825085951059, 'x2': 14.547664807363386}, '2': {'x1': -4.419900420060393, 'x2': 14.42364825027789}, '3': {'x1': -5.0, 'x2': 4.963256938434753}, '4': {'x1': 4.263998695732852, 'x2': 13.056494684307467}, '5': {'x1': -5.0, 'x2': 15.0}, '6': {'x1': -5.0, 'x2': 13.196579475472856}, '7': {'x1': -2.7760031141427364, 'x2': 14.919036708517895}, '8': {'x1': 8.44087041619652, 'x2': 0.0}, '9': {'x1': 1.1126771483287055, 'x2': 4.3111639103336925}, '10': {'x1': 4.607742875423531, 'x2': 2.1974799775899343}, '11': {'x1': 8.26378171874412, 'x2': 3.0179330240569997}, '12': {'x1': 10.0, 'x2': 1.5171894970747755}, '13': {'x1': 3.559127673117594, 'x2': 4.800747940339745}, '14': {'x1': 2.6984761737300627, 'x2': 3.211250021275817}, '15': {'x1': 10.0, 'x2': 4.6286802111962055}, '16': {'x1': 3.6710261197267524, 'x2': 0.0}, '17': {'x1': 10.0, 'x2': 3.1659862266152703}, '18': {'x1': 6.1479348863956105, 'x2': 0.0}, '19': {'x1': 3.100365669256014, 'x2': 1.9515127867936746}, '20': {'x1': 2.6321386556183155, 'x2': 1.2529857460381435}, '21': {'x1': 9.356325024236583, 'x2': 2.62962201135601}, '22': {'x1': 3.2211352407228606, 'x2': 2.525660213791731}, '23': {'x1': -3.2883227640743145, 'x2': 13.377215403246879}, '24': {'x1': -1.573695507605409, 'x2': 10.565084376573868}, '25': {'x1': 9.454062347688877, 'x2': 3.2742944615221923}, '26': {'x1': -3.0049054004004576, 'x2': 12.276521845402094}, '27': {'x1': -2.976966057325476, 'x2': 12.628591853827322}, '28': {'x1': -3.203048731937629, 'x2': 12.268989708862428}, '29': {'x1': -3.2204264324974865, 'x2': 12.561197337112613}, '30': {'x1': 3.0953929555772213, 'x2': 2.4624712322348614}, '31': {'x1': 3.138500157963323, 'x2': 2.2906846330092323}, '32': {'x1': 9.410286921924255, 'x2': 14.522254573829564}, '33': {'x1': 1.155625419486766, 'x2': 9.446433822736635}, '34': {'x1': 9.490406162189046, 'x2': 2.561041881132182}, '35': {'x1': 9.274983184746418, 'x2': 2.1975666937878686}, '36': {'x1': 9.405433216140686, 'x2': 2.4280386187041865}, '37': {'x1': 3.1385854095897123, 'x2': 2.290655587421423}, '38': {'x1': 3.0525102227115006, 'x2': 2.393491656297739}, '39': {'x1': 3.069386310315606, 'x2': 2.4618485233466765}, '40': {'x1': 6.3562131893956, 'x2': 2.3295304502447407}, '41': {'x1': -0.8967698827194948, 'x2': 0.11910361479492593}, '42': {'x1': 3.1404787352942876, 'x2': 2.27636614368837}, '43': {'x1': 3.0953892632088227, 'x2': 2.399123923022789}, '44': {'x1': 9.542152957307335, 'x2': 2.5236004291575553}, '45': {'x1': 2.796293263381423, 'x2': 2.8330761813380856}, '46': {'x1': 3.149216361021459, 'x2': 1.9178491015715209}, '47': {'x1': 3.1412115588384584, 'x2': 2.2751770202668795}, '48': {'x1': -2.3831881923698846, 'x2': 7.731032524740397}, '49': {'x1': 5.605522834518583, 'x2': 8.067742485199101}}, 'task_inf': {'table_field': ['task_id', 'Advisor Type', 'Surrogate Type', 'max_runs', 'Time Limit Per Trial'], 'table_data': ['test_01', 'default', 'gp', 50, 30]}}\n"
     ]
    },
    {
     "name": "stderr",
     "output_type": "stream",
     "text": [
      "\n"
     ]
    }
   ],
   "source": [
    "from openbox import Optimizer\n",
    "import os\n",
    "\n",
    "# Run\n",
    "opt = Optimizer(\n",
    "    branin, # 目标函数\n",
    "    space, # 搜索空间\n",
    "    num_constraints=0, # 没有约束条件\n",
    "    num_objs=1, # 单目标值\n",
    "    max_runs=50, # 优化目标函数50次\n",
    "    surrogate_type='gp', # 用高斯过程\n",
    "    time_limit_per_trial=30, # 最大时间预算30s\n",
    "    task_id='test_01', # 区别不同优化过程\n",
    "    # json_path=os.path.join(os.path.abspath(\".\"), 'bo_history'),\n",
    ")\n",
    "history = opt.run()"
   ]
  },
  {
   "cell_type": "code",
   "execution_count": null,
   "metadata": {
    "collapsed": false,
    "pycharm": {
     "name": "#%%\n"
    }
   },
   "outputs": [],
   "source": [
    "json_data = opt.load_json()\n",
    "print(json_data)"
   ]
  },
  {
   "cell_type": "code",
   "execution_count": null,
   "metadata": {
    "collapsed": false,
    "pycharm": {
     "name": "#%%\n"
    }
   },
   "outputs": [],
   "source": [
    "type(json_data)"
   ]
  },
  {
   "cell_type": "code",
   "execution_count": null,
   "metadata": {
    "collapsed": false,
    "pycharm": {
     "name": "#%%\n"
    }
   },
   "outputs": [],
   "source": [
    "json_data = json_data['data']\n",
    "type(json_data)"
   ]
  },
  {
   "cell_type": "code",
   "execution_count": null,
   "metadata": {
    "collapsed": false,
    "pycharm": {
     "name": "#%%\n"
    }
   },
   "outputs": [],
   "source": [
    "table_list = []\n",
    "rh_config = {}\n",
    "option = {'data': [], 'schema': [], 'visualMap': {}}\n",
    "perf_list = []\n",
    "for rh in json_data:\n",
    "    result = round(rh['objs'][0], 4)\n",
    "    config_str = str(rh['config'])\n",
    "    if len(config_str) > 35:\n",
    "        config_str = config_str[1:35]\n",
    "    else:\n",
    "        config_str = config_str[1:-1]\n",
    "    table_list.append(\n",
    "        [rh['iteration_id'], result, config_str, rh['trial_state'], rh['cost']])\n",
    "    rh_config[str(rh['iteration_id'])] = rh['config']\n",
    "    data = []\n",
    "    for parameter in rh['config'].keys():\n",
    "        data.append(rh['config'][parameter])\n",
    "    data.append(result)\n",
    "    option['data'].append(data)\n",
    "    perf_list.append(result)"
   ]
  },
  {
   "cell_type": "code",
   "execution_count": null,
   "metadata": {
    "collapsed": false,
    "pycharm": {
     "name": "#%%\n"
    }
   },
   "outputs": [],
   "source": [
    "table_list"
   ]
  },
  {
   "cell_type": "code",
   "execution_count": null,
   "metadata": {
    "collapsed": false,
    "pycharm": {
     "name": "#%%\n"
    }
   },
   "outputs": [],
   "source": [
    "rh_config"
   ]
  },
  {
   "cell_type": "code",
   "execution_count": null,
   "metadata": {
    "collapsed": false,
    "pycharm": {
     "name": "#%%\n"
    }
   },
   "outputs": [],
   "source": [
    "option"
   ]
  },
  {
   "cell_type": "code",
   "execution_count": null,
   "metadata": {
    "collapsed": false,
    "pycharm": {
     "name": "#%%\n"
    }
   },
   "outputs": [],
   "source": [
    "perf_list"
   ]
  },
  {
   "cell_type": "code",
   "execution_count": null,
   "metadata": {
    "collapsed": false,
    "pycharm": {
     "name": "#%%\n"
    }
   },
   "outputs": [],
   "source": [
    "import numpy as np\n",
    "if len(json_data) > 0:\n",
    "    option['schema'] = list(json_data[0]['config'].keys()) + ['perf']\n",
    "    option['visualMap']['min'] = np.percentile(perf_list, 0)\n",
    "    option['visualMap']['max'] = np.percentile(perf_list, 90)\n",
    "    option['visualMap']['dimension'] = len(option['schema']) - 1\n",
    "else:\n",
    "    option['visualMap']['min'] = 0\n",
    "    option['visualMap']['max'] = 100\n",
    "    option['visualMap']['dimension'] = 0"
   ]
  },
  {
   "cell_type": "code",
   "execution_count": null,
   "metadata": {
    "collapsed": false,
    "pycharm": {
     "name": "#%%\n"
    }
   },
   "outputs": [],
   "source": [
    "option"
   ]
  },
  {
   "cell_type": "code",
   "execution_count": null,
   "metadata": {
    "collapsed": false,
    "pycharm": {
     "name": "#%%\n"
    }
   },
   "outputs": [],
   "source": [
    "line_data = {'min': [], 'over': [], 'scat': []}\n",
    "import sys\n",
    "\n",
    "min_value = sys.maxsize\n",
    "\n",
    "for idx, perf in enumerate(perf_list):\n",
    "    if perf <= min_value:\n",
    "        min_value = perf\n",
    "        line_data['min'].append([idx, perf])\n",
    "        line_data['scat'].append([idx, perf])\n",
    "    else:\n",
    "        line_data['over'].append([idx, perf])\n",
    "line_data['min'].append([len(option['data']), min_value])"
   ]
  },
  {
   "cell_type": "code",
   "execution_count": null,
   "metadata": {
    "collapsed": false,
    "pycharm": {
     "name": "#%%\n"
    }
   },
   "outputs": [],
   "source": [
    "line_data"
   ]
  },
  {
   "cell_type": "code",
   "execution_count": 1,
   "metadata": {
    "collapsed": false,
    "pycharm": {
     "name": "#%%\n"
    }
   },
   "outputs": [],
   "source": [
    "import re\n",
    "import os"
   ]
  },
  {
   "cell_type": "code",
   "source": [
    "visual_json_path = os.path.join(os.path.join(os.path.abspath(\".\"), 'bo_history'), 'visual_bo_history_test_01.json')\n",
    "tmp_path = os.path.join(os.path.abspath(\".\"), 'visualization/templates/visual_template.html')\n",
    "html_path = os.path.join(os.path.join(os.path.abspath(\".\"), 'visualization'), 'bo_visualization.html')"
   ],
   "metadata": {
    "collapsed": false,
    "pycharm": {
     "name": "#%%\n"
    }
   },
   "execution_count": 23,
   "outputs": []
  },
  {
   "cell_type": "code",
   "execution_count": 3,
   "outputs": [
    {
     "data": {
      "text/plain": "'D:\\\\xbc\\\\Fighting\\\\AutoML\\\\openbox\\\\visualization\\\\open-box\\\\visualization/templates/visual_template.html'"
     },
     "execution_count": 3,
     "metadata": {},
     "output_type": "execute_result"
    }
   ],
   "source": [
    "tmp_path"
   ],
   "metadata": {
    "collapsed": false,
    "pycharm": {
     "name": "#%%\n"
    }
   }
  },
  {
   "cell_type": "code",
   "execution_count": 4,
   "outputs": [],
   "source": [
    "html_text = ''\n",
    "with open(tmp_path, 'r') as f:\n",
    "    html_text = f.read()\n"
   ],
   "metadata": {
    "collapsed": false,
    "pycharm": {
     "name": "#%%\n"
    }
   }
  },
  {
   "cell_type": "code",
   "execution_count": 5,
   "outputs": [
    {
     "data": {
      "text/plain": "'<!DOCTYPE html>\\n<html>\\n<head>\\n    <title>openbox visualiztion</title>\\n    <meta charset=\"UTF-8\">\\n    \\n</head>\\n<body>\\n    <script>\\n        document.write(\\'<h1>visualization</h1>\\');\\n    </script>\\n    <script type=\"text/javascript\" src=\"json_path\"></script>\\n    <script>\\n        // document.write(typeof(data));\\n        document.write(\\'<div>task_id: \\' + info.data[0].task_id + \\'</div><br></br>\\');\\n        for (var i=0, len=info.data.length; i<len; i++){\\n            document.write(\\'<div>iteration_id: \\' + info.data[i].iteration_id + \\'</div>\\');\\n            document.write(\\'<div>objs: \\' + info.data[i].objs + \\'</div>\\');\\n            document.write(\\'<br></br>\\');\\n        }\\n    </script>\\n</body>\\n</html>'"
     },
     "execution_count": 5,
     "metadata": {},
     "output_type": "execute_result"
    }
   ],
   "source": [
    "html_text"
   ],
   "metadata": {
    "collapsed": false,
    "pycharm": {
     "name": "#%%\n"
    }
   }
  },
  {
   "cell_type": "code",
   "execution_count": 24,
   "outputs": [],
   "source": [
    "result = re.sub(\"<script type=\\\"text/javascript\\\" src=\\\"json_path\\\"></script>\", \"<script type=\\\"text/javascript\\\" src=\" + repr(visual_json_path) + \"></script>\", html_text)"
   ],
   "metadata": {
    "collapsed": false,
    "pycharm": {
     "name": "#%%\n"
    }
   }
  },
  {
   "cell_type": "code",
   "execution_count": 25,
   "outputs": [
    {
     "name": "stdout",
     "output_type": "stream",
     "text": [
      "<!DOCTYPE html>\n",
      "<html>\n",
      "<head>\n",
      "    <title>openbox visualiztion</title>\n",
      "    <meta charset=\"UTF-8\">\n",
      "    \n",
      "</head>\n",
      "<body>\n",
      "    <script>\n",
      "        document.write('<h1>visualization</h1>');\n",
      "    </script>\n",
      "    <script type=\"text/javascript\" src='D:\\xbc\\Fighting\\AutoML\\openbox\\visualization\\open-box\\bo_history\\visual_bo_history_test_01.json'></script>\n",
      "    <script>\n",
      "        // document.write(typeof(data));\n",
      "        document.write('<div>task_id: ' + info.data[0].task_id + '</div><br></br>');\n",
      "        for (var i=0, len=info.data.length; i<len; i++){\n",
      "            document.write('<div>iteration_id: ' + info.data[i].iteration_id + '</div>');\n",
      "            document.write('<div>objs: ' + info.data[i].objs + '</div>');\n",
      "            document.write('<br></br>');\n",
      "        }\n",
      "    </script>\n",
      "</body>\n",
      "</html>\n"
     ]
    }
   ],
   "source": [
    "print(result)"
   ],
   "metadata": {
    "collapsed": false,
    "pycharm": {
     "name": "#%%\n"
    }
   }
  },
  {
   "cell_type": "code",
   "execution_count": 26,
   "outputs": [],
   "source": [
    "with open(html_path, \"w+\") as f:\n",
    "    f.write(result)"
   ],
   "metadata": {
    "collapsed": false,
    "pycharm": {
     "name": "#%%\n"
    }
   }
  },
  {
   "cell_type": "code",
   "execution_count": null,
   "outputs": [],
   "source": [],
   "metadata": {
    "collapsed": false,
    "pycharm": {
     "name": "#%%\n"
    }
   }
  }
 ],
 "metadata": {
  "kernelspec": {
   "display_name": "Python 3.8.13 ('my_openbox')",
   "language": "python",
   "name": "python3"
  },
  "language_info": {
   "codemirror_mode": {
    "name": "ipython",
    "version": 3
   },
   "file_extension": ".py",
   "mimetype": "text/x-python",
   "name": "python",
   "nbconvert_exporter": "python",
   "pygments_lexer": "ipython3",
   "version": "3.8.13"
  },
  "orig_nbformat": 4,
  "vscode": {
   "interpreter": {
    "hash": "4f7e0be0300b7d5f6b3fe5ea9ddbb8e167d22210f5ef38db82ffb5e565575d56"
   }
  }
 },
 "nbformat": 4,
 "nbformat_minor": 2
}